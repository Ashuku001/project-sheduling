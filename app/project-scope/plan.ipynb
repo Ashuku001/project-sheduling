{
 "cells": [
  {
   "cell_type": "markdown",
   "metadata": {},
   "source": [
    "# Problem\n",
    "To understand the scope of a project we first need the amount of materials required. <br>\n",
    "Generally an estimation engineer review construction documents and blue prints after which <br>\n",
    "he or she lists the materials required, this activity is the onset of preparing BoQs. <br>\n",
    "However, BIM softwares that can model objects in 3D can give BoQs. <br>\n",
    "\n",
    "To perform project planning and scheduling we first of all must understand the scope of the project. <br>\n",
    "Lets automate that by exploring document AI.\n",
    "\n",
    "# Solution\n",
    "To create a service to process blue prints and perform material takeoff. The key <br>\n",
    "machine learning concepts to consider is Object Detection (to count objects like doors, windows, sanitary items, columns etc) <br>\n",
    "We also need Image segmentation for identifying areas like walls or floors <br>\n",
    "And Optical Character Recognition to extract dimensions and textual annotations from the blue print.\n"
   ]
  }
 ],
 "metadata": {
  "language_info": {
   "name": "python"
  }
 },
 "nbformat": 4,
 "nbformat_minor": 2
}
