{
 "cells": [
  {
   "cell_type": "code",
   "execution_count": null,
   "metadata": {},
   "outputs": [],
   "source": [
    "!pip install neo4j python-dotenv pandas pyvis pydantic fastapi python-multipart matplotlib pandas"
   ]
  },
  {
   "cell_type": "code",
   "execution_count": null,
   "metadata": {},
   "outputs": [],
   "source": [
    "pip install  uvicorn[\"standard\"]"
   ]
  },
  {
   "cell_type": "code",
   "execution_count": 140,
   "metadata": {},
   "outputs": [],
   "source": [
    "import os\n",
    "os.environ[\"NEO4J_DB\"]= \"neo4j\"\n",
    "NEO4J_DB = os.getenv(\"NEO4J_DB\")"
   ]
  },
  {
   "cell_type": "code",
   "execution_count": 188,
   "metadata": {},
   "outputs": [
    {
     "name": "stdout",
     "output_type": "stream",
     "text": [
      "Connection established.\n"
     ]
    }
   ],
   "source": [
    "from neo4j import GraphDatabase\n",
    "\n",
    "# URI examples: \"neo4j://localhost\", \"neo4j+s://xxx.databases.neo4j.io\"\n",
    "URI = \"bolt://localhost:7687\"\n",
    "AUTH = (NEO4J_DB, \"password\")\n",
    "\n",
    "with GraphDatabase.driver(URI, auth=AUTH, database=NEO4J_DB) as driver: # explicit db allows the driver to work more efficiently\n",
    "        driver.verify_connectivity()\n",
    "        print(\"Connection established.\")"
   ]
  },
  {
   "cell_type": "markdown",
   "metadata": {},
   "source": [
    "_____"
   ]
  },
  {
   "cell_type": "markdown",
   "metadata": {},
   "source": [
    "## Project Activity Schema"
   ]
  },
  {
   "cell_type": "code",
   "execution_count": 142,
   "metadata": {},
   "outputs": [],
   "source": [
    "from pydantic import BaseModel\n",
    "from enum import Enum\n",
    "from typing import Optional, Union\n",
    "\n",
    "# can either be lead or lag\n",
    "class RelationEnum(str, Enum):\n",
    "    finishToStart = \"finish-to-start\" # a dependent activity cannot start until its predecessor finish (default)\n",
    "    startToStart = \"start-to-start\" # a dependent activity cannot start until predencessor has started\n",
    "    finishToFinish = \"finish-to-finish\" # a dependent activity cannot finish until its predecessor is finished\n",
    "    startToFinish = \"start-to-finish\" # a depended activity cannot finish until its predecessor has started\n",
    "\n",
    "class Activity(BaseModel):\n",
    "    earlyStart: Optional[int] = None\n",
    "    earlyFinish: Optional[int] = None\n",
    "    latestStart: Optional[int] = None\n",
    "    latestFinish: Optional[int] = None\n",
    "    duration: Optional[int]\n",
    "    name: Optional[str]\n",
    "    description: Optional[str] = None\n",
    "    totalFloat: Optional[int] = None\n",
    "    freeFloat: Optional[int] = None\n",
    "    independentFloat: Optional[int] = None\n",
    "    # TODO how does this activity consume time and resources\n",
    "\n",
    "class Predecessor(BaseModel):\n",
    "    id: Union[str, int]\n",
    "    earlyStart: Optional[int]\n",
    "    earlyFinish: Optional[int]\n",
    "\n",
    "class Relationship(BaseModel):\n",
    "    activity: Predecessor\n",
    "    type: RelationEnum = \"finish-to-start\"\n",
    "    duration: Optional[int] = 0\n"
   ]
  },
  {
   "cell_type": "markdown",
   "metadata": {},
   "source": [
    "## Resource Allocaion Schema\n",
    "We can think of introducing geofenced cost of resources like how it is done in products. This data will be used in price analysis for BoQs"
   ]
  },
  {
   "cell_type": "markdown",
   "metadata": {},
   "source": [
    "### Labour"
   ]
  },
  {
   "cell_type": "code",
   "execution_count": 36,
   "metadata": {},
   "outputs": [],
   "source": [
    "class SkillEnum(str, Enum):\n",
    "    plumbing = \"plumbing\"\n",
    "    masonry = \"masonry\"\n",
    "\n",
    "class RateEnum(str, Enum):\n",
    "    perHour = \"per-hour\"\n",
    "    perDay = \"per-day\"\n",
    "\n",
    "class GroupEnum(str, Enum):\n",
    "    example = \"example\"\n",
    "\n",
    "class Job(BaseModel):\n",
    "    title: str  # e.g., construction manager, resident engineer, driver, site agent etc\n",
    "\n",
    "class Skill(BaseModel):\n",
    "    type: SkillEnum # e.g, plumbing, masonry etc\n",
    "    rate: RateEnum # per hour or per day\n",
    "    renumeration: float\n",
    "    total: int\n",
    "    available: int\n",
    "    \n",
    "# to authenticate into the system\n",
    "class Employee(BaseModel):\n",
    "    name: str\n",
    "    password: Optional[str]\n",
    "    username: Optional[str]\n",
    "    group: Optional[GroupEnum]\n",
    "    job: Job\n",
    "\n",
    "class EmployeSkill(BaseModel):\n",
    "    skill: Skill\n",
    "    employee: Employee\n"
   ]
  },
  {
   "cell_type": "markdown",
   "metadata": {},
   "source": [
    "### Equiment"
   ]
  },
  {
   "cell_type": "code",
   "execution_count": 37,
   "metadata": {},
   "outputs": [],
   "source": [
    "class EquipmentSourceEnum(str, Enum):\n",
    "    purchase = \"purchase\"\n",
    "    leasing = \"leasing\"  # for a period of time may include purchase option\n",
    "    renting = \"renting\"  # only when it is available\n",
    "\n",
    "class Equipment(BaseModel):\n",
    "    name: str\n",
    "    description: str\n",
    "    source: EquipmentSourceEnum\n",
    "    rate: RateEnum\n",
    "    cost: float\n",
    "    transportCost: float = 0"
   ]
  },
  {
   "cell_type": "markdown",
   "metadata": {},
   "source": [
    "### RawMaterial\n",
    "Here is where Jumba ecosystem is integrated. Depending on requirements of the project Jumba will be used as a procurement partner since it handles material sourcing and logistics."
   ]
  },
  {
   "cell_type": "code",
   "execution_count": 38,
   "metadata": {},
   "outputs": [],
   "source": [
    "class Material(BaseModel):\n",
    "    name: str\n",
    "    description: str # include the variance e.g., if cement what type rapid curing or normal curing\n",
    "    quantity: int\n",
    "    unitCost: int  # geofenced price"
   ]
  },
  {
   "cell_type": "markdown",
   "metadata": {},
   "source": [
    "## Resource Allocation Logic\n",
    "TODO: decide allocate resource when creating an activity or after all activities have been created\n",
    "### Goal\n",
    "- Is the resource available, if not what actions to perform to make it available e.g., alert user, or AI agents to create orders for material or equipment and user just confirms for them to be brought to site at specific days \n",
    "- What is the cost of allocating the resource required by the activity. ( information be used in price analysis for BoQ)\n",
    "- A resouce might not meet the requirement so what is the deficit\n",
    "\n",
    "This allocation should be on a timeline where we release resources e.g., equipment once an activity is done so that is available for the subsequent activities. Advance the resource allocation which have constraints to suggest optimal use of resources to ensure no wastage.\n",
    "\n",
    "- Each ACTIVITY will have a corresponding ALLOCATION node (store resource allocated metadata i.e., the cost of the allocation depending on geofencing)\n",
    "- An activity requests for a resouce to this allocation node by a dependency REQUIRES\n",
    "- Perform DB query to get the resource\n",
    "    - For materials Jumba's ecosystem will calculate the unitCost, shipping cost and constraints e.g., MoQ for the materials\n",
    "    - For equipment Jumba can introduce this line of products for leasing, renting or purchasing unitCost and transportation cost\n",
    "    - Labour on the contractors part a DBMS with the skills available to the contractor and cost of this labour. For manual labour consider introducing an external app like JumbaGo. We will have a labour contractor who adds the skills available to him or her.\n",
    "- From this allocations will act as saving best practice (a need in civil works for documenting the best practices in implementations)"
   ]
  },
  {
   "cell_type": "code",
   "execution_count": null,
   "metadata": {},
   "outputs": [],
   "source": [
    "# check if allocation is full\n",
    "\"\"\"MATCH (n {name: \"Genesis\"})-[requires:REQUIRES]->(allocation:ALLOCATION) \n",
    "MATCH (n)-[allocated:ALLOCATED]->(allocation:ALLOCATION)\n",
    "RETURN requires.quantity as requiredQuantity, n.quantity as allocatedQuantity\"\"\""
   ]
  },
  {
   "cell_type": "code",
   "execution_count": null,
   "metadata": {},
   "outputs": [],
   "source": [
    "# an activity requires a resource (activity is requesting a resource)\n",
    "\"\"\"CREATE (activity:ACTIVITY) ... RETURN ID(activity) as activityID\"\"\""
   ]
  },
  {
   "cell_type": "markdown",
   "metadata": {},
   "source": [
    "### Allocating Labour"
   ]
  },
  {
   "cell_type": "code",
   "execution_count": null,
   "metadata": {},
   "outputs": [],
   "source": [
    "# aget the activity\n",
    "\"\"\"MATCH (activity:ACTIVITY) WHERE ID(activity) = $activityID\"\"\"\n",
    "\n",
    "# from the required resource\n",
    "# Query DB for the resource (predefined skills the company has) to get the cost of this resource according to geofencing, and if available and amount available\n",
    "# save it in a variable resource\n",
    "# update the allocation with the metadata of the resources according to geofencing also constraints of delivering the labour\n",
    "\n",
    "# create an allocation for the activity if the activity requires resource\n",
    "\"\"\"CREATE (allocation: ALLOCATION {activityID: $activityID})\"\"\"\n",
    "# create a relationship between the activity and allocation\n",
    "\"\"\"(activity)-[requires:REQUIRES {type: labour, name:'plumbing', quantity: 5}]->(allocation)\"\"\" # activity expects  ... in the allocation\n",
    "\n",
    "\"\"\"SET allocation.unitCost = $resource.unitCost, allocation.rate = resource.rate  \"\"\" # required.quantity x allocaition.unitCost = price analysis for resource\n",
    "\n",
    "# What has been allocated depending the resource constraints e.g., available_quantity, \n",
    "# with MoQ will result to wastage (manufacturer and developer relationship to get exact quantity required)\n",
    "\"\"\"CREATE (allocation) - [:ALLOCATED {quantity: 5}] -> (acitivity)\"\"\""
   ]
  },
  {
   "cell_type": "markdown",
   "metadata": {},
   "source": [
    "### Allocating material\n",
    "Query DB for the materials Jumba has and its cost in terms of geofencing. If not available i.e., the cost is not available aleart someone (Jumba and User)"
   ]
  },
  {
   "cell_type": "code",
   "execution_count": null,
   "metadata": {},
   "outputs": [],
   "source": [
    "# aget the activity\n",
    "\"\"\"MATCH (activity:ACTIVITY) WHERE ID(activity) = $activityID\"\"\"\n",
    "\n",
    "# from the required resource\n",
    "# Query DB for the resource (predefined resources that Jumba can deliver within their procurement) to get the cost of this resource according to geofencing, and if available and amount available\n",
    "# save it in a variable resource\n",
    "# update the allocation with the metadata of the resources according to geofencing also constraints of delivering the material e.g., MoQ\n",
    "\n",
    "# create an allocation for the activity if the activity requires resource\n",
    "\"\"\"CREATE (allocation: ALLOCATION {activityID: $activityID})\"\"\"\n",
    "# create a relationship between the activity and allocation\n",
    "\"\"\"(activity)-[requires:REQUIRES {type: material, name:cement, quantity: 5}]->(allocation)\"\"\" # activity expects  ... in the allocation\n",
    "\n",
    "\"\"\"\n",
    "    SET allocation.unitCost = $resource.unitCost, allocation.moq = resource.moq  \"\"\" # required.quantity x allocaition.unitCost = price analysis for resource\n",
    "\n",
    "# What has been allocated depending the resource constraints e.g., available_quantity, \n",
    "# with MoQ will result to wastage (manufacturer and developer relationship to get exact quantity required)\n",
    "\"\"\"CREATE (allocation) - [:ALLOCATED {quantity: 5}] -> (acitivity)\"\"\""
   ]
  },
  {
   "cell_type": "markdown",
   "metadata": {},
   "source": [
    "### Allocating equipment"
   ]
  },
  {
   "cell_type": "code",
   "execution_count": null,
   "metadata": {},
   "outputs": [],
   "source": [
    "# aget the activity\n",
    "\"\"\"MATCH (activity:ACTIVITY) WHERE ID(activity) = $activityID\"\"\"\n",
    "\n",
    "# from the required resource\n",
    "# Query DB for the resource (predefined resources that Jumba can deliver within their procurement) to get the cost of this resource according to geofencing, and if available and amount available\n",
    "# save it in a variable resource\n",
    "# update the allocation with the metadata of the resources according to geofencing and constraints\n",
    "\n",
    "# create an allocation for the activity if the activity requires resource\n",
    "\"\"\"CREATE (allocation: ALLOCATION {activityID: $activityID})\"\"\"\n",
    "# create a relationship between the activity and allocation\n",
    "\"\"\"(activity)-[requires:REQUIRES {type: equiment, name:crane, quantity: 2}]->(allocation)\"\"\" # activity expects  ... in the allocation\n",
    "\n",
    "\"\"\"SET allocation.unitCost = $resource.unitCost, allocation.rate = $allocation.rate \"\"\" # required.quantity x allocaition.unitCost = price analysis for resource\n",
    "\n",
    "\"\"\"CREATE (allocation) - [:ALLOCATED {quantity: 1}] -> (acitivity)\"\"\""
   ]
  },
  {
   "cell_type": "code",
   "execution_count": 144,
   "metadata": {},
   "outputs": [],
   "source": [
    "def formatter(records):\n",
    "    # Loop through results and do something with them\n",
    "    for record in records:\n",
    "        return record.data() # obtain record as dict"
   ]
  },
  {
   "cell_type": "code",
   "execution_count": 171,
   "metadata": {},
   "outputs": [],
   "source": [
    "def resetGraph():\n",
    "    try:\n",
    "        with driver.session(database=NEO4J_DB) as session:\n",
    "            session.run(\"\"\"MATCH (n:ACTIVITY) SET n += {earlyStart: NULL, earlyFinish: NULL, latestStart: 0, latestFinish: 0}\"\"\")\n",
    "        return\n",
    "    except Exception as e:\n",
    "        raise e"
   ]
  },
  {
   "cell_type": "markdown",
   "metadata": {},
   "source": [
    "## Start Node"
   ]
  },
  {
   "cell_type": "markdown",
   "metadata": {},
   "source": [
    "Create a start node since we are using activity on node. This will be connecting activities that do not have predecessors"
   ]
  },
  {
   "cell_type": "code",
   "execution_count": 189,
   "metadata": {},
   "outputs": [
    {
     "name": "stderr",
     "output_type": "stream",
     "text": [
      "/var/folders/pq/j682cyjd7cb0xq6g_rj_397w0000gn/T/ipykernel_2486/2761465347.py:4: DeprecationWarning: Using a driver after it has been closed is deprecated. Future versions of the driver will raise an error.\n",
      "  with driver.session(database=NEO4J_DB) as session:\n"
     ]
    },
    {
     "name": "stdout",
     "output_type": "stream",
     "text": [
      "The result has been consumed. Fetch all needed records before calling Result.consume().\n"
     ]
    }
   ],
   "source": [
    "# create the start node\n",
    "def initiateProjectSchedule():\n",
    "    try:\n",
    "        with driver.session(database=NEO4J_DB) as session:\n",
    "            results = session.run(\"\"\"\n",
    "                MERGE (start:START {name: $name, description: $description, duration: 0, earlyStart: 0, earlyFinish: 0, latestStart: 0, latestFinish: 0})\n",
    "                RETURN start\n",
    "            \"\"\",\n",
    "            name = \"Genesis\",\n",
    "            description = \"This marks the start of your project no resources are consumed\"\n",
    "            )\n",
    "        return formatter(results)\n",
    "    except Exception as e:\n",
    "        print(e)\n",
    "initiateProjectSchedule()"
   ]
  },
  {
   "cell_type": "markdown",
   "metadata": {},
   "source": [
    "## Activity Node and Edge\n",
    "Create activity together with dependencies between each other or start node"
   ]
  },
  {
   "cell_type": "code",
   "execution_count": null,
   "metadata": {},
   "outputs": [],
   "source": [
    "# create node without calculating early start and early finish\n",
    "\"\"\"CREATE (activity:ACTIVITY {name: $name, description: $description, duration: $duration})\n",
    "                    WITH activity, $predecessors as batch\n",
    "                    UNWIND batch as dependency\n",
    "                    MATCH (predecessor:ACTIVITY)\n",
    "                    WHERE ID(predecessor) = dependency.activity.id\n",
    "                    CREATE (activity)<-[:DEPENDS_ON {type: dependency.type, duration: dependency.duration}]-(predecessor)\"\"\"\n",
    "\n",
    "# TODO: create an activity and calculate earlyStart and early finish. User will see in real time time taken to finish project "
   ]
  },
  {
   "cell_type": "code",
   "execution_count": 185,
   "metadata": {},
   "outputs": [],
   "source": [
    "# depends on will be the ID of the predecessor activities\n",
    "def createActivity(activity: Activity, predecessors: list[Relationship] = []):\n",
    "    \n",
    "    try:\n",
    "        with driver.session(database=\"neo4j\") as session:\n",
    "            if len(predecessors):\n",
    "                predecessors = [{\"activity\": vars(obj.activity), \"type\": obj.type, \"duration\": obj.duration} for obj in predecessors] # serialize the objects\n",
    "                # activity has predecessors\n",
    "                session.run(\"\"\"\n",
    "                    CREATE (activity:ACTIVITY {name: $name, description: $description, duration: $duration})\n",
    "                    WITH activity, $predecessors as batch\n",
    "                    UNWIND batch as dependency\n",
    "                    MATCH (predecessor:ACTIVITY)\n",
    "                    WHERE ID(predecessor) = dependency.activity.id\n",
    "                    CREATE (activity)<-[:DEPENDS_ON {type: dependency.type, duration: dependency.duration}]-(predecessor)\"\"\", predecessors=predecessors, name=activity.name, description=activity.description, duration=activity.duration)\n",
    "\n",
    "            else:\n",
    "                # Activity has no predecessor start nodes\n",
    "                session.run(\"\"\"\n",
    "                        MATCH (genesis:START {name: \"Genesis\"})\n",
    "                        CREATE (start:ACTIVITY {name: $name, description: $description, duration: $duration, earlyStart: COALESCE(genesis.earlyFinish, 0), earlyFinish: COALESCE(genesis.earlyFinish, 0) + COALESCE($duration, 0)})\n",
    "                        CREATE (start)<-[:START_ON]-(genesis)\n",
    "                    \"\"\", \n",
    "                    name = activity.name,\n",
    "                    description = activity.description,\n",
    "                    duration = activity.duration)\n",
    "    except Exception as e:\n",
    "        print(\"ERROR >>>>>>\", e)\n",
    "        raise e"
   ]
  },
  {
   "cell_type": "markdown",
   "metadata": {},
   "source": [
    "#### An activity without a dependency\n",
    "The reason we needed a genesis node"
   ]
  },
  {
   "cell_type": "code",
   "execution_count": 190,
   "metadata": {},
   "outputs": [
    {
     "name": "stderr",
     "output_type": "stream",
     "text": [
      "/var/folders/pq/j682cyjd7cb0xq6g_rj_397w0000gn/T/ipykernel_2486/957168057.py:5: DeprecationWarning: Using a driver after it has been closed is deprecated. Future versions of the driver will raise an error.\n",
      "  with driver.session(database=\"neo4j\") as session:\n"
     ]
    }
   ],
   "source": [
    "# creating the first activity with no dependecy\n",
    "createActivity(Activity(name=\"Excavation\", description=\"It is just digging staff\", duration=10))"
   ]
  },
  {
   "cell_type": "code",
   "execution_count": 191,
   "metadata": {},
   "outputs": [
    {
     "name": "stderr",
     "output_type": "stream",
     "text": [
      "/var/folders/pq/j682cyjd7cb0xq6g_rj_397w0000gn/T/ipykernel_2486/957168057.py:5: DeprecationWarning: Using a driver after it has been closed is deprecated. Future versions of the driver will raise an error.\n",
      "  with driver.session(database=\"neo4j\") as session:\n"
     ]
    }
   ],
   "source": [
    "# creating the second activity with no dependecy\n",
    "createActivity(Activity(name=\"soil test\", description=\"Confirming strength of soil\", duration=3))"
   ]
  },
  {
   "cell_type": "markdown",
   "metadata": {},
   "source": [
    "### Activity with more tha one predecessor"
   ]
  },
  {
   "cell_type": "code",
   "execution_count": 192,
   "metadata": {},
   "outputs": [
    {
     "name": "stderr",
     "output_type": "stream",
     "text": [
      "/var/folders/pq/j682cyjd7cb0xq6g_rj_397w0000gn/T/ipykernel_2486/957168057.py:5: DeprecationWarning: Using a driver after it has been closed is deprecated. Future versions of the driver will raise an error.\n",
      "  with driver.session(database=\"neo4j\") as session:\n",
      "Received notification from DBMS server: {severity: WARNING} {code: Neo.ClientNotification.Statement.FeatureDeprecationWarning} {category: DEPRECATION} {title: This feature is deprecated and will be removed in future versions.} {description: The query used a deprecated function: `id`.} {position: line: 6, column: 27, offset: 290} for query: '\\n                    CREATE (activity:ACTIVITY {name: $name, description: $description, duration: $duration})\\n                    WITH activity, $predecessors as batch\\n                    UNWIND batch as dependency\\n                    MATCH (predecessor:ACTIVITY)\\n                    WHERE ID(predecessor) = dependency.activity.id\\n                    CREATE (activity)<-[:DEPENDS_ON {type: dependency.type, duration: dependency.duration}]-(predecessor)'\n"
     ]
    }
   ],
   "source": [
    "# has more than one predecessor\n",
    "predecessors = [\n",
    "    Relationship(activity=Predecessor(id = 1, earlyStart=0, earlyFinish=10), duration = 0),\n",
    "    Relationship(activity=Predecessor(id = 2, earlyStart=0, earlyFinish=3), duration = 7),\n",
    "]\n",
    "createActivity(Activity(name=\"Poor foundation\", description=\"placing foundation according to design\", duration=2), predecessors=predecessors)"
   ]
  },
  {
   "cell_type": "markdown",
   "metadata": {},
   "source": [
    "### Activity with 1 predecessor"
   ]
  },
  {
   "cell_type": "code",
   "execution_count": 193,
   "metadata": {},
   "outputs": [
    {
     "name": "stderr",
     "output_type": "stream",
     "text": [
      "/var/folders/pq/j682cyjd7cb0xq6g_rj_397w0000gn/T/ipykernel_2486/957168057.py:5: DeprecationWarning: Using a driver after it has been closed is deprecated. Future versions of the driver will raise an error.\n",
      "  with driver.session(database=\"neo4j\") as session:\n",
      "Received notification from DBMS server: {severity: WARNING} {code: Neo.ClientNotification.Statement.FeatureDeprecationWarning} {category: DEPRECATION} {title: This feature is deprecated and will be removed in future versions.} {description: The query used a deprecated function: `id`.} {position: line: 6, column: 27, offset: 290} for query: '\\n                    CREATE (activity:ACTIVITY {name: $name, description: $description, duration: $duration})\\n                    WITH activity, $predecessors as batch\\n                    UNWIND batch as dependency\\n                    MATCH (predecessor:ACTIVITY)\\n                    WHERE ID(predecessor) = dependency.activity.id\\n                    CREATE (activity)<-[:DEPENDS_ON {type: dependency.type, duration: dependency.duration}]-(predecessor)'\n"
     ]
    }
   ],
   "source": [
    "# has one predecessor\n",
    "predecessors = [\n",
    "    Relationship(activity=Predecessor(id = 3, earlyStart=0, earlyFinish=10), duration = 0),\n",
    "]\n",
    "createActivity(Activity(name=\"Curing\", description=\"cure for 7 days\", duration=7), predecessors=predecessors)"
   ]
  },
  {
   "cell_type": "markdown",
   "metadata": {},
   "source": [
    "### Activity with three predecessors"
   ]
  },
  {
   "cell_type": "code",
   "execution_count": 194,
   "metadata": {},
   "outputs": [
    {
     "name": "stderr",
     "output_type": "stream",
     "text": [
      "/var/folders/pq/j682cyjd7cb0xq6g_rj_397w0000gn/T/ipykernel_2486/957168057.py:5: DeprecationWarning: Using a driver after it has been closed is deprecated. Future versions of the driver will raise an error.\n",
      "  with driver.session(database=\"neo4j\") as session:\n",
      "Received notification from DBMS server: {severity: WARNING} {code: Neo.ClientNotification.Statement.FeatureDeprecationWarning} {category: DEPRECATION} {title: This feature is deprecated and will be removed in future versions.} {description: The query used a deprecated function: `id`.} {position: line: 6, column: 27, offset: 290} for query: '\\n                    CREATE (activity:ACTIVITY {name: $name, description: $description, duration: $duration})\\n                    WITH activity, $predecessors as batch\\n                    UNWIND batch as dependency\\n                    MATCH (predecessor:ACTIVITY)\\n                    WHERE ID(predecessor) = dependency.activity.id\\n                    CREATE (activity)<-[:DEPENDS_ON {type: dependency.type, duration: dependency.duration}]-(predecessor)'\n"
     ]
    }
   ],
   "source": [
    "# has more than one predecessor\n",
    "# predecessors = [\n",
    "#     Relationship(activity=Predecessor(id = 30, earlyStart=0, earlyFinish=10), duration = 0),\n",
    "#     Relationship(activity=Predecessor(id = 31, earlyStart=0, earlyFinish=10), duration = 0),\n",
    "#     Relationship(activity=Predecessor(id = 3, earlyStart=0, earlyFinish=10), duration = 0),\n",
    "# ]\n",
    "predecessors = [\n",
    "    Relationship(activity=Predecessor(id = 4, earlyStart=0, earlyFinish=10), duration = 0),\n",
    "    Relationship(activity=Predecessor(id = 2, earlyStart=0, earlyFinish=10), duration = 0),\n",
    "    Relationship(activity=Predecessor(id = 3, earlyStart=0, earlyFinish=10), duration = 0),\n",
    "]\n",
    "createActivity(Activity(name=\"Inspection\", description=\"Inspect the foundation before back filling\", duration=1), predecessors=predecessors)"
   ]
  },
  {
   "cell_type": "markdown",
   "metadata": {},
   "source": [
    "## Graph Traversing\n",
    "\n",
    "For scheduling constraints between the activities or tasks in the graph must be a Directed Acyclic Graph \n",
    "\n",
    "TODO: ensure in UI user always creates an asyclic graph.\n",
    "\n",
    "There is a direction in the dependency of tasks and due to precedence among activities the graph is acyclic.\n",
    "\n",
    "For this graph we need to have a Topological ordering such that any directed path in the graph traverses the nodes in an increasing order. \n",
    "\n",
    "And for this directed graph we may have more than on topological order if graph some parts are not connected.\n",
    "\n",
    "TODO: Confirm possibility of more than 1 topological ordering of an acyclic graph"
   ]
  },
  {
   "cell_type": "markdown",
   "metadata": {},
   "source": [
    "### Forward Pass\n",
    "To calculate early start and early finish\n",
    "There is precedence within the activities\n",
    "ESj = Max(EFpredecessors)\n",
    "EFj = ESj + tj\n",
    "\n",
    "- get all activity nodes in array\n",
    "- calculate topological order according to relationship DEPENDS_ON for each activity (might be expensive for large graphs)\n",
    "- for each activity node get its predecessors\n",
    "- value of duration of the relationship\n",
    "- use formula above to get EF and ES of current activity"
   ]
  },
  {
   "cell_type": "code",
   "execution_count": 180,
   "metadata": {},
   "outputs": [
    {
     "name": "stderr",
     "output_type": "stream",
     "text": [
      "/var/folders/pq/j682cyjd7cb0xq6g_rj_397w0000gn/T/ipykernel_2486/2208015251.py:3: DeprecationWarning: Using a driver after it has been closed is deprecated. Future versions of the driver will raise an error.\n",
      "  with driver.session(database=NEO4J_DB) as session:\n"
     ]
    }
   ],
   "source": [
    "resetGraph()"
   ]
  },
  {
   "cell_type": "code",
   "execution_count": 196,
   "metadata": {},
   "outputs": [
    {
     "name": "stderr",
     "output_type": "stream",
     "text": [
      "/var/folders/pq/j682cyjd7cb0xq6g_rj_397w0000gn/T/ipykernel_2486/1363738353.py:3: DeprecationWarning: Using a driver after it has been closed is deprecated. Future versions of the driver will raise an error.\n",
      "  with driver.session(database=NEO4J_DB) as session:\n",
      "Received notification from DBMS server: {severity: WARNING} {code: Neo.ClientNotification.Statement.AggregationSkippedNull} {category: UNRECOGNIZED} {title: The query contains an aggregation function that skips null values.} {description: null value eliminated in set function.} {position: None} for query: '\\n                OPTIONAL MATCH (activity)<-[:DEPENDS_ON]-(predecessor:ACTIVITY)\\n                WITH activity, COUNT(predecessor) AS incomingDependencies\\n                OPTIONAL MATCH path = (activity)-[:DEPENDS_ON*]->(dependent:ACTIVITY)\\n                WITH activity, incomingDependencies, COALESCE(MAX(LENGTH(path)), 0) AS depth\\n                ORDER BY depth DESC, incomingDependencies ASC\\n                MATCH (activity:ACTIVITY)                                           // retrieve all tasks in graph\\n                OPTIONAL MATCH (activity)<-[:DEPENDS_ON]-(predecessor:ACTIVITY)     // for each activity match predecessors if it exists\\n                WITH activity, COLLECT(predecessor) AS predecessors                 // group all predecessor nodes into a list\\n                ORDER BY activity.depth ASC                                         // order activities by their depth from topological sort\\n                WITH activity,\\n                    REDUCE(maxFinish = 0, pred IN predecessors |                    //  Iterate over each predecessor for forward pass take max of predecessors early finish \\n                        CASE \\n                            WHEN pred.earlyFinish IS NOT NULL AND pred.earlyFinish > maxFinish THEN pred.earlyFinish  // get max early finish of predecessors\\n                            ELSE maxFinish \\n                        END) AS earlyStart                                          // the maxfinish in the predecessors will be the early start of current node  or 0 if no predecessors acc maxFinish = 0                     \\n                SET activity.earlyStart = COALESCE(earlyStart, 0),\\n                    activity.earlyFinish = COALESCE(earlyStart, 0) + activity.duration\\n                RETURN activity.name AS activityName, activity.earlyStart, activity.earlyFinish\\n                ORDER BY activity.depth ASC;\\n            '\n"
     ]
    }
   ],
   "source": [
    "def forwardPass():\n",
    "    try:\n",
    "        with driver.session(database=NEO4J_DB) as session:\n",
    "            session.run(\"\"\"\n",
    "                OPTIONAL MATCH (activity)<-[:DEPENDS_ON]-(predecessor:ACTIVITY)\n",
    "                WITH activity, COUNT(predecessor) AS incomingDependencies\n",
    "                OPTIONAL MATCH path = (activity)-[:DEPENDS_ON*]->(dependent:ACTIVITY)\n",
    "                WITH activity, incomingDependencies, COALESCE(MAX(LENGTH(path)), 0) AS depth\n",
    "                ORDER BY depth DESC, incomingDependencies ASC\n",
    "                MATCH (activity:ACTIVITY)                                           // retrieve all tasks in graph\n",
    "                OPTIONAL MATCH (activity)<-[:DEPENDS_ON]-(predecessor:ACTIVITY)     // for each activity match predecessors if it exists\n",
    "                WITH activity, COLLECT(predecessor) AS predecessors                 // group all predecessor nodes into a list\n",
    "                ORDER BY activity.depth ASC                                         // order activities by their depth from topological sort\n",
    "                WITH activity,\n",
    "                    REDUCE(maxFinish = 0, pred IN predecessors |                    //  Iterate over each predecessor for forward pass take max of predecessors early finish \n",
    "                        CASE \n",
    "                            WHEN pred.earlyFinish IS NOT NULL AND pred.earlyFinish > maxFinish THEN pred.earlyFinish  // get max early finish of predecessors\n",
    "                            ELSE maxFinish \n",
    "                        END) AS earlyStart                                          // the maxfinish in the predecessors will be the early start of current node  or 0 if no predecessors acc maxFinish = 0                     \n",
    "                SET activity.earlyStart = COALESCE(earlyStart, 0),\n",
    "                    activity.earlyFinish = COALESCE(earlyStart, 0) + activity.duration\n",
    "                RETURN activity.name AS activityName, activity.earlyStart, activity.earlyFinish\n",
    "                ORDER BY activity.depth ASC;\n",
    "            \"\"\")\n",
    "    except Exception as e:\n",
    "        print(e)\n",
    "        raise e\n",
    "forwardPass()"
   ]
  },
  {
   "cell_type": "markdown",
   "metadata": {},
   "source": [
    "### Backward Pass\n",
    "To calculated latest start and latest finish"
   ]
  },
  {
   "cell_type": "code",
   "execution_count": null,
   "metadata": {},
   "outputs": [],
   "source": []
  },
  {
   "cell_type": "markdown",
   "metadata": {},
   "source": [
    "### "
   ]
  },
  {
   "cell_type": "markdown",
   "metadata": {},
   "source": [
    "### Finding critical path"
   ]
  },
  {
   "cell_type": "code",
   "execution_count": null,
   "metadata": {},
   "outputs": [],
   "source": [
    "\"\"\"MATCH (n:Person {name: 'Anna'})-[:KNOWS]-{1,5}(friend:Person WHERE n.born < friend.born)\n",
    "RETURN DISTINCT friend.name AS olderConnections\"\"\""
   ]
  },
  {
   "cell_type": "markdown",
   "metadata": {},
   "source": [
    "### Plan for upcoming events"
   ]
  },
  {
   "cell_type": "code",
   "execution_count": null,
   "metadata": {},
   "outputs": [],
   "source": [
    "# 2 hops\n",
    "\"\"\"MATCH (tom:Person {name:'Tom Hanks'})--{2}(colleagues:Person)\n",
    "RETURN DISTINCT colleagues.name AS name, colleagues.born AS bornIn\n",
    "ORDER BY bornIn\n",
    "LIMIT 5\"\"\""
   ]
  },
  {
   "cell_type": "code",
   "execution_count": 164,
   "metadata": {},
   "outputs": [],
   "source": [
    "from neo4j import GraphDatabase\n",
    "from pyvis.network import Network\n",
    "\n",
    "\n",
    "def fetch_network_data():\n",
    "    query = \"\"\"\n",
    "    MATCH (a:ACTIVITY)-[r:DEPENDS_ON]->(b:ACTIVITY)\n",
    "    RETURN a, b, r\n",
    "    \"\"\"\n",
    "    with driver.session() as session:\n",
    "        result = session.run(query)\n",
    "        return [\n",
    "            (record[\"a\"], record[\"b\"], record[\"r\"])\n",
    "            for record in result\n",
    "        ]\n",
    "\n",
    "# Fetch and visualize\n",
    "data = fetch_network_data()\n",
    "\n"
   ]
  },
  {
   "cell_type": "code",
   "execution_count": 165,
   "metadata": {},
   "outputs": [
    {
     "data": {
      "text/plain": [
       "[(<Node element_id='4:cde3a7fa-b1e1-4510-9a57-f1852e2d74e0:5' labels=frozenset({'ACTIVITY'}) properties={'duration': 10, 'name': 'Excavation', 'description': 'Excavation'}>,\n",
       "  <Node element_id='4:cde3a7fa-b1e1-4510-9a57-f1852e2d74e0:7' labels=frozenset({'ACTIVITY'}) properties={'duration': 10, 'name': 'Poor foundation', 'description': 'after excavation'}>,\n",
       "  <Relationship element_id='5:cde3a7fa-b1e1-4510-9a57-f1852e2d74e0:6917534525199220743' nodes=(<Node element_id='4:cde3a7fa-b1e1-4510-9a57-f1852e2d74e0:5' labels=frozenset({'ACTIVITY'}) properties={'duration': 10, 'name': 'Excavation', 'description': 'Excavation'}>, <Node element_id='4:cde3a7fa-b1e1-4510-9a57-f1852e2d74e0:7' labels=frozenset({'ACTIVITY'}) properties={'duration': 10, 'name': 'Poor foundation', 'description': 'after excavation'}>) type='DEPENDS_ON' properties={'duration': 2, 'type': 'finish-to-start'}>),\n",
       " (<Node element_id='4:cde3a7fa-b1e1-4510-9a57-f1852e2d74e0:6' labels=frozenset({'ACTIVITY'}) properties={'duration': 10, 'name': 'Get water', 'description': 'Get water from borehole'}>,\n",
       "  <Node element_id='4:cde3a7fa-b1e1-4510-9a57-f1852e2d74e0:8' labels=frozenset({'ACTIVITY'}) properties={'duration': 2, 'name': 'After foundation', 'description': 'after foundation'}>,\n",
       "  <Relationship element_id='5:cde3a7fa-b1e1-4510-9a57-f1852e2d74e0:6917534525199220744' nodes=(<Node element_id='4:cde3a7fa-b1e1-4510-9a57-f1852e2d74e0:6' labels=frozenset({'ACTIVITY'}) properties={'duration': 10, 'name': 'Get water', 'description': 'Get water from borehole'}>, <Node element_id='4:cde3a7fa-b1e1-4510-9a57-f1852e2d74e0:8' labels=frozenset({'ACTIVITY'}) properties={'duration': 2, 'name': 'After foundation', 'description': 'after foundation'}>) type='DEPENDS_ON' properties={'duration': 2, 'type': 'finish-to-start'}>),\n",
       " (<Node element_id='4:cde3a7fa-b1e1-4510-9a57-f1852e2d74e0:7' labels=frozenset({'ACTIVITY'}) properties={'duration': 10, 'name': 'Poor foundation', 'description': 'after excavation'}>,\n",
       "  <Node element_id='4:cde3a7fa-b1e1-4510-9a57-f1852e2d74e0:8' labels=frozenset({'ACTIVITY'}) properties={'duration': 2, 'name': 'After foundation', 'description': 'after foundation'}>,\n",
       "  <Relationship element_id='5:cde3a7fa-b1e1-4510-9a57-f1852e2d74e0:6919786325012905992' nodes=(<Node element_id='4:cde3a7fa-b1e1-4510-9a57-f1852e2d74e0:7' labels=frozenset({'ACTIVITY'}) properties={'duration': 10, 'name': 'Poor foundation', 'description': 'after excavation'}>, <Node element_id='4:cde3a7fa-b1e1-4510-9a57-f1852e2d74e0:8' labels=frozenset({'ACTIVITY'}) properties={'duration': 2, 'name': 'After foundation', 'description': 'after foundation'}>) type='DEPENDS_ON' properties={'duration': 7, 'type': 'finish-to-start'}>)]"
      ]
     },
     "execution_count": 165,
     "metadata": {},
     "output_type": "execute_result"
    }
   ],
   "source": [
    "data"
   ]
  },
  {
   "cell_type": "code",
   "execution_count": 166,
   "metadata": {},
   "outputs": [],
   "source": [
    "def visualize_network(data):\n",
    "    from pyvis.network import Network\n",
    "\n",
    "    def safe_id(node_id):\n",
    "        \"\"\"Ensure node IDs are valid types for pyvis.\"\"\"\n",
    "        if not isinstance(node_id, (str, int)):\n",
    "            return str(node_id)\n",
    "        return node_id\n",
    "\n",
    "    # Initialize the network\n",
    "    net = Network(height=\"750px\", width=\"100%\", directed=True)\n",
    "\n",
    "    if not data:\n",
    "        raise ValueError(\"No data provided to visualize the network.\")\n",
    "\n",
    "    # Process data\n",
    "    for a, b, r in data:\n",
    "        if a and b and r:\n",
    "            # Add nodes with safe IDs\n",
    "            net.add_node(safe_id(a[\"id\"]), label=a[\"name\"], title=f\"Duration: {a.get('duration', 'N/A')}\")\n",
    "            net.add_node(safe_id(b[\"id\"]), label=b[\"name\"], title=f\"Duration: {b.get('duration', 'N/A')}\")\n",
    "            # Add edge\n",
    "            net.add_edge(\n",
    "                safe_id(a[\"id\"]),\n",
    "                safe_id(b[\"id\"]),\n",
    "                title=f\"{r.get('type', 'FS')} (Lead: {r.get('lead', 0)}, Lag: {r.get('lag', 0)})\"\n",
    "            )\n",
    "        else:\n",
    "            print(\"Skipping incomplete data:\", a, b, r)\n",
    "\n",
    "    # Debugging\n",
    "    print(f\"Nodes: {len(net.get_nodes())}\")\n",
    "    print(f\"Edges: {len(net.get_edges())}\")\n",
    "\n",
    "    if not net.get_nodes():\n",
    "        raise ValueError(\"No nodes were added to the graph. Verify input data.\")\n",
    "    if not net.get_edges():\n",
    "        raise ValueError(\"No edges were added to the graph. Verify relationships.\")\n",
    "\n",
    "    # Save and show the network\n",
    "    net.write_html(\"project_network.html\")\n",
    "    print(\"Network visualization saved as 'project_network.html'\")\n"
   ]
  },
  {
   "cell_type": "code",
   "execution_count": 167,
   "metadata": {},
   "outputs": [
    {
     "name": "stdout",
     "output_type": "stream",
     "text": [
      "Nodes: 1\n",
      "Edges: 3\n",
      "Network visualization saved as 'project_network.html'\n"
     ]
    }
   ],
   "source": [
    "visualize_network(data)"
   ]
  }
 ],
 "metadata": {
  "kernelspec": {
   "display_name": "venv",
   "language": "python",
   "name": "python3"
  },
  "language_info": {
   "codemirror_mode": {
    "name": "ipython",
    "version": 3
   },
   "file_extension": ".py",
   "mimetype": "text/x-python",
   "name": "python",
   "nbconvert_exporter": "python",
   "pygments_lexer": "ipython3",
   "version": "3.10.16"
  }
 },
 "nbformat": 4,
 "nbformat_minor": 2
}
