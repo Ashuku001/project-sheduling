{
 "cells": [
  {
   "cell_type": "code",
   "execution_count": null,
   "metadata": {},
   "outputs": [],
   "source": [
    "!pip install neo4j python-dotenv pandas pyvis pydantic fastapi python-multipart matplotlib pandas"
   ]
  },
  {
   "cell_type": "code",
   "execution_count": null,
   "metadata": {},
   "outputs": [],
   "source": [
    "pip install  uvicorn[\"standard\"]"
   ]
  },
  {
   "cell_type": "code",
   "execution_count": 2,
   "metadata": {},
   "outputs": [],
   "source": [
    "import os\n",
    "os.environ[\"NEO4J_DB\"]= \"neo4j\"\n",
    "NEO4J_DB = os.getenv(\"NEO4J_DB\")"
   ]
  },
  {
   "cell_type": "code",
   "execution_count": 3,
   "metadata": {},
   "outputs": [
    {
     "name": "stdout",
     "output_type": "stream",
     "text": [
      "Connection established.\n"
     ]
    }
   ],
   "source": [
    "from neo4j import GraphDatabase\n",
    "\n",
    "# URI examples: \"neo4j://localhost\", \"neo4j+s://xxx.databases.neo4j.io\"\n",
    "URI = \"bolt://localhost:7687\"\n",
    "AUTH = (NEO4J_DB, \"password\")\n",
    "\n",
    "driver =  GraphDatabase.driver(URI, auth=AUTH, database=NEO4J_DB) # explicit db allows the driver to work more efficiently\n",
    "try:\n",
    "    driver.verify_connectivity()\n",
    "    print(\"Connection established.\")\n",
    "except:\n",
    "    print(\"Connection failed.\")"
   ]
  },
  {
   "cell_type": "markdown",
   "metadata": {},
   "source": [
    "_____"
   ]
  },
  {
   "cell_type": "markdown",
   "metadata": {},
   "source": [
    "## Project Activity Schema"
   ]
  },
  {
   "cell_type": "code",
   "execution_count": 4,
   "metadata": {},
   "outputs": [],
   "source": [
    "from pydantic import BaseModel, Field\n",
    "from enum import Enum\n",
    "from typing import Optional, Union\n",
    "from datetime import datetime\n",
    "\n",
    "class ActivityStatusEnum(str, Enum):\n",
    "    not_started = \"not-started\"\n",
    "    in_progress = \"in-progress\"\n",
    "    completed = \"completed\"\n",
    "\n",
    "# Enum to represent different types of activity-to-activity relationships\n",
    "class RelationEnum(str, Enum):\n",
    "    finish_to_start = \"finish-to-start\"  # A dependent activity cannot start until its predecessor finishes (default)\n",
    "    start_to_start = \"start-to-start\"  # A dependent activity cannot start until the predecessor has started\n",
    "    finish_to_finish = \"finish-to-finish\"  # A dependent activity cannot finish until its predecessor finishes\n",
    "    start_to_finish = \"start-to-finish\"  # A dependent activity cannot finish until its predecessor starts\n",
    "\n",
    "# Model to represent an activity\n",
    "class Activity(BaseModel):\n",
    "    early_start: Optional[int] = Field(None, description=\"The earliest time the activity can start\")\n",
    "    early_finish: Optional[int] = Field(None, description=\"The earliest time the activity can finish\")\n",
    "    late_start: Optional[int] = Field(None, description=\"The latest time the activity can start without delaying the project\")\n",
    "    late_finish: Optional[int] = Field(None, description=\"The latest time the activity can finish without delaying the project\")\n",
    "    duration: Optional[int] = Field(..., gt=0, description=\"The duration of the activity in time units\")\n",
    "    name: Optional[str] = Field(None, description=\"The name of the activity\")\n",
    "    description: Optional[str] = Field(None, description=\"A detailed description of the activity\")\n",
    "    total_float: Optional[int] = Field(None, description=\"The total float of the activity, indicating its flexibility\")\n",
    "    free_float: Optional[int] = Field(None, description=\"The free float of the activity, indicating flexibility without affecting successors\")\n",
    "    start_date: Optional[datetime] = Field(None, description=\"The date the activity is scheduled to start\")\n",
    "    end_date: Optional[datetime] = Field(None, description=\"The date the activity is scheduled to finish\")\n",
    "    status: Optional[ActivityStatusEnum] = Field(None, description=\"The status of the activity\")\n",
    "    # TODO: Extend to include time and resource consumption details\n",
    "\n",
    "# Model to represent a predecessor activity\n",
    "class Predecessor(BaseModel):\n",
    "    id: Union[str, int] = Field(..., description=\"A unique identifier for the predecessor activity\")\n",
    "    early_start: Optional[int] = Field(None, description=\"The earliest start time of the predecessor activity\")\n",
    "    early_finish: Optional[int] = Field(None, description=\"The earliest finish time of the predecessor activity\")\n",
    "\n",
    "# Model to define relationships between activities\n",
    "class ActivityToActivityRel(BaseModel):\n",
    "    activity: Predecessor = Field(..., description=\"The predecessor activity involved in the relationship\")\n",
    "    type: RelationEnum = Field(default=RelationEnum.finish_to_start, description=\"The type of relationship between activities\")\n",
    "    duration: Optional[int] = Field(default=0, ge=0, description=\"Lead or lag time for the relationship, must be non-negative\")\n"
   ]
  },
  {
   "cell_type": "markdown",
   "metadata": {},
   "source": [
    "## Resource Allocaion Schema\n",
    "We can think of introducing geofenced cost of resources like how it is done in products. This data will be used in price analysis for BoQs"
   ]
  },
  {
   "cell_type": "markdown",
   "metadata": {},
   "source": [
    "### Labour"
   ]
  },
  {
   "cell_type": "code",
   "execution_count": 5,
   "metadata": {},
   "outputs": [],
   "source": [
    "from enum import Enum\n",
    "from typing import Optional, List\n",
    "from pydantic import BaseModel, Field\n",
    "\n",
    "# Enums for predefined choices\n",
    "class SkillEnum(str, Enum):\n",
    "    plumbing = \"plumbing\"\n",
    "    masonry = \"masonry\"\n",
    "    carpentry = \"carpentry\"  \n",
    "    electrical = \"electrical\"\n",
    "\n",
    "class RateEnum(str, Enum):\n",
    "    perHour = \"per-hour\"\n",
    "    perDay = \"per-day\"\n",
    "    perTask = \"per-task\" \n",
    "\n",
    "class GroupEnum(str, Enum):\n",
    "    admin = \"admin\"\n",
    "    supervisor = \"supervisor\"\n",
    "    worker = \"worker\"\n",
    "\n",
    "# Job class to describe roles\n",
    "class Job(BaseModel):\n",
    "    title: str = Field(..., description=\"Job title, e.g., construction manager, resident engineer\")\n",
    "    description: Optional[str] = Field(None, description=\"Optional description of the job role\")\n",
    "\n",
    "# Skill class to define a skill and its associated rate\n",
    "class Skill(BaseModel):\n",
    "    type: SkillEnum = Field(..., description=\"Type of skill, e.g., plumbing, masonry\")\n",
    "    rate: RateEnum = Field(..., description=\"Rate type, e.g., per-hour, per-day\")\n",
    "    remuneration: float = Field(..., gt=0, description=\"Remuneration value must be greater than 0\")\n",
    "\n",
    "# Employee class for system authentication and user information\n",
    "class Employee(BaseModel):\n",
    "    name: str = Field(..., description=\"Full name of the employee\")\n",
    "    password: Optional[str] = Field(None, description=\"Optional password for system authentication\")\n",
    "    username: Optional[str] = Field(None, description=\"Optional unique username for the employee\")\n",
    "    group: Optional[GroupEnum] = Field(None, description=\"Employee group classification\")\n",
    "    job: Optional[Job] = Field(None, description=\"Job details for the employee\")\n",
    "    skills: Optional[List[Skill]] = Field(default_factory=list, description=\"List of skills possessed by the employee\")\n",
    "\n",
    "# EmployeeSkill class to link an employee to a skill\n",
    "class EmployeeSkill(BaseModel):\n",
    "    skill: Skill = Field(..., description=\"The skill the employee possesses\")\n",
    "    employee: Employee = Field(..., description=\"The employee associated with this skill\")\n",
    "\n",
    "# Labor class for representing available labor and their associated skill\n",
    "class Labor(BaseModel):\n",
    "    type: SkillEnum = Field(..., description=\"The type of labor skill\")\n",
    "    employee: Employee = Field(..., description=\"The employee performing this labor task\")\n"
   ]
  },
  {
   "cell_type": "markdown",
   "metadata": {},
   "source": [
    "### Equiment"
   ]
  },
  {
   "cell_type": "code",
   "execution_count": 6,
   "metadata": {},
   "outputs": [],
   "source": [
    "from pydantic import BaseModel, Field\n",
    "from enum import Enum\n",
    "\n",
    "# Enum to represent equipment sourcing options\n",
    "class EquipmentSourceEnum(str, Enum):\n",
    "    purchase = \"purchase\"  # Buying the equipment outright\n",
    "    leasing = \"leasing\"  # Leasing for a period, may include a purchase option\n",
    "    renting = \"renting\"  # Renting for temporary use, availability-dependent\n",
    "\n",
    "# Model to represent equipment details\n",
    "class Equipment(BaseModel):\n",
    "    name: str = Field(..., description=\"The name of the equipment\")\n",
    "    description: str = Field(..., description=\"A detailed description of the equipment\")\n",
    "    source: EquipmentSourceEnum = Field(..., description=\"The sourcing method for the equipment\")\n",
    "    rate: RateEnum = Field(..., description=\"The rate type for the equipment (per hour or per day)\")\n",
    "    cost: float = Field(..., gt=0, description=\"The base cost of the equipment usage\")\n",
    "    transport_cost: float = Field(0, ge=0, description=\"The cost of transporting the equipment, default is 0\")\n"
   ]
  },
  {
   "cell_type": "markdown",
   "metadata": {},
   "source": [
    "### Raw Material\n",
    "Here is where Jumba ecosystem is integrated. Depending on requirements of the project Jumba will be used as a procurement partner since it handles material sourcing and logistics."
   ]
  },
  {
   "cell_type": "code",
   "execution_count": 7,
   "metadata": {},
   "outputs": [],
   "source": [
    "class Material(BaseModel):\n",
    "    name: str\n",
    "    description: str # include the variance e.g., if cement what type rapid curing or normal curing\n",
    "    quantity: int\n",
    "    unitCost: int  # geofenced price"
   ]
  },
  {
   "cell_type": "markdown",
   "metadata": {},
   "source": [
    "### Resource node"
   ]
  },
  {
   "cell_type": "code",
   "execution_count": 8,
   "metadata": {},
   "outputs": [],
   "source": [
    "class ResourceEnum(str, Enum):\n",
    "    equipment = \"equipment\"\n",
    "    material = \"material\"\n",
    "    labor = \"labor\"\n",
    "\n",
    "class Resource(BaseModel):\n",
    "    type: ResourceEnum\n",
    "    equipment: Optional[Equipment]\n",
    "    material: Optional[Material]\n",
    "    labor: Optional[Labor]"
   ]
  },
  {
   "cell_type": "markdown",
   "metadata": {},
   "source": [
    "### Allocation node"
   ]
  },
  {
   "cell_type": "code",
   "execution_count": 9,
   "metadata": {},
   "outputs": [],
   "source": [
    "class AllocationStatusEnum(str, Enum):\n",
    "    pending = \"pending\"\n",
    "    allocated = \"allocated\"\n",
    "    released = \"released\"\n",
    "\n",
    "class Allocation(BaseModel):\n",
    "    activityID: Optional[Union [int, str]]\n",
    "    resourceID: Optional[Union [int, str]]\n",
    "    quantity: Optional[int]\n",
    "    unit_cost: Optional[float]\n",
    "    total_cost: Optional[float]\n",
    "    allocation_date: Optional[datetime]\n",
    "    release_date: Optional[datetime]\n",
    "    status: AllocationStatusEnum = \"pending\"\n",
    "\n",
    "class ResourceRequestStatusEnum(str, Enum):\n",
    "    pending = \"pending\"\n",
    "    fulfilled = \"fulfilled\"\n",
    "    deficit = \"deficit\"\n",
    "\n",
    "class ResourceRequest(BaseModel):\n",
    "    resource: Union[Material, Equipment, Labor]\n",
    "    quantity: int\n",
    "    duration: int\n",
    "    status: ResourceRequestStatusEnum = \"pending\""
   ]
  },
  {
   "cell_type": "markdown",
   "metadata": {},
   "source": [
    "## Resource Allocation Brain Storming\n",
    "TODO: decide allocate resource when creating an activity or after all activities have been created\n",
    "### Goal\n",
    "- Is the resource available, if not what actions to perform to make it available e.g., alert user, or AI agents to create orders for material or equipment and user just confirms and Jumba Ecosystem handles the rest. (Just In Time production we got here)\n",
    "- What is the cost of allocating the resource required by the activity. ( information be used in price analysis for BoQ)\n",
    "- A resouce might not meet the requirement so what is the deficit (User can see impending risks in terms of resources required)\n",
    "\n",
    "This allocation should be on a timeline where we release resources (the non consumable resource e.g., equipment and labour) once an activity is over so that it is available for the subsequent activities. Advance the resource allocation which have constraints to suggest optimal use of resources to ensure no wastage.\n",
    "\n",
    "- Each ACTIVITY will have a corresponding ALLOCATION node (store resource allocated metadata i.e., the cost of the allocation depending on geofencing)\n",
    "- An activity requests for a resouce to this allocation node by a dependency REQUIRES\n",
    "- Perform DB query to get the resource\n",
    "    - For materials Jumba's ecosystem will calculate the unitCost, shipping cost and constraints e.g., MoQ for the materials\n",
    "    - For equipment Jumba can introduce this line of products for leasing, renting or purchasing unitCost and transportation cost\n",
    "    - Labour on the contractors part a DBMS with the skills available to the contractor and cost of this labour. For manual labour consider introducing an external app like JumbaGo. We will have a labour contractor who adds the skills available to him or her.\n",
    "- From this allocations will act as saving best practice (a need in civil works for documenting the best practices in implementations)\n",
    "\n",
    "### Suggested Approach\n",
    "We want to manage global resources available to the developer then track detailed allocation data of these resources.\n",
    "\n",
    "#### Structure of the Subgraph\n",
    "\n",
    "- ACTIVITY - [:REQUIRES] → RESOURCE indicates what an activity needs.\n",
    "- ACTIVITY - [:ALLOCATED] <- ALLOCATION represents the actual allocation of resources.\n",
    "- ALLOCATION - [:USES] -> RESOURCE links allocations to specific resources.\n",
    "\n",
    "#### RESOURCE Node:\n",
    "\n",
    "\n",
    "#### ALLOCATION Node:\n",
    "Stores allocation-specific details like quantity, rate, cost, etc.\n",
    "Relationships:\n",
    "\n",
    "### Design Overview\n",
    "#### Nodes\n",
    "##### ACTIVITY:\n",
    "Represents a construction or project-related activity.\n",
    "Attributes: name, duration, start_date, end_date, status, etc.\n",
    "##### ALLOCATION:\n",
    "Captures metadata about resource allocation.\n",
    "\n",
    "Attributes: cost, quantity, unit_cost, transport_cost, allocation_date, release_date, etc.\n",
    "##### RESOURCE:\n",
    "Represents the global pool of resources (e.g., labour of type plumbing, equipment of type mixer). \n",
    "\n",
    "For material this will be ordered from Jumba. (Create Orders which user will confirm when the time comes upon confirmation Jumba handles the rest)\n",
    "\n",
    "Attributes depend on the resource type:\n",
    "- Material: type, unit_cost, MOQ, availability, etc.\n",
    "- Equipment: type, source, rental_cost, transport_cost, etc.\n",
    "- Labor: skill, rate, availability, etc.\n",
    "\n",
    "#### Relationships\n",
    "##### [:REQUIRES]:\n",
    "Between ACTIVITY and RESOURCE (via ALLOCATION node).\n",
    "Captures the dependency of an activity on a specific resource.\n",
    "##### [:ALLOCATED]:\n",
    "Between ACTIVITY and ALLOCATION.\n",
    "Tracks the allocation metadata for resources requested by the activity.\n",
    "##### [:USES]:\n",
    "Between ALLOCATION and RESOURCE.\n",
    "Links allocated resources to the corresponding resource pool.\n",
    "##### [:RELEASES] (Optional):\n",
    "Between ALLOCATION and RESOURCE.\n",
    "Captures the lifecycle of non-consumable resources (e.g., equipment, labor).\n",
    "\n",
    "** NOTE: In the dashboard we should have who the supplier confirmed to fullfill a resource. **\n",
    "\n",
    "\n"
   ]
  },
  {
   "cell_type": "code",
   "execution_count": 86,
   "metadata": {},
   "outputs": [
    {
     "name": "stderr",
     "output_type": "stream",
     "text": [
      "/var/folders/pq/j682cyjd7cb0xq6g_rj_397w0000gn/T/ipykernel_89373/3363038530.py:4: DeprecationWarning: Using a driver after it has been closed is deprecated. Future versions of the driver will raise an error.\n",
      "  with driver.session(database=NEO4J_DB) as session:\n"
     ]
    }
   ],
   "source": [
    "# Function to create a resource node in the graph database this will be from the developers account\n",
    "def createResource():\n",
    "    try:\n",
    "        with driver.session(database=NEO4J_DB) as session: \n",
    "            session.run(\n",
    "                \"\"\"\n",
    "                MERGE (labor:RESOURCE {type: \"labor\", skill: \"plumbing\", rate: 50, availability: 10})\n",
    "                MERGE (equipment:RESOURCE {type: \"equipment\", name: \"Excavator\", source: \"leasing\", rental_cost: 200, transport_cost: 50})\n",
    "                MERGE (material:RESOURCE {type: \"material\", name: \"Concrete\", unit_cost: 20, MOQ: 5, availability: 100})\"\"\"\n",
    "            )\n",
    "    except Exception as e:\n",
    "        raise e\n",
    "createResource()"
   ]
  },
  {
   "cell_type": "code",
   "execution_count": 77,
   "metadata": {},
   "outputs": [
    {
     "data": {
      "text/plain": [
       "'MATCH (n {name: \"Genesis\"})-[requires:REQUIRES]->(allocation:ALLOCATION) \\nMATCH (n)-[allocated:ALLOCATED]->(allocation:ALLOCATION)\\nRETURN requires.quantity as requiredQuantity, n.quantity as allocatedQuantity'"
      ]
     },
     "execution_count": 77,
     "metadata": {},
     "output_type": "execute_result"
    }
   ],
   "source": [
    "# check if allocation is full\n",
    "\"\"\"MATCH (n {name: \"Genesis\"})-[requires:REQUIRES]->(allocation:ALLOCATION) \n",
    "MATCH (n)-[allocated:ALLOCATED]->(allocation:ALLOCATION)\n",
    "RETURN requires.quantity as requiredQuantity, n.quantity as allocatedQuantity\"\"\""
   ]
  },
  {
   "cell_type": "code",
   "execution_count": 78,
   "metadata": {},
   "outputs": [
    {
     "data": {
      "text/plain": [
       "'CREATE (activity:ACTIVITY) ... RETURN ID(activity) as activityID'"
      ]
     },
     "execution_count": 78,
     "metadata": {},
     "output_type": "execute_result"
    }
   ],
   "source": [
    "# an activity requires a resource (activity is requesting a resource)\n",
    "\"\"\"CREATE (activity:ACTIVITY) ... RETURN ID(activity) as activityID\"\"\""
   ]
  },
  {
   "cell_type": "markdown",
   "metadata": {},
   "source": [
    "### Allocating Labour"
   ]
  },
  {
   "cell_type": "code",
   "execution_count": 79,
   "metadata": {},
   "outputs": [
    {
     "data": {
      "text/plain": [
       "'CREATE (allocation) - [:ALLOCATED {quantity: 5}] -> (acitivity)'"
      ]
     },
     "execution_count": 79,
     "metadata": {},
     "output_type": "execute_result"
    }
   ],
   "source": [
    "# aget the activity\n",
    "\"\"\"MATCH (activity:ACTIVITY) WHERE ID(activity) = $activityID\"\"\"\n",
    "\n",
    "# from the required resource\n",
    "# Query DB for the resource (predefined skills the company has) to get the cost of this resource according to geofencing, and if available and amount available\n",
    "# save it in a variable resource\n",
    "# update the allocation with the metadata of the resources according to geofencing also constraints of delivering the labour\n",
    "\n",
    "# create an allocation for the activity if the activity requires resource\n",
    "\"\"\"CREATE (allocation: ALLOCATION {activityID: $activityID})\"\"\"\n",
    "# create a relationship between the activity and allocation\n",
    "\"\"\"(activity)-[requires:REQUIRES {type: labour, name:'plumbing', quantity: 5}]->(allocation)\"\"\" # activity expects  ... in the allocation\n",
    "\n",
    "\"\"\"SET allocation.unitCost = $resource.unitCost, allocation.rate = resource.rate  \"\"\" # required.quantity x allocaition.unitCost = price analysis for resource\n",
    "\n",
    "# What has been allocated depending the resource constraints e.g., available_quantity, \n",
    "# with MoQ will result to wastage (manufacturer and developer relationship to get exact quantity required)\n",
    "\"\"\"CREATE (allocation) - [:ALLOCATED {quantity: 5}] -> (acitivity)\"\"\""
   ]
  },
  {
   "cell_type": "markdown",
   "metadata": {},
   "source": [
    "### Allocating material\n",
    "Query DB for the materials Jumba has and its cost in terms of geofencing. If not available i.e., the cost is not available aleart someone (Jumba and User)"
   ]
  },
  {
   "cell_type": "code",
   "execution_count": 80,
   "metadata": {},
   "outputs": [
    {
     "data": {
      "text/plain": [
       "'CREATE (allocation) - [:ALLOCATED {quantity: 5}] -> (acitivity)'"
      ]
     },
     "execution_count": 80,
     "metadata": {},
     "output_type": "execute_result"
    }
   ],
   "source": [
    "# aget the activity\n",
    "\"\"\"MATCH (activity:ACTIVITY) WHERE ID(activity) = $activityID\"\"\"\n",
    "\n",
    "# from the required resource\n",
    "# Query DB for the resource (predefined resources that Jumba can deliver within their procurement) to get the cost of this resource according to geofencing, and if available and amount available\n",
    "# save it in a variable resource\n",
    "# update the allocation with the metadata of the resources according to geofencing also constraints of delivering the material e.g., MoQ\n",
    "\n",
    "# create an allocation for the activity if the activity requires resource\n",
    "\"\"\"CREATE (allocation: ALLOCATION {activityID: $activityID})\"\"\"\n",
    "# create a relationship between the activity and allocation\n",
    "\"\"\"(activity)-[requires:REQUIRES {type: material, name:cement, quantity: 5}]->(allocation)\"\"\" # activity expects  ... in the allocation\n",
    "\n",
    "\"\"\"\n",
    "    SET allocation.unitCost = $resource.unitCost, allocation.moq = resource.moq  \"\"\" # required.quantity x allocaition.unitCost = price analysis for resource\n",
    "\n",
    "# What has been allocated depending the resource constraints e.g., available_quantity, \n",
    "# with MoQ will result to wastage (manufacturer and developer relationship to get exact quantity required)\n",
    "\"\"\"CREATE (allocation) - [:ALLOCATED {quantity: 5}] -> (acitivity)\"\"\""
   ]
  },
  {
   "cell_type": "markdown",
   "metadata": {},
   "source": [
    "### Allocating equipment"
   ]
  },
  {
   "cell_type": "code",
   "execution_count": 81,
   "metadata": {},
   "outputs": [
    {
     "data": {
      "text/plain": [
       "'CREATE (allocation) - [:ALLOCATED {quantity: 1}] -> (acitivity)'"
      ]
     },
     "execution_count": 81,
     "metadata": {},
     "output_type": "execute_result"
    }
   ],
   "source": [
    "# aget the activity\n",
    "\"\"\"MATCH (activity:ACTIVITY) WHERE ID(activity) = $activityID\"\"\"\n",
    "\n",
    "# from the required resource\n",
    "# Query DB for the resource (predefined resources that Jumba can deliver within their procurement) to get the cost of this resource according to geofencing, and if available and amount available\n",
    "# save it in a variable resource\n",
    "# update the allocation with the metadata of the resources according to geofencing and constraints\n",
    "\n",
    "# create an allocation for the activity if the activity requires resource\n",
    "\"\"\"CREATE (allocation: ALLOCATION {activityID: $activityID})\"\"\"\n",
    "# create a relationship between the activity and allocation\n",
    "\"\"\"(activity)-[requires:REQUIRES {type: equiment, name:crane, quantity: 2}]->(allocation)\"\"\" # activity expects  ... in the allocation\n",
    "\n",
    "\"\"\"SET allocation.unitCost = $resource.unitCost, allocation.rate = $allocation.rate \"\"\" # required.quantity x allocaition.unitCost = price analysis for resource\n",
    "\n",
    "\"\"\"CREATE (allocation) - [:ALLOCATED {quantity: 1}] -> (acitivity)\"\"\""
   ]
  },
  {
   "cell_type": "markdown",
   "metadata": {},
   "source": [
    "## Data formatting"
   ]
  },
  {
   "cell_type": "code",
   "execution_count": 10,
   "metadata": {},
   "outputs": [],
   "source": [
    "import pandas as pd\n",
    "def formatter(records):\n",
    "    # Loop through results and do something with them\n",
    "    for record in records:\n",
    "        return record.data() # obtain record as dict\n",
    "    \n",
    "def to_dataframe(data):\n",
    "    return pd.DataFrame(data)\n",
    "\n",
    "def to_csv(data: pd.DataFrame, filename):\n",
    "    data.to_csv(filename)\n",
    "\n",
    "def to_excel(data: pd.DataFrame, filename):\n",
    "    data.to_excel(filename)"
   ]
  },
  {
   "cell_type": "code",
   "execution_count": 38,
   "metadata": {},
   "outputs": [],
   "source": [
    "def resetGraph():\n",
    "    try:\n",
    "        with driver.session(database=NEO4J_DB) as session:\n",
    "            session.run(\"\"\"MATCH (n:ACTIVITY) SET n += {earlyStart: NULL, earlyFinish: NULL, lateStart: NULL, lateFinish: NULL, freeFloat: NULL, totalFloat: NULL}\"\"\")    \n",
    "        return\n",
    "    except Exception as e:\n",
    "        raise e"
   ]
  },
  {
   "cell_type": "markdown",
   "metadata": {},
   "source": [
    "## Start Node"
   ]
  },
  {
   "cell_type": "markdown",
   "metadata": {},
   "source": [
    "Create a start node since we are using activity on node. This will be connecting activities that do not have predecessors"
   ]
  },
  {
   "cell_type": "code",
   "execution_count": null,
   "metadata": {},
   "outputs": [],
   "source": [
    "# create the start node\n",
    "def initiateProjectSchedule():\n",
    "    try:\n",
    "        with driver.session(database=NEO4J_DB) as session:\n",
    "            results = session.run(\"\"\"\n",
    "                MERGE (start:ACTIVITY {name: $name, description: $description, duration: 0, earlyStart: 0, earlyFinish: 0, lateStart: 0, lateFinish: 0})\n",
    "                RETURN start\n",
    "            \"\"\",\n",
    "            name = \"Genesis\",\n",
    "            description = \"This marks the start of your project no resources are consumed\"\n",
    "            )\n",
    "        return formatter(results)\n",
    "    except Exception as e:\n",
    "        print(e)\n",
    "initiateProjectSchedule()"
   ]
  },
  {
   "cell_type": "markdown",
   "metadata": {},
   "source": [
    "## Activity Node and Edge\n",
    "Create activity together with dependencies between each other or start node"
   ]
  },
  {
   "cell_type": "code",
   "execution_count": 292,
   "metadata": {},
   "outputs": [],
   "source": [
    "# depends on will be the ID of the predecessor activities\n",
    "def createActivity(activity: Activity, predecessors: list[ActivityToActivityRel] = []):\n",
    "    \n",
    "    try:\n",
    "        with driver.session(database=\"neo4j\") as session:\n",
    "            if len(predecessors):\n",
    "                predecessors = [{\"activity\": vars(obj.activity), \"type\": obj.type, \"duration\": obj.duration} for obj in predecessors] # serialize the objects\n",
    "                # activity has predecessors\n",
    "                results = session.run(\"\"\"\n",
    "                    CREATE (activity:ACTIVITY {name: $name, description: $description, duration: $duration})\n",
    "                    WITH activity, $predecessors as batch\n",
    "                    UNWIND batch as dependency\n",
    "                    MATCH (predecessor:ACTIVITY)\n",
    "                    WHERE ID(predecessor) = dependency.activity.id\n",
    "                    CREATE (activity)<-[:DEPENDS_ON {type: dependency.type, duration: dependency.duration}]-(predecessor)\"\"\", predecessors=predecessors, name=activity.name, description=activity.description, duration=activity.duration)\n",
    "                return formatter(results)\n",
    "            else:\n",
    "                # Activity has no predecessor start nodes\n",
    "                results = session.run(\"\"\"\n",
    "                        MATCH (genesis:ACTIVITY {name: \"Genesis\"})\n",
    "                        CREATE (start:ACTIVITY {name: $name, description: $description, duration: $duration, earlyStart: COALESCE(genesis.earlyFinish, 0), earlyFinish: COALESCE(genesis.earlyFinish, 0) + COALESCE($duration, 0)})\n",
    "                        CREATE (start)<-[:DEPENDS_ON]-(genesis)\n",
    "                    \"\"\", \n",
    "                    name = activity.name,\n",
    "                    description = activity.description,\n",
    "                    duration = activity.duration)\n",
    "                return formatter(results)\n",
    "    except Exception as e:\n",
    "        raise e"
   ]
  },
  {
   "cell_type": "markdown",
   "metadata": {},
   "source": [
    "#### An activity without a dependency\n",
    "The reason we needed a genesis node"
   ]
  },
  {
   "cell_type": "code",
   "execution_count": 8,
   "metadata": {},
   "outputs": [
    {
     "name": "stderr",
     "output_type": "stream",
     "text": [
      "/var/folders/pq/j682cyjd7cb0xq6g_rj_397w0000gn/T/ipykernel_89373/1068076115.py:5: DeprecationWarning: Using a driver after it has been closed is deprecated. Future versions of the driver will raise an error.\n",
      "  with driver.session(database=\"neo4j\") as session:\n"
     ]
    }
   ],
   "source": [
    "# creating the first activity with no dependecy\n",
    "createActivity(Activity(name=\"Excavation\", description=\"It is just digging staff\", duration=10))"
   ]
  },
  {
   "cell_type": "code",
   "execution_count": 9,
   "metadata": {},
   "outputs": [
    {
     "name": "stderr",
     "output_type": "stream",
     "text": [
      "/var/folders/pq/j682cyjd7cb0xq6g_rj_397w0000gn/T/ipykernel_89373/1068076115.py:5: DeprecationWarning: Using a driver after it has been closed is deprecated. Future versions of the driver will raise an error.\n",
      "  with driver.session(database=\"neo4j\") as session:\n"
     ]
    }
   ],
   "source": [
    "# creating the second activity with no dependecy\n",
    "createActivity(Activity(name=\"soil test\", description=\"Confirming strength of soil\", duration=3))"
   ]
  },
  {
   "cell_type": "markdown",
   "metadata": {},
   "source": [
    "### Activity with more tha one predecessor"
   ]
  },
  {
   "cell_type": "code",
   "execution_count": null,
   "metadata": {},
   "outputs": [],
   "source": [
    "# has more than one predecessor\n",
    "predecessors = [\n",
    "    ActivityToActivityRel(activity=Predecessor(id = 1, earlyStart=0, earlyFinish=10), duration = 0),\n",
    "    ActivityToActivityRel(activity=Predecessor(id = 2, earlyStart=0, earlyFinish=3), duration = 7),\n",
    "]\n",
    "createActivity(Activity(name=\"Poor foundation\", description=\"placing foundation according to design\", duration=2), predecessors=predecessors)"
   ]
  },
  {
   "cell_type": "markdown",
   "metadata": {},
   "source": [
    "### Activity with 1 predecessor"
   ]
  },
  {
   "cell_type": "code",
   "execution_count": null,
   "metadata": {},
   "outputs": [],
   "source": [
    "# has one predecessor\n",
    "predecessors = [\n",
    "    ActivityToActivityRel(activity=Predecessor(id = 3, earlyStart=0, earlyFinish=10), duration = 0),\n",
    "]\n",
    "createActivity(Activity(name=\"Curing\", description=\"cure for 7 days\", duration=7), predecessors=predecessors)"
   ]
  },
  {
   "cell_type": "markdown",
   "metadata": {},
   "source": [
    "### Activity with three predecessors"
   ]
  },
  {
   "cell_type": "code",
   "execution_count": null,
   "metadata": {},
   "outputs": [],
   "source": [
    "# has more than one predecessor\n",
    "predecessors = [\n",
    "    ActivityToActivityRel(activity=Predecessor(id = 5, earlyStart=0, earlyFinish=10), duration = 0),\n",
    "]\n",
    "createActivity(Activity(name=\"Inspection\", description=\"Inspect the foundation before back filling\", duration=1), predecessors=predecessors)"
   ]
  },
  {
   "cell_type": "code",
   "execution_count": null,
   "metadata": {},
   "outputs": [],
   "source": [
    "# has more than one predecessor\n",
    "predecessors = [\n",
    "    ActivityToActivityRel(activity=Predecessor(id = 2, earlyStart=0, earlyFinish=10), duration = 0),\n",
    "    ActivityToActivityRel(activity=Predecessor(id = 3, earlyStart=0, earlyFinish=10), duration = 0),\n",
    "    ActivityToActivityRel(activity=Predecessor(id = 4, earlyStart=0, earlyFinish=10), duration = 0),\n",
    "]\n",
    "createActivity(Activity(name=\"Inspection\", description=\"Inspect the foundation before back filling\", duration=1), predecessors=predecessors)"
   ]
  },
  {
   "cell_type": "markdown",
   "metadata": {},
   "source": [
    "## Graph Traversing\n",
    "\n",
    "For scheduling constraints between the activities or tasks in the graph must be a Directed Acyclic Graph \n",
    "\n",
    "TODO: ensure in UI user always creates an asyclic graph.\n",
    "\n",
    "There is a direction in the dependency of tasks and due to precedence among activities the graph is acyclic.\n",
    "\n",
    "For this graph we need to have a Topological ordering such that any directed path in the graph traverses the nodes in an increasing order. \n",
    "\n",
    "And for this directed graph we may have more than on topological order if graph some parts are not connected.\n",
    "\n",
    "TODO: Confirm possibility of more than 1 topological ordering of an acyclic graph"
   ]
  },
  {
   "cell_type": "markdown",
   "metadata": {},
   "source": [
    "### Forward Pass\n",
    "To calculate early start and early finish\n",
    "There is precedence within the activities\n",
    "ESj = Max(EFpredecessors)\n",
    "EFj = ESj + tj\n",
    "\n",
    "- get all activity nodes in array\n",
    "- calculate topological order according to relationship DEPENDS_ON for each activity (might be expensive for large graphs)\n",
    "- for each activity node get its predecessors\n",
    "- value of duration of the relationship\n",
    "- use formula above to get EF and ES of current activity"
   ]
  },
  {
   "cell_type": "code",
   "execution_count": 55,
   "metadata": {},
   "outputs": [],
   "source": [
    "resetGraph()"
   ]
  },
  {
   "cell_type": "markdown",
   "metadata": {},
   "source": [
    "This has to be run a couple of times to get the correct values of early Start and early finish\n",
    "\n",
    "TODO: run the query once for forward pass"
   ]
  },
  {
   "cell_type": "code",
   "execution_count": 61,
   "metadata": {},
   "outputs": [
    {
     "name": "stderr",
     "output_type": "stream",
     "text": [
      "Received notification from DBMS server: {severity: WARNING} {code: Neo.ClientNotification.Statement.AggregationSkippedNull} {category: UNRECOGNIZED} {title: The query contains an aggregation function that skips null values.} {description: null value eliminated in set function.} {position: None} for query: '\\n                        // Match all activities and their predecessors\\n                        MATCH (activity:ACTIVITY)\\n                        OPTIONAL MATCH (activity)<-[:DEPENDS_ON]-(predecessor:ACTIVITY)\\n\\n                        // Collect predecessors for each activity\\n                        WITH activity, COLLECT(predecessor) AS predecessors\\n\\n                        // Find the depth of each activity for topological order\\n                        OPTIONAL MATCH path = (activity)-[:DEPENDS_ON*]->(dependent:ACTIVITY)\\n                        WITH activity, predecessors, \\n                            COALESCE(MAX(LENGTH(path)), 0) AS depth, \\n                            SIZE(predecessors) AS incomingDependencies\\n\\n                        // Order activities by depth (descending) and by number of incoming dependencies (ascending) topological order\\n                        ORDER BY depth DESC, incomingDependencies ASC \\n\\n                        // Calculate earlyStart and earlyFinish for each activity\\n                        WITH COLLECT([activity, predecessors]) AS activityPredecessorsList\\n                        UNWIND activityPredecessorsList AS activityPredecessorsTuple\\n                        WITH activityPredecessorsTuple[0] AS currentActivity, \\n                            REDUCE(\\n                                maxFinish = 0, \\n                                pred IN activityPredecessorsTuple[1] |                    \\n                                CASE \\n                                    WHEN pred IS NOT NULL AND pred.earlyFinish IS NOT NULL AND pred.earlyFinish > maxFinish \\n                                    THEN pred.earlyFinish  \\n                                    ELSE maxFinish \\n                                END\\n                            ) AS earlyStart\\n                                  \\n                        // update early start and  earlyFinish\\n                        SET currentActivity += {\\n                            earlyStart: COALESCE(earlyStart, 0), \\n                            earlyFinish: COALESCE(earlyStart, 0) + currentActivity.duration\\n                        }\\n                                  \\n                        // Return the activity name, earlyStart, and earlyFinish\\n                        RETURN currentActivity.name AS activityName, \\n                            currentActivity.earlyStart AS earlyStart, \\n                            currentActivity.earlyFinish AS earlyFinish\\n                        ORDER BY currentActivity.depth ASC\\n                        '\n"
     ]
    },
    {
     "data": {
      "text/html": [
       "<div>\n",
       "<style scoped>\n",
       "    .dataframe tbody tr th:only-of-type {\n",
       "        vertical-align: middle;\n",
       "    }\n",
       "\n",
       "    .dataframe tbody tr th {\n",
       "        vertical-align: top;\n",
       "    }\n",
       "\n",
       "    .dataframe thead th {\n",
       "        text-align: right;\n",
       "    }\n",
       "</style>\n",
       "<table border=\"1\" class=\"dataframe\">\n",
       "  <thead>\n",
       "    <tr style=\"text-align: right;\">\n",
       "      <th></th>\n",
       "      <th>activityName</th>\n",
       "      <th>earlyStart</th>\n",
       "      <th>earlyFinish</th>\n",
       "    </tr>\n",
       "  </thead>\n",
       "  <tbody>\n",
       "    <tr>\n",
       "      <th>0</th>\n",
       "      <td>Genesis</td>\n",
       "      <td>0</td>\n",
       "      <td>0</td>\n",
       "    </tr>\n",
       "    <tr>\n",
       "      <th>1</th>\n",
       "      <td>A - Wall panel</td>\n",
       "      <td>0</td>\n",
       "      <td>4</td>\n",
       "    </tr>\n",
       "    <tr>\n",
       "      <th>2</th>\n",
       "      <td>B</td>\n",
       "      <td>4</td>\n",
       "      <td>7</td>\n",
       "    </tr>\n",
       "    <tr>\n",
       "      <th>3</th>\n",
       "      <td>C</td>\n",
       "      <td>4</td>\n",
       "      <td>6</td>\n",
       "    </tr>\n",
       "    <tr>\n",
       "      <th>4</th>\n",
       "      <td>D</td>\n",
       "      <td>7</td>\n",
       "      <td>12</td>\n",
       "    </tr>\n",
       "    <tr>\n",
       "      <th>5</th>\n",
       "      <td>E</td>\n",
       "      <td>7</td>\n",
       "      <td>10</td>\n",
       "    </tr>\n",
       "    <tr>\n",
       "      <th>6</th>\n",
       "      <td>F</td>\n",
       "      <td>12</td>\n",
       "      <td>16</td>\n",
       "    </tr>\n",
       "    <tr>\n",
       "      <th>7</th>\n",
       "      <td>G</td>\n",
       "      <td>16</td>\n",
       "      <td>19</td>\n",
       "    </tr>\n",
       "  </tbody>\n",
       "</table>\n",
       "</div>"
      ],
      "text/plain": [
       "     activityName  earlyStart  earlyFinish\n",
       "0         Genesis           0            0\n",
       "1  A - Wall panel           0            4\n",
       "2               B           4            7\n",
       "3               C           4            6\n",
       "4               D           7           12\n",
       "5               E           7           10\n",
       "6               F          12           16\n",
       "7               G          16           19"
      ]
     },
     "execution_count": 61,
     "metadata": {},
     "output_type": "execute_result"
    }
   ],
   "source": [
    "def forwardPass():\n",
    "    try:\n",
    "        with driver.session(database=NEO4J_DB) as session:\n",
    "            results = session.run(\"\"\"\n",
    "                        // Match all activities and their predecessors\n",
    "                        MATCH (activity:ACTIVITY)\n",
    "                        OPTIONAL MATCH (activity)<-[:DEPENDS_ON]-(predecessor:ACTIVITY)\n",
    "\n",
    "                        // Collect predecessors for each activity\n",
    "                        WITH activity, COLLECT(predecessor) AS predecessors\n",
    "\n",
    "                        // Find the depth of each activity for topological order\n",
    "                        OPTIONAL MATCH path = (activity)-[:DEPENDS_ON*]->(dependent:ACTIVITY)\n",
    "                        WITH activity, predecessors, \n",
    "                            COALESCE(MAX(LENGTH(path)), 0) AS depth, \n",
    "                            SIZE(predecessors) AS incomingDependencies\n",
    "\n",
    "                        // Order activities by depth (descending) and by number of incoming dependencies (ascending) topological order\n",
    "                        ORDER BY depth DESC, incomingDependencies ASC \n",
    "\n",
    "                        // Calculate earlyStart and earlyFinish for each activity\n",
    "                        WITH COLLECT([activity, predecessors]) AS activityPredecessorsList\n",
    "                        UNWIND activityPredecessorsList AS activityPredecessorsTuple\n",
    "                        WITH activityPredecessorsTuple[0] AS currentActivity, \n",
    "                            REDUCE(\n",
    "                                maxFinish = 0, \n",
    "                                pred IN activityPredecessorsTuple[1] |                    \n",
    "                                CASE \n",
    "                                    WHEN pred IS NOT NULL AND pred.earlyFinish IS NOT NULL AND pred.earlyFinish > maxFinish \n",
    "                                    THEN pred.earlyFinish  \n",
    "                                    ELSE maxFinish \n",
    "                                END\n",
    "                            ) AS earlyStart\n",
    "                                  \n",
    "                        // update early start and  earlyFinish\n",
    "                        SET currentActivity += {\n",
    "                            earlyStart: COALESCE(earlyStart, 0), \n",
    "                            earlyFinish: COALESCE(earlyStart, 0) + currentActivity.duration\n",
    "                        }\n",
    "                                  \n",
    "                        // Return the activity name, earlyStart, and earlyFinish\n",
    "                        RETURN currentActivity.name AS activityName, \n",
    "                            currentActivity.earlyStart AS earlyStart, \n",
    "                            currentActivity.earlyFinish AS earlyFinish\n",
    "                        ORDER BY currentActivity.depth ASC\n",
    "                        \"\"\")\n",
    "            return results.data()\n",
    "    except Exception as e:\n",
    "        print(e)\n",
    "        raise e\n",
    "to_dataframe(forwardPass())"
   ]
  },
  {
   "cell_type": "markdown",
   "metadata": {},
   "source": [
    "### Backward Pass\n",
    "To calculated latest start and latest finish, this query only if forward pass is correct. The good thing this will run only once since the forward pass has updated values"
   ]
  },
  {
   "cell_type": "code",
   "execution_count": 65,
   "metadata": {},
   "outputs": [
    {
     "name": "stderr",
     "output_type": "stream",
     "text": [
      "Received notification from DBMS server: {severity: WARNING} {code: Neo.ClientNotification.Statement.AggregationSkippedNull} {category: UNRECOGNIZED} {title: The query contains an aggregation function that skips null values.} {description: null value eliminated in set function.} {position: None} for query: '\\n                        // match all activities and their successors\\n                        MATCH (activity:ACTIVITY)\\n                        OPTIONAL MATCH (activity)-[:DEPENDS_ON]->(successor:ACTIVITY)\\n\\n                        // collect successors for each activity\\n                        WITH activity, COLLECT(successor) AS successors\\n\\n                        // find the depth of each activity for topological order\\n                        OPTIONAL MATCH path = (activity)<-[:DEPENDS_ON*]-(dependent:ACTIVITY)\\n                        WITH activity, successors, \\n                            COALESCE(MAX(LENGTH(path)), 0) AS depth, \\n                            SIZE(successors) AS outgoingDependencies\\n\\n                        // order activities by depth (descending) and by number of outgoing dependencies (ascending) topological order\\n                        ORDER BY depth ASC, outgoingDependencies DESC \\n\\n                        // calculate lateStart and lateFinish for each activity\\n                        WITH COLLECT([activity, successors]) AS activitySuccessorsList\\n                        UNWIND activitySuccessorsList AS activitySuccessorsTuple\\n                        WITH activitySuccessorsTuple[0] AS currentActivity, activitySuccessorsTuple, activitySuccessorsList\\n                            WITH currentActivity, activitySuccessorsTuple, activitySuccessorsList, REDUCE(\\n                                minStart = LAST(activitySuccessorsList)[0].earlyFinish,\\n                                succ IN activitySuccessorsTuple[1] |                    \\n                                CASE \\n                                    WHEN succ IS NOT NULL AND succ.lateStart IS NOT NULL AND succ.lateStart < minStart \\n                                    THEN succ.lateStart  \\n                                    ELSE minStart \\n                                END\\n                            ) AS lateFinish\\n                        \\n                        // update lateStart and lateFinish for each activity\\n                        SET currentActivity += {\\n                            lateFinish: COALESCE(lateFinish, currentActivity.earlyFinish), \\n                            lateStart: COALESCE(lateFinish, currentActivity.earlyFinish) - currentActivity.duration\\n                        }\\n\\n                        // return the results\\n                        RETURN currentActivity.name AS activityName, \\n                            currentActivity.lateStart AS lateStart, \\n                            currentActivity.lateFinish AS lateFinish\\n                        ORDER BY currentActivity.depth DESC'\n"
     ]
    },
    {
     "data": {
      "text/html": [
       "<div>\n",
       "<style scoped>\n",
       "    .dataframe tbody tr th:only-of-type {\n",
       "        vertical-align: middle;\n",
       "    }\n",
       "\n",
       "    .dataframe tbody tr th {\n",
       "        vertical-align: top;\n",
       "    }\n",
       "\n",
       "    .dataframe thead th {\n",
       "        text-align: right;\n",
       "    }\n",
       "</style>\n",
       "<table border=\"1\" class=\"dataframe\">\n",
       "  <thead>\n",
       "    <tr style=\"text-align: right;\">\n",
       "      <th></th>\n",
       "      <th>activityName</th>\n",
       "      <th>lateStart</th>\n",
       "      <th>lateFinish</th>\n",
       "    </tr>\n",
       "  </thead>\n",
       "  <tbody>\n",
       "    <tr>\n",
       "      <th>0</th>\n",
       "      <td>Genesis</td>\n",
       "      <td>7</td>\n",
       "      <td>7</td>\n",
       "    </tr>\n",
       "    <tr>\n",
       "      <th>1</th>\n",
       "      <td>A - Wall panel</td>\n",
       "      <td>3</td>\n",
       "      <td>7</td>\n",
       "    </tr>\n",
       "    <tr>\n",
       "      <th>2</th>\n",
       "      <td>B</td>\n",
       "      <td>4</td>\n",
       "      <td>7</td>\n",
       "    </tr>\n",
       "    <tr>\n",
       "      <th>3</th>\n",
       "      <td>C</td>\n",
       "      <td>10</td>\n",
       "      <td>12</td>\n",
       "    </tr>\n",
       "    <tr>\n",
       "      <th>4</th>\n",
       "      <td>D</td>\n",
       "      <td>7</td>\n",
       "      <td>12</td>\n",
       "    </tr>\n",
       "    <tr>\n",
       "      <th>5</th>\n",
       "      <td>E</td>\n",
       "      <td>13</td>\n",
       "      <td>16</td>\n",
       "    </tr>\n",
       "    <tr>\n",
       "      <th>6</th>\n",
       "      <td>F</td>\n",
       "      <td>12</td>\n",
       "      <td>16</td>\n",
       "    </tr>\n",
       "    <tr>\n",
       "      <th>7</th>\n",
       "      <td>G</td>\n",
       "      <td>16</td>\n",
       "      <td>19</td>\n",
       "    </tr>\n",
       "  </tbody>\n",
       "</table>\n",
       "</div>"
      ],
      "text/plain": [
       "     activityName  lateStart  lateFinish\n",
       "0         Genesis          7           7\n",
       "1  A - Wall panel          3           7\n",
       "2               B          4           7\n",
       "3               C         10          12\n",
       "4               D          7          12\n",
       "5               E         13          16\n",
       "6               F         12          16\n",
       "7               G         16          19"
      ]
     },
     "execution_count": 65,
     "metadata": {},
     "output_type": "execute_result"
    }
   ],
   "source": [
    "def backwardPass():\n",
    "    try:\n",
    "        with driver.session(database=NEO4J_DB) as session:\n",
    "            results = session.run(\"\"\"\n",
    "                        // match all activities and their successors\n",
    "                        MATCH (activity:ACTIVITY)\n",
    "                        OPTIONAL MATCH (activity)-[:DEPENDS_ON]->(successor:ACTIVITY)\n",
    "\n",
    "                        // collect successors for each activity\n",
    "                        WITH activity, COLLECT(successor) AS successors\n",
    "\n",
    "                        // find the depth of each activity for topological order\n",
    "                        OPTIONAL MATCH path = (activity)<-[:DEPENDS_ON*]-(dependent:ACTIVITY)\n",
    "                        WITH activity, successors, \n",
    "                            COALESCE(MAX(LENGTH(path)), 0) AS depth, \n",
    "                            SIZE(successors) AS outgoingDependencies\n",
    "\n",
    "                        // order activities by depth (descending) and by number of outgoing dependencies (ascending) topological order\n",
    "                        ORDER BY depth ASC, outgoingDependencies DESC \n",
    "\n",
    "                        // calculate lateStart and lateFinish for each activity\n",
    "                        WITH COLLECT([activity, successors]) AS activitySuccessorsList\n",
    "                        UNWIND activitySuccessorsList AS activitySuccessorsTuple\n",
    "                        WITH activitySuccessorsTuple[0] AS currentActivity, activitySuccessorsTuple, activitySuccessorsList\n",
    "                            WITH currentActivity, activitySuccessorsTuple, activitySuccessorsList, REDUCE(\n",
    "                                minStart = LAST(activitySuccessorsList)[0].earlyFinish,\n",
    "                                succ IN activitySuccessorsTuple[1] |                    \n",
    "                                CASE \n",
    "                                    WHEN succ IS NOT NULL AND succ.lateStart IS NOT NULL AND succ.lateStart < minStart \n",
    "                                    THEN succ.lateStart  \n",
    "                                    ELSE minStart \n",
    "                                END\n",
    "                            ) AS lateFinish\n",
    "                        \n",
    "                        // update lateStart and lateFinish for each activity\n",
    "                        SET currentActivity += {\n",
    "                            lateFinish: COALESCE(lateFinish, currentActivity.earlyFinish), \n",
    "                            lateStart: COALESCE(lateFinish, currentActivity.earlyFinish) - currentActivity.duration\n",
    "                        }\n",
    "\n",
    "                        // return the results\n",
    "                        RETURN currentActivity.name AS activityName, \n",
    "                            currentActivity.lateStart AS lateStart, \n",
    "                            currentActivity.lateFinish AS lateFinish\n",
    "                        ORDER BY currentActivity.depth DESC\"\"\")\n",
    "            return results.data()\n",
    "    except Exception as e:\n",
    "        print(e)\n",
    "        raise e\n",
    "to_dataframe(backwardPass())"
   ]
  },
  {
   "cell_type": "markdown",
   "metadata": {},
   "source": [
    "### Calculating Slack\n",
    "- Free Slack/float - Amount of time you can delay any given activity without delaying the end date of the entire project\n",
    "- Total Slack/float - Amount of time you can delay an activity without delaying the earliest start of any subsequent activity"
   ]
  },
  {
   "cell_type": "code",
   "execution_count": 66,
   "metadata": {},
   "outputs": [
    {
     "name": "stderr",
     "output_type": "stream",
     "text": [
      "Received notification from DBMS server: {severity: WARNING} {code: Neo.ClientNotification.Statement.AggregationSkippedNull} {category: UNRECOGNIZED} {title: The query contains an aggregation function that skips null values.} {description: null value eliminated in set function.} {position: None} for query: '\\n                        MATCH (activity:ACTIVITY)\\n                        OPTIONAL MATCH (activity)-[:DEPENDS_ON]->(successor:ACTIVITY)\\n\\n                        WITH activity, COLLECT(successor) AS successors\\n\\n                        OPTIONAL MATCH path = (activity)<-[:DEPENDS_ON*]-(dependent:ACTIVITY)\\n                        WITH activity, successors, \\n                            COALESCE(MAX(LENGTH(path)), 0) AS depth, \\n                            SIZE(successors) AS outgoingDependencies\\n\\n                        ORDER BY depth ASC, outgoingDependencies DESC \\n\\n                        WITH COLLECT([activity, successors]) AS activitySuccessorsList\\n                        UNWIND activitySuccessorsList AS activitySuccessorsTuple\\n                        WITH activitySuccessorsTuple[0] AS currentActivity, activitySuccessorsTuple\\n                            WITH currentActivity, activitySuccessorsTuple, REDUCE(\\n                                minSuccEarlyStart = activitySuccessorsTuple[1][0].earlyStart, \\n                                succ IN activitySuccessorsTuple[1] |                    \\n                                CASE \\n                                    WHEN succ IS NOT NULL AND succ.earlyStart IS NOT NULL AND succ.earlyStart < minSuccEarlyStart \\n                                    THEN succ.earlyStart  \\n                                    ELSE minSuccEarlyStart \\n                                END\\n                            ) AS minSuccEarlyStart\\n                        SET currentActivity += {\\n                            totalFloat: currentActivity.lateFinish - currentActivity.earlyFinish,\\n                            freeFloat: COALESCE(minSuccEarlyStart - currentActivity.earlyStart - currentActivity.duration, 0)\\n                        }\\n                        RETURN currentActivity.name AS activityName, \\n                            currentActivity.earlyStart AS earlyStart, \\n                            currentActivity.earlyFinish AS earlyFinish,\\n                            currentActivity.lateStart AS lateStart,\\n                            currentActivity.lateFinish AS lateFinish,\\n                            currentActivity.totalFloat AS totalFloat,\\n                            currentActivity.freeFloat AS freeFloat\\n                        ORDER BY currentActivity.depth DESC'\n"
     ]
    },
    {
     "name": "stderr",
     "output_type": "stream",
     "text": [
      "Received notification from DBMS server: {severity: WARNING} {code: Neo.ClientNotification.Statement.AggregationSkippedNull} {category: UNRECOGNIZED} {title: The query contains an aggregation function that skips null values.} {description: null value eliminated in set function.} {position: None} for query: '\\n                        MATCH (activity:ACTIVITY)\\n                        OPTIONAL MATCH (activity)-[:DEPENDS_ON]->(successor:ACTIVITY)\\n\\n                        WITH activity, COLLECT(successor) AS successors\\n\\n                        OPTIONAL MATCH path = (activity)<-[:DEPENDS_ON*]-(dependent:ACTIVITY)\\n                        WITH activity, successors, \\n                            COALESCE(MAX(LENGTH(path)), 0) AS depth, \\n                            SIZE(successors) AS outgoingDependencies\\n\\n                        ORDER BY depth ASC, outgoingDependencies DESC \\n\\n                        WITH COLLECT([activity, successors]) AS activitySuccessorsList\\n                        UNWIND activitySuccessorsList AS activitySuccessorsTuple\\n                        WITH activitySuccessorsTuple[0] AS currentActivity, activitySuccessorsTuple\\n                            WITH currentActivity, activitySuccessorsTuple, REDUCE(\\n                                minSuccEarlyStart = activitySuccessorsTuple[1][0].earlyStart, \\n                                succ IN activitySuccessorsTuple[1] |                    \\n                                CASE \\n                                    WHEN succ IS NOT NULL AND succ.earlyStart IS NOT NULL AND succ.earlyStart < minSuccEarlyStart \\n                                    THEN succ.earlyStart  \\n                                    ELSE minSuccEarlyStart \\n                                END\\n                            ) AS minSuccEarlyStart\\n                        SET currentActivity += {\\n                            totalFloat: currentActivity.lateFinish - currentActivity.earlyFinish,\\n                            freeFloat: COALESCE(minSuccEarlyStart - currentActivity.earlyStart - currentActivity.duration, 0)\\n                        }\\n                        RETURN currentActivity.name AS activityName, \\n                            currentActivity.earlyStart AS earlyStart, \\n                            currentActivity.earlyFinish AS earlyFinish,\\n                            currentActivity.lateStart AS lateStart,\\n                            currentActivity.lateFinish AS lateFinish,\\n                            currentActivity.totalFloat AS totalFloat,\\n                            currentActivity.freeFloat AS freeFloat\\n                        ORDER BY currentActivity.depth DESC'\n"
     ]
    },
    {
     "data": {
      "text/html": [
       "<div>\n",
       "<style scoped>\n",
       "    .dataframe tbody tr th:only-of-type {\n",
       "        vertical-align: middle;\n",
       "    }\n",
       "\n",
       "    .dataframe tbody tr th {\n",
       "        vertical-align: top;\n",
       "    }\n",
       "\n",
       "    .dataframe thead th {\n",
       "        text-align: right;\n",
       "    }\n",
       "</style>\n",
       "<table border=\"1\" class=\"dataframe\">\n",
       "  <thead>\n",
       "    <tr style=\"text-align: right;\">\n",
       "      <th></th>\n",
       "      <th>activityName</th>\n",
       "      <th>earlyStart</th>\n",
       "      <th>earlyFinish</th>\n",
       "      <th>lateStart</th>\n",
       "      <th>lateFinish</th>\n",
       "      <th>totalFloat</th>\n",
       "      <th>freeFloat</th>\n",
       "    </tr>\n",
       "  </thead>\n",
       "  <tbody>\n",
       "    <tr>\n",
       "      <th>0</th>\n",
       "      <td>Genesis</td>\n",
       "      <td>0</td>\n",
       "      <td>0</td>\n",
       "      <td>7</td>\n",
       "      <td>7</td>\n",
       "      <td>7</td>\n",
       "      <td>0</td>\n",
       "    </tr>\n",
       "    <tr>\n",
       "      <th>1</th>\n",
       "      <td>A - Wall panel</td>\n",
       "      <td>0</td>\n",
       "      <td>4</td>\n",
       "      <td>3</td>\n",
       "      <td>7</td>\n",
       "      <td>3</td>\n",
       "      <td>0</td>\n",
       "    </tr>\n",
       "    <tr>\n",
       "      <th>2</th>\n",
       "      <td>B</td>\n",
       "      <td>4</td>\n",
       "      <td>7</td>\n",
       "      <td>4</td>\n",
       "      <td>7</td>\n",
       "      <td>0</td>\n",
       "      <td>0</td>\n",
       "    </tr>\n",
       "    <tr>\n",
       "      <th>3</th>\n",
       "      <td>C</td>\n",
       "      <td>4</td>\n",
       "      <td>6</td>\n",
       "      <td>10</td>\n",
       "      <td>12</td>\n",
       "      <td>6</td>\n",
       "      <td>6</td>\n",
       "    </tr>\n",
       "    <tr>\n",
       "      <th>4</th>\n",
       "      <td>D</td>\n",
       "      <td>7</td>\n",
       "      <td>12</td>\n",
       "      <td>7</td>\n",
       "      <td>12</td>\n",
       "      <td>0</td>\n",
       "      <td>0</td>\n",
       "    </tr>\n",
       "    <tr>\n",
       "      <th>5</th>\n",
       "      <td>E</td>\n",
       "      <td>7</td>\n",
       "      <td>10</td>\n",
       "      <td>13</td>\n",
       "      <td>16</td>\n",
       "      <td>6</td>\n",
       "      <td>6</td>\n",
       "    </tr>\n",
       "    <tr>\n",
       "      <th>6</th>\n",
       "      <td>F</td>\n",
       "      <td>12</td>\n",
       "      <td>16</td>\n",
       "      <td>12</td>\n",
       "      <td>16</td>\n",
       "      <td>0</td>\n",
       "      <td>0</td>\n",
       "    </tr>\n",
       "    <tr>\n",
       "      <th>7</th>\n",
       "      <td>G</td>\n",
       "      <td>16</td>\n",
       "      <td>19</td>\n",
       "      <td>16</td>\n",
       "      <td>19</td>\n",
       "      <td>0</td>\n",
       "      <td>0</td>\n",
       "    </tr>\n",
       "  </tbody>\n",
       "</table>\n",
       "</div>"
      ],
      "text/plain": [
       "     activityName  earlyStart  earlyFinish  lateStart  lateFinish  totalFloat  \\\n",
       "0         Genesis           0            0          7           7           7   \n",
       "1  A - Wall panel           0            4          3           7           3   \n",
       "2               B           4            7          4           7           0   \n",
       "3               C           4            6         10          12           6   \n",
       "4               D           7           12          7          12           0   \n",
       "5               E           7           10         13          16           6   \n",
       "6               F          12           16         12          16           0   \n",
       "7               G          16           19         16          19           0   \n",
       "\n",
       "   freeFloat  \n",
       "0          0  \n",
       "1          0  \n",
       "2          0  \n",
       "3          6  \n",
       "4          0  \n",
       "5          6  \n",
       "6          0  \n",
       "7          0  "
      ]
     },
     "execution_count": 66,
     "metadata": {},
     "output_type": "execute_result"
    }
   ],
   "source": [
    "def calculateSlack():\n",
    "    try:\n",
    "        with driver.session(database=NEO4J_DB) as session:\n",
    "            results = session.run(\"\"\"\n",
    "                        MATCH (activity:ACTIVITY)\n",
    "                        OPTIONAL MATCH (activity)-[:DEPENDS_ON]->(successor:ACTIVITY)\n",
    "\n",
    "                        WITH activity, COLLECT(successor) AS successors\n",
    "\n",
    "                        OPTIONAL MATCH path = (activity)<-[:DEPENDS_ON*]-(dependent:ACTIVITY)\n",
    "                        WITH activity, successors, \n",
    "                            COALESCE(MAX(LENGTH(path)), 0) AS depth, \n",
    "                            SIZE(successors) AS outgoingDependencies\n",
    "\n",
    "                        ORDER BY depth ASC, outgoingDependencies DESC \n",
    "\n",
    "                        WITH COLLECT([activity, successors]) AS activitySuccessorsList\n",
    "                        UNWIND activitySuccessorsList AS activitySuccessorsTuple\n",
    "                        WITH activitySuccessorsTuple[0] AS currentActivity, activitySuccessorsTuple\n",
    "                            WITH currentActivity, activitySuccessorsTuple, REDUCE(\n",
    "                                minSuccEarlyStart = activitySuccessorsTuple[1][0].earlyStart, \n",
    "                                succ IN activitySuccessorsTuple[1] |                    \n",
    "                                CASE \n",
    "                                    WHEN succ IS NOT NULL AND succ.earlyStart IS NOT NULL AND succ.earlyStart < minSuccEarlyStart \n",
    "                                    THEN succ.earlyStart  \n",
    "                                    ELSE minSuccEarlyStart \n",
    "                                END\n",
    "                            ) AS minSuccEarlyStart\n",
    "                        SET currentActivity += {\n",
    "                            totalFloat: currentActivity.lateFinish - currentActivity.earlyFinish,\n",
    "                            freeFloat: COALESCE(minSuccEarlyStart - currentActivity.earlyStart - currentActivity.duration, 0)\n",
    "                        }\n",
    "                        RETURN currentActivity.name AS activityName, \n",
    "                            currentActivity.earlyStart AS earlyStart, \n",
    "                            currentActivity.earlyFinish AS earlyFinish,\n",
    "                            currentActivity.lateStart AS lateStart,\n",
    "                            currentActivity.lateFinish AS lateFinish,\n",
    "                            currentActivity.totalFloat AS totalFloat,\n",
    "                            currentActivity.freeFloat AS freeFloat\n",
    "                        ORDER BY currentActivity.depth DESC\"\"\")\n",
    "            return results.data()\n",
    "    except Exception as e:\n",
    "        print(e)\n",
    "        raise e\n",
    "df = to_dataframe(calculateSlack())\n",
    "to_csv(to_dataframe(calculateSlack()), \"slack.csv\") \n",
    "df"
   ]
  },
  {
   "cell_type": "markdown",
   "metadata": {},
   "source": [
    "### "
   ]
  },
  {
   "cell_type": "markdown",
   "metadata": {},
   "source": [
    "### Finding critical path\n",
    "This are activities that cannot be delayed if the goal is to meet the project deadline"
   ]
  },
  {
   "cell_type": "code",
   "execution_count": 23,
   "metadata": {},
   "outputs": [
    {
     "data": {
      "text/html": [
       "<div>\n",
       "<style scoped>\n",
       "    .dataframe tbody tr th:only-of-type {\n",
       "        vertical-align: middle;\n",
       "    }\n",
       "\n",
       "    .dataframe tbody tr th {\n",
       "        vertical-align: top;\n",
       "    }\n",
       "\n",
       "    .dataframe thead th {\n",
       "        text-align: right;\n",
       "    }\n",
       "</style>\n",
       "<table border=\"1\" class=\"dataframe\">\n",
       "  <thead>\n",
       "    <tr style=\"text-align: right;\">\n",
       "      <th></th>\n",
       "      <th>criticalPath</th>\n",
       "      <th>projectDuration</th>\n",
       "    </tr>\n",
       "  </thead>\n",
       "  <tbody>\n",
       "    <tr>\n",
       "      <th>0</th>\n",
       "      <td>[Genesis, A, B, D, F, G]</td>\n",
       "      <td>19</td>\n",
       "    </tr>\n",
       "  </tbody>\n",
       "</table>\n",
       "</div>"
      ],
      "text/plain": [
       "               criticalPath  projectDuration\n",
       "0  [Genesis, A, B, D, F, G]               19"
      ]
     },
     "execution_count": 23,
     "metadata": {},
     "output_type": "execute_result"
    }
   ],
   "source": [
    "def criticalPath():\n",
    "    try:\n",
    "        with driver.session(database=NEO4J_DB) as session:\n",
    "            results = session.run(\"\"\"\n",
    "                        // trace paths between critical activities\n",
    "                        OPTIONAL MATCH path = (start:ACTIVITY)-[:DEPENDS_ON*]->(end:ACTIVITY)\n",
    "                        WHERE ALL(node IN NODES(path) WHERE node.totalFloat = 0)\n",
    "\n",
    "                        //Total duration between the critical activities\n",
    "                        WITH path, \n",
    "                            REDUCE(totalDuration = 0, activity IN NODES(path) | totalDuration + activity.duration) AS projectDuration\n",
    "                        ORDER BY projectDuration DESC\n",
    "\n",
    "                        // Return the longest path and duration\n",
    "                        LIMIT 1\n",
    "                        RETURN [activity IN NODES(path) | activity.name] AS criticalPath, projectDuration\"\"\")\n",
    "            return results.data()\n",
    "    except Exception as e:\n",
    "        print(e)\n",
    "        raise e\n",
    "to_dataframe(criticalPath())"
   ]
  },
  {
   "cell_type": "markdown",
   "metadata": {},
   "source": [
    "Duration can either be PERT or CPM, This values should come from industry players who agree amongst each other the standard. Target their emotion that they are part of something"
   ]
  },
  {
   "cell_type": "markdown",
   "metadata": {},
   "source": [
    "### Plan for upcoming tasks\n",
    "Get upcoming activities and figure out the resources required if the resources will be availble or not"
   ]
  },
  {
   "cell_type": "code",
   "execution_count": null,
   "metadata": {},
   "outputs": [],
   "source": [
    "# 2 hops\n",
    "\"\"\"MATCH (tom:Person {name:'Tom Hanks'})--{2}(colleagues:Person)\n",
    "RETURN DISTINCT colleagues.name AS name, colleagues.born AS bornIn\n",
    "ORDER BY bornIn\n",
    "LIMIT 5\"\"\""
   ]
  },
  {
   "cell_type": "markdown",
   "metadata": {},
   "source": [
    "### Table of dependencies"
   ]
  },
  {
   "cell_type": "code",
   "execution_count": 35,
   "metadata": {},
   "outputs": [
    {
     "name": "stderr",
     "output_type": "stream",
     "text": [
      "Received notification from DBMS server: {severity: WARNING} {code: Neo.ClientNotification.Statement.AggregationSkippedNull} {category: UNRECOGNIZED} {title: The query contains an aggregation function that skips null values.} {description: null value eliminated in set function.} {position: None} for query: '// Match all activities and their predecessors\\nMATCH (activity:ACTIVITY)\\nOPTIONAL MATCH (activity)<-[:DEPENDS_ON]-(predecessor:ACTIVITY)\\n\\n// Collect predecessors for each activity\\nWITH activity, COLLECT(predecessor.name) AS predecessors\\n\\n// Find the depth of each activity for topological order\\nOPTIONAL MATCH path = (activity)-[:DEPENDS_ON*]->(dependent:ACTIVITY)\\nWITH activity, predecessors, \\n    COALESCE(MAX(LENGTH(path)), 0) AS depth, \\n    SIZE(predecessors) AS incomingDependencies\\n\\n// Order activities by depth (descending) and by number of incoming dependencies (ascending)\\nORDER BY depth DESC, incomingDependencies ASC \\n\\n// Return the results with the predecessors as a list\\nRETURN \\n    activity.name AS name, \\n    depth, \\n    incomingDependencies, \\n    predecessors AS predecessorNames\\n'\n"
     ]
    },
    {
     "data": {
      "text/html": [
       "<div>\n",
       "<style scoped>\n",
       "    .dataframe tbody tr th:only-of-type {\n",
       "        vertical-align: middle;\n",
       "    }\n",
       "\n",
       "    .dataframe tbody tr th {\n",
       "        vertical-align: top;\n",
       "    }\n",
       "\n",
       "    .dataframe thead th {\n",
       "        text-align: right;\n",
       "    }\n",
       "</style>\n",
       "<table border=\"1\" class=\"dataframe\">\n",
       "  <thead>\n",
       "    <tr style=\"text-align: right;\">\n",
       "      <th></th>\n",
       "      <th>name</th>\n",
       "      <th>depth</th>\n",
       "      <th>incomingDependencies</th>\n",
       "      <th>predecessorNames</th>\n",
       "    </tr>\n",
       "  </thead>\n",
       "  <tbody>\n",
       "    <tr>\n",
       "      <th>0</th>\n",
       "      <td>Genesis</td>\n",
       "      <td>5</td>\n",
       "      <td>0</td>\n",
       "      <td>[]</td>\n",
       "    </tr>\n",
       "    <tr>\n",
       "      <th>1</th>\n",
       "      <td>A</td>\n",
       "      <td>4</td>\n",
       "      <td>1</td>\n",
       "      <td>[Genesis]</td>\n",
       "    </tr>\n",
       "    <tr>\n",
       "      <th>2</th>\n",
       "      <td>B</td>\n",
       "      <td>3</td>\n",
       "      <td>1</td>\n",
       "      <td>[A]</td>\n",
       "    </tr>\n",
       "    <tr>\n",
       "      <th>3</th>\n",
       "      <td>C</td>\n",
       "      <td>2</td>\n",
       "      <td>1</td>\n",
       "      <td>[A]</td>\n",
       "    </tr>\n",
       "    <tr>\n",
       "      <th>4</th>\n",
       "      <td>D</td>\n",
       "      <td>2</td>\n",
       "      <td>1</td>\n",
       "      <td>[B]</td>\n",
       "    </tr>\n",
       "    <tr>\n",
       "      <th>5</th>\n",
       "      <td>E</td>\n",
       "      <td>1</td>\n",
       "      <td>1</td>\n",
       "      <td>[B]</td>\n",
       "    </tr>\n",
       "    <tr>\n",
       "      <th>6</th>\n",
       "      <td>F</td>\n",
       "      <td>1</td>\n",
       "      <td>2</td>\n",
       "      <td>[C, D]</td>\n",
       "    </tr>\n",
       "    <tr>\n",
       "      <th>7</th>\n",
       "      <td>G</td>\n",
       "      <td>0</td>\n",
       "      <td>2</td>\n",
       "      <td>[E, F]</td>\n",
       "    </tr>\n",
       "  </tbody>\n",
       "</table>\n",
       "</div>"
      ],
      "text/plain": [
       "      name  depth  incomingDependencies predecessorNames\n",
       "0  Genesis      5                     0               []\n",
       "1        A      4                     1        [Genesis]\n",
       "2        B      3                     1              [A]\n",
       "3        C      2                     1              [A]\n",
       "4        D      2                     1              [B]\n",
       "5        E      1                     1              [B]\n",
       "6        F      1                     2           [C, D]\n",
       "7        G      0                     2           [E, F]"
      ]
     },
     "execution_count": 35,
     "metadata": {},
     "output_type": "execute_result"
    }
   ],
   "source": [
    "\n",
    "session =  driver.session(database=NEO4J_DB) \n",
    "results = session.run(\"\"\"// Match all activities and their predecessors\n",
    "MATCH (activity:ACTIVITY)\n",
    "OPTIONAL MATCH (activity)<-[:DEPENDS_ON]-(predecessor:ACTIVITY)\n",
    "\n",
    "// Collect predecessors for each activity\n",
    "WITH activity, COLLECT(predecessor.name) AS predecessors\n",
    "\n",
    "// Find the depth of each activity for topological order\n",
    "OPTIONAL MATCH path = (activity)-[:DEPENDS_ON*]->(dependent:ACTIVITY)\n",
    "WITH activity, predecessors, \n",
    "    COALESCE(MAX(LENGTH(path)), 0) AS depth, \n",
    "    SIZE(predecessors) AS incomingDependencies\n",
    "\n",
    "// Order activities by depth (descending) and by number of incoming dependencies (ascending)\n",
    "ORDER BY depth DESC, incomingDependencies ASC \n",
    "\n",
    "// Return the results with the predecessors as a list\n",
    "RETURN \n",
    "    activity.name AS name, \n",
    "    depth, \n",
    "    incomingDependencies, \n",
    "    predecessors AS predecessorNames\n",
    "\"\"\")\n",
    "df = to_dataframe(results.data())\n",
    "df"
   ]
  },
  {
   "cell_type": "code",
   "execution_count": null,
   "metadata": {},
   "outputs": [],
   "source": [
    "# # depends on will be the ID of the predecessor activities\n",
    "# def addResourceToActivity(resource: Resource, activity: Activity):\n",
    "    \n",
    "#     try:\n",
    "#         with driver.session(database=\"neo4j\") as session:\n",
    "#             if len(predecessors):\n",
    "#                 predecessors = [{\"activity\": vars(obj.activity), \"type\": obj.type, \"duration\": obj.duration} for obj in predecessors] # serialize the objects\n",
    "#                 # activity has predecessors\n",
    "#                 session.run(\"\"\"\n",
    "#                     CREATE (activity:ACTIVITY {name: $name, description: $description, duration: $duration})\n",
    "#                     WITH activity, $predecessors as batch\n",
    "#                     UNWIND batch as dependency\n",
    "#                     MATCH (predecessor:ACTIVITY)\n",
    "#                     WHERE ID(predecessor) = dependency.activity.id\n",
    "#                     CREATE (activity)<-[:DEPENDS_ON {type: dependency.type, duration: dependency.duration}]-(predecessor)\"\"\", predecessors=predecessors, name=activity.name, description=activity.description, duration=activity.duration)\n",
    "\n",
    "#             else:\n",
    "#                 # Activity has no predecessor start nodes\n",
    "#                 session.run(\"\"\"\n",
    "#                         MATCH (genesis:ACTIVITY {name: \"Genesis\"})\n",
    "#                         CREATE (start:ACTIVITY {name: $name, description: $description, duration: $duration, earlyStart: COALESCE(genesis.earlyFinish, 0), earlyFinish: COALESCE(genesis.earlyFinish, 0) + COALESCE($duration, 0)})\n",
    "#                         CREATE (start)<-[:DEPENDS_ON]-(genesis)\n",
    "#                     \"\"\", \n",
    "#                     name = activity.name,\n",
    "#                     description = activity.description,\n",
    "#                     duration = activity.duration)\n",
    "#     except Exception as e:\n",
    "#         raise e"
   ]
  },
  {
   "cell_type": "code",
   "execution_count": null,
   "metadata": {},
   "outputs": [],
   "source": [
    "from neo4j import GraphDatabase\n",
    "from pyvis.network import Network\n",
    "\n",
    "\n",
    "def fetch_network_data():\n",
    "    query = \"\"\"\n",
    "    MATCH (a:ACTIVITY)-[r:DEPENDS_ON]->(b:ACTIVITY)\n",
    "    RETURN a, b, r\n",
    "    \"\"\"\n",
    "    with driver.session() as session:\n",
    "        result = session.run(query)\n",
    "        return [\n",
    "            (record[\"a\"], record[\"b\"], record[\"r\"])\n",
    "            for record in result\n",
    "        ]\n",
    "\n",
    "# Fetch and visualize\n",
    "data = fetch_network_data()\n",
    "\n"
   ]
  },
  {
   "cell_type": "code",
   "execution_count": null,
   "metadata": {},
   "outputs": [],
   "source": [
    "# used to plot the network digram\n",
    "data"
   ]
  }
 ],
 "metadata": {
  "kernelspec": {
   "display_name": "venv",
   "language": "python",
   "name": "python3"
  },
  "language_info": {
   "codemirror_mode": {
    "name": "ipython",
    "version": 3
   },
   "file_extension": ".py",
   "mimetype": "text/x-python",
   "name": "python",
   "nbconvert_exporter": "python",
   "pygments_lexer": "ipython3",
   "version": "3.10.16"
  }
 },
 "nbformat": 4,
 "nbformat_minor": 2
}
