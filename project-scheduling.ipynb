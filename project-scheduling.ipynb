{
 "cells": [
  {
   "cell_type": "code",
   "execution_count": null,
   "metadata": {},
   "outputs": [],
   "source": [
    "!pip install neo4j python-dotenv pandas pyvis pydantic fastapi python-multipart matplotlib pandas"
   ]
  },
  {
   "cell_type": "code",
   "execution_count": null,
   "metadata": {},
   "outputs": [],
   "source": [
    "pip install  uvicorn[\"standard\"]"
   ]
  },
  {
   "cell_type": "code",
   "execution_count": 1,
   "metadata": {},
   "outputs": [],
   "source": [
    "import os\n",
    "os.environ[\"NEO4J_DB\"]= \"neo4j\"\n",
    "NEO4J_DB = os.getenv(\"NEO4J_DB\")"
   ]
  },
  {
   "cell_type": "code",
   "execution_count": 2,
   "metadata": {},
   "outputs": [
    {
     "name": "stdout",
     "output_type": "stream",
     "text": [
      "Connection established.\n"
     ]
    }
   ],
   "source": [
    "from neo4j import GraphDatabase\n",
    "\n",
    "# URI examples: \"neo4j://localhost\", \"neo4j+s://xxx.databases.neo4j.io\"\n",
    "URI = \"bolt://localhost:7687\"\n",
    "AUTH = (NEO4J_DB, \"password\")\n",
    "\n",
    "with GraphDatabase.driver(URI, auth=AUTH, database=NEO4J_DB) as driver: # explicit db allows the driver to work more efficiently\n",
    "        driver.verify_connectivity()\n",
    "        print(\"Connection established.\")"
   ]
  },
  {
   "cell_type": "markdown",
   "metadata": {},
   "source": [
    "_____"
   ]
  },
  {
   "cell_type": "markdown",
   "metadata": {},
   "source": [
    "## Project Activity Schema"
   ]
  },
  {
   "cell_type": "code",
   "execution_count": 3,
   "metadata": {},
   "outputs": [],
   "source": [
    "from pydantic import BaseModel\n",
    "from enum import Enum\n",
    "from typing import Optional, Union\n",
    "\n",
    "# can either be lead or lag\n",
    "class RelationEnum(str, Enum):\n",
    "    finishToStart = \"finish-to-start\" # a dependent activity cannot start until its predecessor finish (default)\n",
    "    startToStart = \"start-to-start\" # a dependent activity cannot start until predencessor has started\n",
    "    finishToFinish = \"finish-to-finish\" # a dependent activity cannot finish until its predecessor is finished\n",
    "    startToFinish = \"start-to-finish\" # a depended activity cannot finish until its predecessor has started\n",
    "\n",
    "class Activity(BaseModel):\n",
    "    earlyStart: Optional[int] = None\n",
    "    earlyFinish: Optional[int] = None\n",
    "    lateStart: Optional[int] = None\n",
    "    lateFinish: Optional[int] = None\n",
    "    duration: Optional[int]\n",
    "    name: Optional[str]\n",
    "    description: Optional[str] = None\n",
    "    totalFloat: Optional[int] = None\n",
    "    freeFloat: Optional[int] = None\n",
    "    independentFloat: Optional[int] = None\n",
    "    # TODO how does this activity consume time and resources\n",
    "\n",
    "class Predecessor(BaseModel):\n",
    "    id: Union[str, int]\n",
    "    earlyStart: Optional[int]\n",
    "    earlyFinish: Optional[int]\n",
    "\n",
    "class Relationship(BaseModel):\n",
    "    activity: Predecessor\n",
    "    type: RelationEnum = \"finish-to-start\"\n",
    "    duration: Optional[int] = 0\n"
   ]
  },
  {
   "cell_type": "markdown",
   "metadata": {},
   "source": [
    "## Resource Allocaion Schema\n",
    "We can think of introducing geofenced cost of resources like how it is done in products. This data will be used in price analysis for BoQs"
   ]
  },
  {
   "cell_type": "markdown",
   "metadata": {},
   "source": [
    "### Labour"
   ]
  },
  {
   "cell_type": "code",
   "execution_count": 74,
   "metadata": {},
   "outputs": [],
   "source": [
    "class SkillEnum(str, Enum):\n",
    "    plumbing = \"plumbing\"\n",
    "    masonry = \"masonry\"\n",
    "\n",
    "class RateEnum(str, Enum):\n",
    "    perHour = \"per-hour\"\n",
    "    perDay = \"per-day\"\n",
    "\n",
    "class GroupEnum(str, Enum):\n",
    "    example = \"example\"\n",
    "\n",
    "class Job(BaseModel):\n",
    "    title: str  # e.g., construction manager, resident engineer, driver, site agent etc\n",
    "\n",
    "class Skill(BaseModel):\n",
    "    type: SkillEnum # e.g, plumbing, masonry etc\n",
    "    rate: RateEnum # per hour or per day\n",
    "    renumeration: float\n",
    "    total: int\n",
    "    available: int\n",
    "    \n",
    "# to authenticate into the system\n",
    "class Employee(BaseModel):\n",
    "    name: str\n",
    "    password: Optional[str]\n",
    "    username: Optional[str]\n",
    "    group: Optional[GroupEnum]\n",
    "    job: Job\n",
    "\n",
    "class EmployeSkill(BaseModel):\n",
    "    skill: Skill\n",
    "    employee: Employee\n"
   ]
  },
  {
   "cell_type": "markdown",
   "metadata": {},
   "source": [
    "### Equiment"
   ]
  },
  {
   "cell_type": "code",
   "execution_count": 75,
   "metadata": {},
   "outputs": [],
   "source": [
    "class EquipmentSourceEnum(str, Enum):\n",
    "    purchase = \"purchase\"\n",
    "    leasing = \"leasing\"  # for a period of time may include purchase option\n",
    "    renting = \"renting\"  # only when it is available\n",
    "\n",
    "class Equipment(BaseModel):\n",
    "    name: str\n",
    "    description: str\n",
    "    source: EquipmentSourceEnum\n",
    "    rate: RateEnum\n",
    "    cost: float\n",
    "    transportCost: float = 0"
   ]
  },
  {
   "cell_type": "markdown",
   "metadata": {},
   "source": [
    "### RawMaterial\n",
    "Here is where Jumba ecosystem is integrated. Depending on requirements of the project Jumba will be used as a procurement partner since it handles material sourcing and logistics."
   ]
  },
  {
   "cell_type": "code",
   "execution_count": 76,
   "metadata": {},
   "outputs": [],
   "source": [
    "class Material(BaseModel):\n",
    "    name: str\n",
    "    description: str # include the variance e.g., if cement what type rapid curing or normal curing\n",
    "    quantity: int\n",
    "    unitCost: int  # geofenced price"
   ]
  },
  {
   "cell_type": "markdown",
   "metadata": {},
   "source": [
    "## Resource Allocation Logic\n",
    "TODO: decide allocate resource when creating an activity or after all activities have been created\n",
    "### Goal\n",
    "- Is the resource available, if not what actions to perform to make it available e.g., alert user, or AI agents to create orders for material or equipment and user just confirms for them to be brought to site at specific days \n",
    "- What is the cost of allocating the resource required by the activity. ( information be used in price analysis for BoQ)\n",
    "- A resouce might not meet the requirement so what is the deficit\n",
    "\n",
    "This allocation should be on a timeline where we release resources e.g., equipment once an activity is done so that is available for the subsequent activities. Advance the resource allocation which have constraints to suggest optimal use of resources to ensure no wastage.\n",
    "\n",
    "- Each ACTIVITY will have a corresponding ALLOCATION node (store resource allocated metadata i.e., the cost of the allocation depending on geofencing)\n",
    "- An activity requests for a resouce to this allocation node by a dependency REQUIRES\n",
    "- Perform DB query to get the resource\n",
    "    - For materials Jumba's ecosystem will calculate the unitCost, shipping cost and constraints e.g., MoQ for the materials\n",
    "    - For equipment Jumba can introduce this line of products for leasing, renting or purchasing unitCost and transportation cost\n",
    "    - Labour on the contractors part a DBMS with the skills available to the contractor and cost of this labour. For manual labour consider introducing an external app like JumbaGo. We will have a labour contractor who adds the skills available to him or her.\n",
    "- From this allocations will act as saving best practice (a need in civil works for documenting the best practices in implementations)"
   ]
  },
  {
   "cell_type": "code",
   "execution_count": 77,
   "metadata": {},
   "outputs": [
    {
     "data": {
      "text/plain": [
       "'MATCH (n {name: \"Genesis\"})-[requires:REQUIRES]->(allocation:ALLOCATION) \\nMATCH (n)-[allocated:ALLOCATED]->(allocation:ALLOCATION)\\nRETURN requires.quantity as requiredQuantity, n.quantity as allocatedQuantity'"
      ]
     },
     "execution_count": 77,
     "metadata": {},
     "output_type": "execute_result"
    }
   ],
   "source": [
    "# check if allocation is full\n",
    "\"\"\"MATCH (n {name: \"Genesis\"})-[requires:REQUIRES]->(allocation:ALLOCATION) \n",
    "MATCH (n)-[allocated:ALLOCATED]->(allocation:ALLOCATION)\n",
    "RETURN requires.quantity as requiredQuantity, n.quantity as allocatedQuantity\"\"\""
   ]
  },
  {
   "cell_type": "code",
   "execution_count": 78,
   "metadata": {},
   "outputs": [
    {
     "data": {
      "text/plain": [
       "'CREATE (activity:ACTIVITY) ... RETURN ID(activity) as activityID'"
      ]
     },
     "execution_count": 78,
     "metadata": {},
     "output_type": "execute_result"
    }
   ],
   "source": [
    "# an activity requires a resource (activity is requesting a resource)\n",
    "\"\"\"CREATE (activity:ACTIVITY) ... RETURN ID(activity) as activityID\"\"\""
   ]
  },
  {
   "cell_type": "markdown",
   "metadata": {},
   "source": [
    "### Allocating Labour"
   ]
  },
  {
   "cell_type": "code",
   "execution_count": 79,
   "metadata": {},
   "outputs": [
    {
     "data": {
      "text/plain": [
       "'CREATE (allocation) - [:ALLOCATED {quantity: 5}] -> (acitivity)'"
      ]
     },
     "execution_count": 79,
     "metadata": {},
     "output_type": "execute_result"
    }
   ],
   "source": [
    "# aget the activity\n",
    "\"\"\"MATCH (activity:ACTIVITY) WHERE ID(activity) = $activityID\"\"\"\n",
    "\n",
    "# from the required resource\n",
    "# Query DB for the resource (predefined skills the company has) to get the cost of this resource according to geofencing, and if available and amount available\n",
    "# save it in a variable resource\n",
    "# update the allocation with the metadata of the resources according to geofencing also constraints of delivering the labour\n",
    "\n",
    "# create an allocation for the activity if the activity requires resource\n",
    "\"\"\"CREATE (allocation: ALLOCATION {activityID: $activityID})\"\"\"\n",
    "# create a relationship between the activity and allocation\n",
    "\"\"\"(activity)-[requires:REQUIRES {type: labour, name:'plumbing', quantity: 5}]->(allocation)\"\"\" # activity expects  ... in the allocation\n",
    "\n",
    "\"\"\"SET allocation.unitCost = $resource.unitCost, allocation.rate = resource.rate  \"\"\" # required.quantity x allocaition.unitCost = price analysis for resource\n",
    "\n",
    "# What has been allocated depending the resource constraints e.g., available_quantity, \n",
    "# with MoQ will result to wastage (manufacturer and developer relationship to get exact quantity required)\n",
    "\"\"\"CREATE (allocation) - [:ALLOCATED {quantity: 5}] -> (acitivity)\"\"\""
   ]
  },
  {
   "cell_type": "markdown",
   "metadata": {},
   "source": [
    "### Allocating material\n",
    "Query DB for the materials Jumba has and its cost in terms of geofencing. If not available i.e., the cost is not available aleart someone (Jumba and User)"
   ]
  },
  {
   "cell_type": "code",
   "execution_count": 80,
   "metadata": {},
   "outputs": [
    {
     "data": {
      "text/plain": [
       "'CREATE (allocation) - [:ALLOCATED {quantity: 5}] -> (acitivity)'"
      ]
     },
     "execution_count": 80,
     "metadata": {},
     "output_type": "execute_result"
    }
   ],
   "source": [
    "# aget the activity\n",
    "\"\"\"MATCH (activity:ACTIVITY) WHERE ID(activity) = $activityID\"\"\"\n",
    "\n",
    "# from the required resource\n",
    "# Query DB for the resource (predefined resources that Jumba can deliver within their procurement) to get the cost of this resource according to geofencing, and if available and amount available\n",
    "# save it in a variable resource\n",
    "# update the allocation with the metadata of the resources according to geofencing also constraints of delivering the material e.g., MoQ\n",
    "\n",
    "# create an allocation for the activity if the activity requires resource\n",
    "\"\"\"CREATE (allocation: ALLOCATION {activityID: $activityID})\"\"\"\n",
    "# create a relationship between the activity and allocation\n",
    "\"\"\"(activity)-[requires:REQUIRES {type: material, name:cement, quantity: 5}]->(allocation)\"\"\" # activity expects  ... in the allocation\n",
    "\n",
    "\"\"\"\n",
    "    SET allocation.unitCost = $resource.unitCost, allocation.moq = resource.moq  \"\"\" # required.quantity x allocaition.unitCost = price analysis for resource\n",
    "\n",
    "# What has been allocated depending the resource constraints e.g., available_quantity, \n",
    "# with MoQ will result to wastage (manufacturer and developer relationship to get exact quantity required)\n",
    "\"\"\"CREATE (allocation) - [:ALLOCATED {quantity: 5}] -> (acitivity)\"\"\""
   ]
  },
  {
   "cell_type": "markdown",
   "metadata": {},
   "source": [
    "### Allocating equipment"
   ]
  },
  {
   "cell_type": "code",
   "execution_count": 81,
   "metadata": {},
   "outputs": [
    {
     "data": {
      "text/plain": [
       "'CREATE (allocation) - [:ALLOCATED {quantity: 1}] -> (acitivity)'"
      ]
     },
     "execution_count": 81,
     "metadata": {},
     "output_type": "execute_result"
    }
   ],
   "source": [
    "# aget the activity\n",
    "\"\"\"MATCH (activity:ACTIVITY) WHERE ID(activity) = $activityID\"\"\"\n",
    "\n",
    "# from the required resource\n",
    "# Query DB for the resource (predefined resources that Jumba can deliver within their procurement) to get the cost of this resource according to geofencing, and if available and amount available\n",
    "# save it in a variable resource\n",
    "# update the allocation with the metadata of the resources according to geofencing and constraints\n",
    "\n",
    "# create an allocation for the activity if the activity requires resource\n",
    "\"\"\"CREATE (allocation: ALLOCATION {activityID: $activityID})\"\"\"\n",
    "# create a relationship between the activity and allocation\n",
    "\"\"\"(activity)-[requires:REQUIRES {type: equiment, name:crane, quantity: 2}]->(allocation)\"\"\" # activity expects  ... in the allocation\n",
    "\n",
    "\"\"\"SET allocation.unitCost = $resource.unitCost, allocation.rate = $allocation.rate \"\"\" # required.quantity x allocaition.unitCost = price analysis for resource\n",
    "\n",
    "\"\"\"CREATE (allocation) - [:ALLOCATED {quantity: 1}] -> (acitivity)\"\"\""
   ]
  },
  {
   "cell_type": "code",
   "execution_count": 75,
   "metadata": {},
   "outputs": [],
   "source": [
    "import pandas as pd\n",
    "def formatter(records):\n",
    "    # Loop through results and do something with them\n",
    "    for record in records:\n",
    "        return record.data() # obtain record as dict\n",
    "    \n",
    "def to_dataframe(data):\n",
    "    return pd.DataFrame(data)\n",
    "\n",
    "def to_csv(data: pd.DataFrame, filename):\n",
    "    data.to_csv(filename)\n",
    "\n",
    "def to_excel(data: pd.DataFrame, filename):\n",
    "    data.to_excel(filename)"
   ]
  },
  {
   "cell_type": "code",
   "execution_count": 5,
   "metadata": {},
   "outputs": [],
   "source": [
    "def resetGraph():\n",
    "    try:\n",
    "        with driver.session(database=NEO4J_DB) as session:\n",
    "            session.run(\"\"\"MATCH (n:ACTIVITY) SET n += {earlyStart: NULL, earlyFinish: NULL, lateStart: 0, lateFinish: 0}\"\"\")\n",
    "        return\n",
    "    except Exception as e:\n",
    "        raise e"
   ]
  },
  {
   "cell_type": "markdown",
   "metadata": {},
   "source": [
    "## Start Node"
   ]
  },
  {
   "cell_type": "markdown",
   "metadata": {},
   "source": [
    "Create a start node since we are using activity on node. This will be connecting activities that do not have predecessors"
   ]
  },
  {
   "cell_type": "code",
   "execution_count": null,
   "metadata": {},
   "outputs": [],
   "source": [
    "# create the start node\n",
    "def initiateProjectSchedule():\n",
    "    try:\n",
    "        with driver.session(database=NEO4J_DB) as session:\n",
    "            results = session.run(\"\"\"\n",
    "                MERGE (start:ACTIVITY {name: $name, description: $description, duration: 0, earlyStart: 0, earlyFinish: 0, lateStart: 0, lateFinish: 0})\n",
    "                RETURN start\n",
    "            \"\"\",\n",
    "            name = \"Genesis\",\n",
    "            description = \"This marks the start of your project no resources are consumed\"\n",
    "            )\n",
    "        return formatter(results)\n",
    "    except Exception as e:\n",
    "        print(e)\n",
    "initiateProjectSchedule()"
   ]
  },
  {
   "cell_type": "markdown",
   "metadata": {},
   "source": [
    "## Activity Node and Edge\n",
    "Create activity together with dependencies between each other or start node"
   ]
  },
  {
   "cell_type": "code",
   "execution_count": 85,
   "metadata": {},
   "outputs": [
    {
     "data": {
      "text/plain": [
       "'CREATE (activity:ACTIVITY {name: $name, description: $description, duration: $duration})\\n                    WITH activity, $predecessors as batch\\n                    UNWIND batch as dependency\\n                    MATCH (predecessor:ACTIVITY)\\n                    WHERE ID(predecessor) = dependency.activity.id\\n                    CREATE (activity)<-[:DEPENDS_ON {type: dependency.type, duration: dependency.duration}]-(predecessor)'"
      ]
     },
     "execution_count": 85,
     "metadata": {},
     "output_type": "execute_result"
    }
   ],
   "source": [
    "# create node without calculating early start and early finish\n",
    "\"\"\"CREATE (activity:ACTIVITY {name: $name, description: $description, duration: $duration})\n",
    "                    WITH activity, $predecessors as batch\n",
    "                    UNWIND batch as dependency\n",
    "                    MATCH (predecessor:ACTIVITY)\n",
    "                    WHERE ID(predecessor) = dependency.activity.id\n",
    "                    CREATE (activity)<-[:DEPENDS_ON {type: dependency.type, duration: dependency.duration}]-(predecessor)\"\"\"\n",
    "\n",
    "# TODO: create an activity and calculate earlyStart and early finish. User will see in real time taken to finish project "
   ]
  },
  {
   "cell_type": "code",
   "execution_count": 7,
   "metadata": {},
   "outputs": [],
   "source": [
    "# depends on will be the ID of the predecessor activities\n",
    "def createActivity(activity: Activity, predecessors: list[Relationship] = []):\n",
    "    \n",
    "    try:\n",
    "        with driver.session(database=\"neo4j\") as session:\n",
    "            if len(predecessors):\n",
    "                predecessors = [{\"activity\": vars(obj.activity), \"type\": obj.type, \"duration\": obj.duration} for obj in predecessors] # serialize the objects\n",
    "                # activity has predecessors\n",
    "                session.run(\"\"\"\n",
    "                    CREATE (activity:ACTIVITY {name: $name, description: $description, duration: $duration})\n",
    "                    WITH activity, $predecessors as batch\n",
    "                    UNWIND batch as dependency\n",
    "                    MATCH (predecessor:ACTIVITY)\n",
    "                    WHERE ID(predecessor) = dependency.activity.id\n",
    "                    CREATE (activity)<-[:DEPENDS_ON {type: dependency.type, duration: dependency.duration}]-(predecessor)\"\"\", predecessors=predecessors, name=activity.name, description=activity.description, duration=activity.duration)\n",
    "\n",
    "            else:\n",
    "                # Activity has no predecessor start nodes\n",
    "                session.run(\"\"\"\n",
    "                        MATCH (genesis:ACTIVITY {name: \"Genesis\"})\n",
    "                        CREATE (start:ACTIVITY {name: $name, description: $description, duration: $duration, earlyStart: COALESCE(genesis.earlyFinish, 0), earlyFinish: COALESCE(genesis.earlyFinish, 0) + COALESCE($duration, 0)})\n",
    "                        CREATE (start)<-[:DEPENDS_ON]-(genesis)\n",
    "                    \"\"\", \n",
    "                    name = activity.name,\n",
    "                    description = activity.description,\n",
    "                    duration = activity.duration)\n",
    "    except Exception as e:\n",
    "        raise e"
   ]
  },
  {
   "cell_type": "markdown",
   "metadata": {},
   "source": [
    "#### An activity without a dependency\n",
    "The reason we needed a genesis node"
   ]
  },
  {
   "cell_type": "code",
   "execution_count": 8,
   "metadata": {},
   "outputs": [
    {
     "name": "stderr",
     "output_type": "stream",
     "text": [
      "/var/folders/pq/j682cyjd7cb0xq6g_rj_397w0000gn/T/ipykernel_89373/1068076115.py:5: DeprecationWarning: Using a driver after it has been closed is deprecated. Future versions of the driver will raise an error.\n",
      "  with driver.session(database=\"neo4j\") as session:\n"
     ]
    }
   ],
   "source": [
    "# creating the first activity with no dependecy\n",
    "createActivity(Activity(name=\"Excavation\", description=\"It is just digging staff\", duration=10))"
   ]
  },
  {
   "cell_type": "code",
   "execution_count": 9,
   "metadata": {},
   "outputs": [
    {
     "name": "stderr",
     "output_type": "stream",
     "text": [
      "/var/folders/pq/j682cyjd7cb0xq6g_rj_397w0000gn/T/ipykernel_89373/1068076115.py:5: DeprecationWarning: Using a driver after it has been closed is deprecated. Future versions of the driver will raise an error.\n",
      "  with driver.session(database=\"neo4j\") as session:\n"
     ]
    }
   ],
   "source": [
    "# creating the second activity with no dependecy\n",
    "createActivity(Activity(name=\"soil test\", description=\"Confirming strength of soil\", duration=3))"
   ]
  },
  {
   "cell_type": "markdown",
   "metadata": {},
   "source": [
    "### Activity with more tha one predecessor"
   ]
  },
  {
   "cell_type": "code",
   "execution_count": 10,
   "metadata": {},
   "outputs": [
    {
     "name": "stderr",
     "output_type": "stream",
     "text": [
      "/var/folders/pq/j682cyjd7cb0xq6g_rj_397w0000gn/T/ipykernel_89373/1068076115.py:5: DeprecationWarning: Using a driver after it has been closed is deprecated. Future versions of the driver will raise an error.\n",
      "  with driver.session(database=\"neo4j\") as session:\n",
      "Received notification from DBMS server: {severity: WARNING} {code: Neo.ClientNotification.Statement.FeatureDeprecationWarning} {category: DEPRECATION} {title: This feature is deprecated and will be removed in future versions.} {description: The query used a deprecated function: `id`.} {position: line: 6, column: 27, offset: 290} for query: '\\n                    CREATE (activity:ACTIVITY {name: $name, description: $description, duration: $duration})\\n                    WITH activity, $predecessors as batch\\n                    UNWIND batch as dependency\\n                    MATCH (predecessor:ACTIVITY)\\n                    WHERE ID(predecessor) = dependency.activity.id\\n                    CREATE (activity)<-[:DEPENDS_ON {type: dependency.type, duration: dependency.duration}]-(predecessor)'\n"
     ]
    }
   ],
   "source": [
    "# has more than one predecessor\n",
    "predecessors = [\n",
    "    Relationship(activity=Predecessor(id = 1, earlyStart=0, earlyFinish=10), duration = 0),\n",
    "    Relationship(activity=Predecessor(id = 2, earlyStart=0, earlyFinish=3), duration = 7),\n",
    "]\n",
    "createActivity(Activity(name=\"Poor foundation\", description=\"placing foundation according to design\", duration=2), predecessors=predecessors)"
   ]
  },
  {
   "cell_type": "markdown",
   "metadata": {},
   "source": [
    "### Activity with 1 predecessor"
   ]
  },
  {
   "cell_type": "code",
   "execution_count": 11,
   "metadata": {},
   "outputs": [
    {
     "name": "stderr",
     "output_type": "stream",
     "text": [
      "/var/folders/pq/j682cyjd7cb0xq6g_rj_397w0000gn/T/ipykernel_89373/1068076115.py:5: DeprecationWarning: Using a driver after it has been closed is deprecated. Future versions of the driver will raise an error.\n",
      "  with driver.session(database=\"neo4j\") as session:\n",
      "Received notification from DBMS server: {severity: WARNING} {code: Neo.ClientNotification.Statement.FeatureDeprecationWarning} {category: DEPRECATION} {title: This feature is deprecated and will be removed in future versions.} {description: The query used a deprecated function: `id`.} {position: line: 6, column: 27, offset: 290} for query: '\\n                    CREATE (activity:ACTIVITY {name: $name, description: $description, duration: $duration})\\n                    WITH activity, $predecessors as batch\\n                    UNWIND batch as dependency\\n                    MATCH (predecessor:ACTIVITY)\\n                    WHERE ID(predecessor) = dependency.activity.id\\n                    CREATE (activity)<-[:DEPENDS_ON {type: dependency.type, duration: dependency.duration}]-(predecessor)'\n"
     ]
    }
   ],
   "source": [
    "# has one predecessor\n",
    "predecessors = [\n",
    "    Relationship(activity=Predecessor(id = 3, earlyStart=0, earlyFinish=10), duration = 0),\n",
    "]\n",
    "createActivity(Activity(name=\"Curing\", description=\"cure for 7 days\", duration=7), predecessors=predecessors)"
   ]
  },
  {
   "cell_type": "markdown",
   "metadata": {},
   "source": [
    "### Activity with three predecessors"
   ]
  },
  {
   "cell_type": "code",
   "execution_count": 15,
   "metadata": {},
   "outputs": [
    {
     "name": "stderr",
     "output_type": "stream",
     "text": [
      "/var/folders/pq/j682cyjd7cb0xq6g_rj_397w0000gn/T/ipykernel_89373/1068076115.py:5: DeprecationWarning: Using a driver after it has been closed is deprecated. Future versions of the driver will raise an error.\n",
      "  with driver.session(database=\"neo4j\") as session:\n",
      "Received notification from DBMS server: {severity: WARNING} {code: Neo.ClientNotification.Statement.FeatureDeprecationWarning} {category: DEPRECATION} {title: This feature is deprecated and will be removed in future versions.} {description: The query used a deprecated function: `id`.} {position: line: 6, column: 27, offset: 290} for query: '\\n                    CREATE (activity:ACTIVITY {name: $name, description: $description, duration: $duration})\\n                    WITH activity, $predecessors as batch\\n                    UNWIND batch as dependency\\n                    MATCH (predecessor:ACTIVITY)\\n                    WHERE ID(predecessor) = dependency.activity.id\\n                    CREATE (activity)<-[:DEPENDS_ON {type: dependency.type, duration: dependency.duration}]-(predecessor)'\n"
     ]
    }
   ],
   "source": [
    "# has more than one predecessor\n",
    "predecessors = [\n",
    "    Relationship(activity=Predecessor(id = 5, earlyStart=0, earlyFinish=10), duration = 0),\n",
    "]\n",
    "createActivity(Activity(name=\"Inspection\", description=\"Inspect the foundation before back filling\", duration=1), predecessors=predecessors)"
   ]
  },
  {
   "cell_type": "code",
   "execution_count": null,
   "metadata": {},
   "outputs": [],
   "source": [
    "# has more than one predecessor\n",
    "predecessors = [\n",
    "    Relationship(activity=Predecessor(id = 2, earlyStart=0, earlyFinish=10), duration = 0),\n",
    "    Relationship(activity=Predecessor(id = 3, earlyStart=0, earlyFinish=10), duration = 0),\n",
    "    Relationship(activity=Predecessor(id = 4, earlyStart=0, earlyFinish=10), duration = 0),\n",
    "]\n",
    "createActivity(Activity(name=\"Inspection\", description=\"Inspect the foundation before back filling\", duration=1), predecessors=predecessors)"
   ]
  },
  {
   "cell_type": "markdown",
   "metadata": {},
   "source": [
    "## Graph Traversing\n",
    "\n",
    "For scheduling constraints between the activities or tasks in the graph must be a Directed Acyclic Graph \n",
    "\n",
    "TODO: ensure in UI user always creates an asyclic graph.\n",
    "\n",
    "There is a direction in the dependency of tasks and due to precedence among activities the graph is acyclic.\n",
    "\n",
    "For this graph we need to have a Topological ordering such that any directed path in the graph traverses the nodes in an increasing order. \n",
    "\n",
    "And for this directed graph we may have more than on topological order if graph some parts are not connected.\n",
    "\n",
    "TODO: Confirm possibility of more than 1 topological ordering of an acyclic graph"
   ]
  },
  {
   "cell_type": "markdown",
   "metadata": {},
   "source": [
    "### Forward Pass\n",
    "To calculate early start and early finish\n",
    "There is precedence within the activities\n",
    "ESj = Max(EFpredecessors)\n",
    "EFj = ESj + tj\n",
    "\n",
    "- get all activity nodes in array\n",
    "- calculate topological order according to relationship DEPENDS_ON for each activity (might be expensive for large graphs)\n",
    "- for each activity node get its predecessors\n",
    "- value of duration of the relationship\n",
    "- use formula above to get EF and ES of current activity"
   ]
  },
  {
   "cell_type": "code",
   "execution_count": 46,
   "metadata": {},
   "outputs": [
    {
     "name": "stderr",
     "output_type": "stream",
     "text": [
      "/var/folders/pq/j682cyjd7cb0xq6g_rj_397w0000gn/T/ipykernel_89373/2208015251.py:3: DeprecationWarning: Using a driver after it has been closed is deprecated. Future versions of the driver will raise an error.\n",
      "  with driver.session(database=NEO4J_DB) as session:\n"
     ]
    }
   ],
   "source": [
    "resetGraph()"
   ]
  },
  {
   "cell_type": "markdown",
   "metadata": {},
   "source": [
    "This has to be run a couple of times to get the correct values of early Start and early finish\n",
    "\n",
    "TODO: run the query once for forward pass"
   ]
  },
  {
   "cell_type": "code",
   "execution_count": 66,
   "metadata": {},
   "outputs": [
    {
     "name": "stderr",
     "output_type": "stream",
     "text": [
      "/var/folders/pq/j682cyjd7cb0xq6g_rj_397w0000gn/T/ipykernel_89373/20624194.py:3: DeprecationWarning: Using a driver after it has been closed is deprecated. Future versions of the driver will raise an error.\n",
      "  with driver.session(database=NEO4J_DB) as session:\n",
      "Received notification from DBMS server: {severity: WARNING} {code: Neo.ClientNotification.Statement.AggregationSkippedNull} {category: UNRECOGNIZED} {title: The query contains an aggregation function that skips null values.} {description: null value eliminated in set function.} {position: None} for query: '\\n                        // Match all activities and their predecessors\\n                        MATCH (activity:ACTIVITY)\\n                        OPTIONAL MATCH (activity)<-[:DEPENDS_ON]-(predecessor:ACTIVITY)\\n\\n                        // Collect predecessors for each activity\\n                        WITH activity, COLLECT(predecessor) AS predecessors\\n\\n                        // Find the depth of each activity for topological order\\n                        OPTIONAL MATCH path = (activity)-[:DEPENDS_ON*]->(dependent:ACTIVITY)\\n                        WITH activity, predecessors, \\n                            COALESCE(MAX(LENGTH(path)), 0) AS depth, \\n                            SIZE(predecessors) AS incomingDependencies\\n\\n                        // Order activities by depth (descending) and by number of incoming dependencies (ascending) topological order\\n                        ORDER BY depth DESC, incomingDependencies ASC \\n\\n                        // Calculate earlyStart and earlyFinish for each activity\\n                        WITH COLLECT([activity, predecessors]) AS activityPredecessorsList\\n                        UNWIND activityPredecessorsList AS activityPredecessorsTuple\\n                        WITH activityPredecessorsTuple[0] AS currentActivity, \\n                            REDUCE(\\n                                maxFinish = 0, \\n                                pred IN activityPredecessorsTuple[1] |                    \\n                                CASE \\n                                    WHEN pred IS NOT NULL AND pred.earlyFinish IS NOT NULL AND pred.earlyFinish > maxFinish \\n                                    THEN pred.earlyFinish  \\n                                    ELSE maxFinish \\n                                END\\n                            ) AS earlyStart\\n                                  \\n                        // update early start and  earlyFinish\\n                        SET currentActivity += {\\n                            earlyStart: COALESCE(earlyStart, 0), \\n                            earlyFinish: COALESCE(earlyStart, 0) + currentActivity.duration\\n                        }\\n                                  \\n                        // Return the activity name, earlyStart, and earlyFinish\\n                        RETURN currentActivity.name AS activityName, \\n                            currentActivity.earlyStart AS earlyStart, \\n                            currentActivity.earlyFinish AS earlyFinish\\n                        ORDER BY currentActivity.depth ASC\\n                        '\n"
     ]
    },
    {
     "data": {
      "text/html": [
       "<div>\n",
       "<style scoped>\n",
       "    .dataframe tbody tr th:only-of-type {\n",
       "        vertical-align: middle;\n",
       "    }\n",
       "\n",
       "    .dataframe tbody tr th {\n",
       "        vertical-align: top;\n",
       "    }\n",
       "\n",
       "    .dataframe thead th {\n",
       "        text-align: right;\n",
       "    }\n",
       "</style>\n",
       "<table border=\"1\" class=\"dataframe\">\n",
       "  <thead>\n",
       "    <tr style=\"text-align: right;\">\n",
       "      <th></th>\n",
       "      <th>activityName</th>\n",
       "      <th>earlyStart</th>\n",
       "      <th>earlyFinish</th>\n",
       "    </tr>\n",
       "  </thead>\n",
       "  <tbody>\n",
       "    <tr>\n",
       "      <th>0</th>\n",
       "      <td>Genesis</td>\n",
       "      <td>0</td>\n",
       "      <td>0</td>\n",
       "    </tr>\n",
       "    <tr>\n",
       "      <th>1</th>\n",
       "      <td>Excavation</td>\n",
       "      <td>0</td>\n",
       "      <td>10</td>\n",
       "    </tr>\n",
       "    <tr>\n",
       "      <th>2</th>\n",
       "      <td>soil test</td>\n",
       "      <td>0</td>\n",
       "      <td>3</td>\n",
       "    </tr>\n",
       "    <tr>\n",
       "      <th>3</th>\n",
       "      <td>Poor foundation</td>\n",
       "      <td>10</td>\n",
       "      <td>12</td>\n",
       "    </tr>\n",
       "    <tr>\n",
       "      <th>4</th>\n",
       "      <td>Curing</td>\n",
       "      <td>12</td>\n",
       "      <td>19</td>\n",
       "    </tr>\n",
       "    <tr>\n",
       "      <th>5</th>\n",
       "      <td>Inspection</td>\n",
       "      <td>19</td>\n",
       "      <td>20</td>\n",
       "    </tr>\n",
       "  </tbody>\n",
       "</table>\n",
       "</div>"
      ],
      "text/plain": [
       "      activityName  earlyStart  earlyFinish\n",
       "0          Genesis           0            0\n",
       "1       Excavation           0           10\n",
       "2        soil test           0            3\n",
       "3  Poor foundation          10           12\n",
       "4           Curing          12           19\n",
       "5       Inspection          19           20"
      ]
     },
     "execution_count": 66,
     "metadata": {},
     "output_type": "execute_result"
    }
   ],
   "source": [
    "def forwardPass():\n",
    "    try:\n",
    "        with driver.session(database=NEO4J_DB) as session:\n",
    "            results = session.run(\"\"\"\n",
    "                        // Match all activities and their predecessors\n",
    "                        MATCH (activity:ACTIVITY)\n",
    "                        OPTIONAL MATCH (activity)<-[:DEPENDS_ON]-(predecessor:ACTIVITY)\n",
    "\n",
    "                        // Collect predecessors for each activity\n",
    "                        WITH activity, COLLECT(predecessor) AS predecessors\n",
    "\n",
    "                        // Find the depth of each activity for topological order\n",
    "                        OPTIONAL MATCH path = (activity)-[:DEPENDS_ON*]->(dependent:ACTIVITY)\n",
    "                        WITH activity, predecessors, \n",
    "                            COALESCE(MAX(LENGTH(path)), 0) AS depth, \n",
    "                            SIZE(predecessors) AS incomingDependencies\n",
    "\n",
    "                        // Order activities by depth (descending) and by number of incoming dependencies (ascending) topological order\n",
    "                        ORDER BY depth DESC, incomingDependencies ASC \n",
    "\n",
    "                        // Calculate earlyStart and earlyFinish for each activity\n",
    "                        WITH COLLECT([activity, predecessors]) AS activityPredecessorsList\n",
    "                        UNWIND activityPredecessorsList AS activityPredecessorsTuple\n",
    "                        WITH activityPredecessorsTuple[0] AS currentActivity, \n",
    "                            REDUCE(\n",
    "                                maxFinish = 0, \n",
    "                                pred IN activityPredecessorsTuple[1] |                    \n",
    "                                CASE \n",
    "                                    WHEN pred IS NOT NULL AND pred.earlyFinish IS NOT NULL AND pred.earlyFinish > maxFinish \n",
    "                                    THEN pred.earlyFinish  \n",
    "                                    ELSE maxFinish \n",
    "                                END\n",
    "                            ) AS earlyStart\n",
    "                                  \n",
    "                        // update early start and  earlyFinish\n",
    "                        SET currentActivity += {\n",
    "                            earlyStart: COALESCE(earlyStart, 0), \n",
    "                            earlyFinish: COALESCE(earlyStart, 0) + currentActivity.duration\n",
    "                        }\n",
    "                                  \n",
    "                        // Return the activity name, earlyStart, and earlyFinish\n",
    "                        RETURN currentActivity.name AS activityName, \n",
    "                            currentActivity.earlyStart AS earlyStart, \n",
    "                            currentActivity.earlyFinish AS earlyFinish\n",
    "                        ORDER BY currentActivity.depth ASC\n",
    "                        \"\"\")\n",
    "            return results.data()\n",
    "    except Exception as e:\n",
    "        print(e)\n",
    "        raise e\n",
    "to_dataframe(forwardPass())"
   ]
  },
  {
   "cell_type": "markdown",
   "metadata": {},
   "source": [
    "### Backward Pass\n",
    "To calculated latest start and latest finish, this query only if forward pass is correct. The good thing this will run only once since the forward pass has updated values"
   ]
  },
  {
   "cell_type": "code",
   "execution_count": 67,
   "metadata": {},
   "outputs": [
    {
     "name": "stderr",
     "output_type": "stream",
     "text": [
      "/var/folders/pq/j682cyjd7cb0xq6g_rj_397w0000gn/T/ipykernel_89373/653890087.py:3: DeprecationWarning: Using a driver after it has been closed is deprecated. Future versions of the driver will raise an error.\n",
      "  with driver.session(database=NEO4J_DB) as session:\n",
      "Received notification from DBMS server: {severity: WARNING} {code: Neo.ClientNotification.Statement.AggregationSkippedNull} {category: UNRECOGNIZED} {title: The query contains an aggregation function that skips null values.} {description: null value eliminated in set function.} {position: None} for query: '\\n                        // match all activities and their successors\\n                        MATCH (activity:ACTIVITY)\\n                        OPTIONAL MATCH (activity)-[:DEPENDS_ON]->(successor:ACTIVITY)\\n\\n                        // collect successors for each activity\\n                        WITH activity, COLLECT(successor) AS successors\\n\\n                        // find the depth of each activity for topological order\\n                        OPTIONAL MATCH path = (activity)<-[:DEPENDS_ON*]-(dependent:ACTIVITY)\\n                        WITH activity, successors, \\n                            COALESCE(MAX(LENGTH(path)), 0) AS depth, \\n                            SIZE(successors) AS outgoingDependencies\\n\\n                        // order activities by depth (descending) and by number of outgoing dependencies (ascending) topological order\\n                        ORDER BY depth DESC, outgoingDependencies ASC \\n\\n                        // calculate lateStart and lateFinish for each activity\\n                        WITH COLLECT([activity, successors]) AS activitySuccessorsList\\n                        UNWIND activitySuccessorsList AS activitySuccessorsTuple\\n                        WITH activitySuccessorsTuple[0] AS currentActivity, activitySuccessorsTuple\\n                            WITH currentActivity, activitySuccessorsTuple, REDUCE(\\n                                minStart = currentActivity.earlyFinish, \\n                                succ IN activitySuccessorsTuple[1] |                    \\n                                CASE \\n                                    WHEN succ IS NOT NULL AND succ.lateStart IS NOT NULL AND succ.lateStart < minStart \\n                                    THEN succ.lateStart  \\n                                    ELSE minStart \\n                                END\\n                            ) AS lateFinish\\n                        \\n                        // update lateStart and lateFinish for each activity\\n                        SET currentActivity += {\\n                            lateFinish: COALESCE(lateFinish, currentActivity.earlyFinish), \\n                            lateStart: COALESCE(lateFinish, currentActivity.earlyFinish) - currentActivity.duration\\n                        }\\n\\n                        // return the results\\n                        RETURN currentActivity.name AS activityName, \\n                            currentActivity.lateStart AS lateStart, \\n                            currentActivity.lateFinish AS lateFinish\\n                        ORDER BY currentActivity.depth DESC'\n"
     ]
    },
    {
     "data": {
      "text/html": [
       "<div>\n",
       "<style scoped>\n",
       "    .dataframe tbody tr th:only-of-type {\n",
       "        vertical-align: middle;\n",
       "    }\n",
       "\n",
       "    .dataframe tbody tr th {\n",
       "        vertical-align: top;\n",
       "    }\n",
       "\n",
       "    .dataframe thead th {\n",
       "        text-align: right;\n",
       "    }\n",
       "</style>\n",
       "<table border=\"1\" class=\"dataframe\">\n",
       "  <thead>\n",
       "    <tr style=\"text-align: right;\">\n",
       "      <th></th>\n",
       "      <th>activityName</th>\n",
       "      <th>lateStart</th>\n",
       "      <th>lateFinish</th>\n",
       "    </tr>\n",
       "  </thead>\n",
       "  <tbody>\n",
       "    <tr>\n",
       "      <th>0</th>\n",
       "      <td>Inspection</td>\n",
       "      <td>19</td>\n",
       "      <td>20</td>\n",
       "    </tr>\n",
       "    <tr>\n",
       "      <th>1</th>\n",
       "      <td>Curing</td>\n",
       "      <td>12</td>\n",
       "      <td>19</td>\n",
       "    </tr>\n",
       "    <tr>\n",
       "      <th>2</th>\n",
       "      <td>Poor foundation</td>\n",
       "      <td>10</td>\n",
       "      <td>12</td>\n",
       "    </tr>\n",
       "    <tr>\n",
       "      <th>3</th>\n",
       "      <td>Excavation</td>\n",
       "      <td>0</td>\n",
       "      <td>10</td>\n",
       "    </tr>\n",
       "    <tr>\n",
       "      <th>4</th>\n",
       "      <td>soil test</td>\n",
       "      <td>0</td>\n",
       "      <td>3</td>\n",
       "    </tr>\n",
       "    <tr>\n",
       "      <th>5</th>\n",
       "      <td>Genesis</td>\n",
       "      <td>0</td>\n",
       "      <td>0</td>\n",
       "    </tr>\n",
       "  </tbody>\n",
       "</table>\n",
       "</div>"
      ],
      "text/plain": [
       "      activityName  lateStart  lateFinish\n",
       "0       Inspection         19          20\n",
       "1           Curing         12          19\n",
       "2  Poor foundation         10          12\n",
       "3       Excavation          0          10\n",
       "4        soil test          0           3\n",
       "5          Genesis          0           0"
      ]
     },
     "execution_count": 67,
     "metadata": {},
     "output_type": "execute_result"
    }
   ],
   "source": [
    "def backwardPass():\n",
    "    try:\n",
    "        with driver.session(database=NEO4J_DB) as session:\n",
    "            results = session.run(\"\"\"\n",
    "                        // match all activities and their successors\n",
    "                        MATCH (activity:ACTIVITY)\n",
    "                        OPTIONAL MATCH (activity)-[:DEPENDS_ON]->(successor:ACTIVITY)\n",
    "\n",
    "                        // collect successors for each activity\n",
    "                        WITH activity, COLLECT(successor) AS successors\n",
    "\n",
    "                        // find the depth of each activity for topological order\n",
    "                        OPTIONAL MATCH path = (activity)<-[:DEPENDS_ON*]-(dependent:ACTIVITY)\n",
    "                        WITH activity, successors, \n",
    "                            COALESCE(MAX(LENGTH(path)), 0) AS depth, \n",
    "                            SIZE(successors) AS outgoingDependencies\n",
    "\n",
    "                        // order activities by depth (descending) and by number of outgoing dependencies (ascending) topological order\n",
    "                        ORDER BY depth DESC, outgoingDependencies ASC \n",
    "\n",
    "                        // calculate lateStart and lateFinish for each activity\n",
    "                        WITH COLLECT([activity, successors]) AS activitySuccessorsList\n",
    "                        UNWIND activitySuccessorsList AS activitySuccessorsTuple\n",
    "                        WITH activitySuccessorsTuple[0] AS currentActivity, activitySuccessorsTuple\n",
    "                            WITH currentActivity, activitySuccessorsTuple, REDUCE(\n",
    "                                minStart = currentActivity.earlyFinish, \n",
    "                                succ IN activitySuccessorsTuple[1] |                    \n",
    "                                CASE \n",
    "                                    WHEN succ IS NOT NULL AND succ.lateStart IS NOT NULL AND succ.lateStart < minStart \n",
    "                                    THEN succ.lateStart  \n",
    "                                    ELSE minStart \n",
    "                                END\n",
    "                            ) AS lateFinish\n",
    "                        \n",
    "                        // update lateStart and lateFinish for each activity\n",
    "                        SET currentActivity += {\n",
    "                            lateFinish: COALESCE(lateFinish, currentActivity.earlyFinish), \n",
    "                            lateStart: COALESCE(lateFinish, currentActivity.earlyFinish) - currentActivity.duration\n",
    "                        }\n",
    "\n",
    "                        // return the results\n",
    "                        RETURN currentActivity.name AS activityName, \n",
    "                            currentActivity.lateStart AS lateStart, \n",
    "                            currentActivity.lateFinish AS lateFinish\n",
    "                        ORDER BY currentActivity.depth DESC\"\"\")\n",
    "            return results.data()\n",
    "    except Exception as e:\n",
    "        print(e)\n",
    "        raise e\n",
    "to_dataframe(backwardPass())"
   ]
  },
  {
   "cell_type": "markdown",
   "metadata": {},
   "source": [
    "### Calculating Slack\n",
    "- Free Slack/float - Amount of time you can delay any given activity without delaying the end date of the entire project\n",
    "- Total Slack/float - Amount of time you can delay an activity without delaying the earliest start of any subsequent activity"
   ]
  },
  {
   "cell_type": "code",
   "execution_count": 73,
   "metadata": {},
   "outputs": [
    {
     "name": "stderr",
     "output_type": "stream",
     "text": [
      "/var/folders/pq/j682cyjd7cb0xq6g_rj_397w0000gn/T/ipykernel_89373/2809341919.py:3: DeprecationWarning: Using a driver after it has been closed is deprecated. Future versions of the driver will raise an error.\n",
      "  with driver.session(database=NEO4J_DB) as session:\n",
      "Received notification from DBMS server: {severity: WARNING} {code: Neo.ClientNotification.Statement.AggregationSkippedNull} {category: UNRECOGNIZED} {title: The query contains an aggregation function that skips null values.} {description: null value eliminated in set function.} {position: None} for query: '\\n                        MATCH (activity:ACTIVITY)\\n                        OPTIONAL MATCH (activity)-[:DEPENDS_ON]->(successor:ACTIVITY)\\n\\n                        WITH activity, COLLECT(successor) AS successors\\n\\n                        OPTIONAL MATCH path = (activity)<-[:DEPENDS_ON*]-(dependent:ACTIVITY)\\n                        WITH activity, successors, \\n                            COALESCE(MAX(LENGTH(path)), 0) AS depth, \\n                            SIZE(successors) AS outgoingDependencies\\n\\n                        ORDER BY depth DESC, outgoingDependencies ASC \\n\\n                        WITH COLLECT([activity, successors]) AS activitySuccessorsList\\n                        UNWIND activitySuccessorsList AS activitySuccessorsTuple\\n                        WITH activitySuccessorsTuple[0] AS currentActivity, activitySuccessorsTuple\\n                            WITH currentActivity, activitySuccessorsTuple, REDUCE(\\n                                minSuccEarlyStart = activitySuccessorsTuple[1][0].earlyStart, \\n                                succ IN activitySuccessorsTuple[1] |                    \\n                                CASE \\n                                    WHEN succ IS NOT NULL AND succ.earlyStart IS NOT NULL AND succ.earlyStart < minSuccEarlyStart \\n                                    THEN succ.earlyStart  \\n                                    ELSE minSuccEarlyStart \\n                                END\\n                            ) AS minSuccEarlyStart\\n                        SET currentActivity += {\\n                            totalFloat: currentActivity.lateFinish - currentActivity.earlyFinish,\\n                            freeFloat: COALESCE(minSuccEarlyStart - currentActivity.earlyStart - currentActivity.duration, 0)\\n                        }\\n                        RETURN currentActivity.name AS activityName, \\n                            currentActivity.earlyStart AS earlyStart, \\n                            currentActivity.earlyFinish AS earlyFinish,\\n                            currentActivity.lateStart AS lateStart,\\n                            currentActivity.lateFinish AS lateFinish,\\n                            currentActivity.totalFloat AS totalFloat,\\n                            currentActivity.freeFloat AS freeFloat\\n                        ORDER BY currentActivity.depth DESC'\n",
      "Received notification from DBMS server: {severity: WARNING} {code: Neo.ClientNotification.Statement.AggregationSkippedNull} {category: UNRECOGNIZED} {title: The query contains an aggregation function that skips null values.} {description: null value eliminated in set function.} {position: None} for query: '\\n                        MATCH (activity:ACTIVITY)\\n                        OPTIONAL MATCH (activity)-[:DEPENDS_ON]->(successor:ACTIVITY)\\n\\n                        WITH activity, COLLECT(successor) AS successors\\n\\n                        OPTIONAL MATCH path = (activity)<-[:DEPENDS_ON*]-(dependent:ACTIVITY)\\n                        WITH activity, successors, \\n                            COALESCE(MAX(LENGTH(path)), 0) AS depth, \\n                            SIZE(successors) AS outgoingDependencies\\n\\n                        ORDER BY depth DESC, outgoingDependencies ASC \\n\\n                        WITH COLLECT([activity, successors]) AS activitySuccessorsList\\n                        UNWIND activitySuccessorsList AS activitySuccessorsTuple\\n                        WITH activitySuccessorsTuple[0] AS currentActivity, activitySuccessorsTuple\\n                            WITH currentActivity, activitySuccessorsTuple, REDUCE(\\n                                minSuccEarlyStart = activitySuccessorsTuple[1][0].earlyStart, \\n                                succ IN activitySuccessorsTuple[1] |                    \\n                                CASE \\n                                    WHEN succ IS NOT NULL AND succ.earlyStart IS NOT NULL AND succ.earlyStart < minSuccEarlyStart \\n                                    THEN succ.earlyStart  \\n                                    ELSE minSuccEarlyStart \\n                                END\\n                            ) AS minSuccEarlyStart\\n                        SET currentActivity += {\\n                            totalFloat: currentActivity.lateFinish - currentActivity.earlyFinish,\\n                            freeFloat: COALESCE(minSuccEarlyStart - currentActivity.earlyStart - currentActivity.duration, 0)\\n                        }\\n                        RETURN currentActivity.name AS activityName, \\n                            currentActivity.earlyStart AS earlyStart, \\n                            currentActivity.earlyFinish AS earlyFinish,\\n                            currentActivity.lateStart AS lateStart,\\n                            currentActivity.lateFinish AS lateFinish,\\n                            currentActivity.totalFloat AS totalFloat,\\n                            currentActivity.freeFloat AS freeFloat\\n                        ORDER BY currentActivity.depth DESC'\n"
     ]
    },
    {
     "data": {
      "text/html": [
       "<div>\n",
       "<style scoped>\n",
       "    .dataframe tbody tr th:only-of-type {\n",
       "        vertical-align: middle;\n",
       "    }\n",
       "\n",
       "    .dataframe tbody tr th {\n",
       "        vertical-align: top;\n",
       "    }\n",
       "\n",
       "    .dataframe thead th {\n",
       "        text-align: right;\n",
       "    }\n",
       "</style>\n",
       "<table border=\"1\" class=\"dataframe\">\n",
       "  <thead>\n",
       "    <tr style=\"text-align: right;\">\n",
       "      <th></th>\n",
       "      <th>activityName</th>\n",
       "      <th>earlyStart</th>\n",
       "      <th>earlyFinish</th>\n",
       "      <th>lateStart</th>\n",
       "      <th>lateFinish</th>\n",
       "      <th>totalFloat</th>\n",
       "      <th>freeFloat</th>\n",
       "    </tr>\n",
       "  </thead>\n",
       "  <tbody>\n",
       "    <tr>\n",
       "      <th>0</th>\n",
       "      <td>Inspection</td>\n",
       "      <td>19</td>\n",
       "      <td>20</td>\n",
       "      <td>19</td>\n",
       "      <td>20</td>\n",
       "      <td>0</td>\n",
       "      <td>0</td>\n",
       "    </tr>\n",
       "    <tr>\n",
       "      <th>1</th>\n",
       "      <td>Curing</td>\n",
       "      <td>12</td>\n",
       "      <td>19</td>\n",
       "      <td>12</td>\n",
       "      <td>19</td>\n",
       "      <td>0</td>\n",
       "      <td>0</td>\n",
       "    </tr>\n",
       "    <tr>\n",
       "      <th>2</th>\n",
       "      <td>Poor foundation</td>\n",
       "      <td>10</td>\n",
       "      <td>12</td>\n",
       "      <td>10</td>\n",
       "      <td>12</td>\n",
       "      <td>0</td>\n",
       "      <td>0</td>\n",
       "    </tr>\n",
       "    <tr>\n",
       "      <th>3</th>\n",
       "      <td>Excavation</td>\n",
       "      <td>0</td>\n",
       "      <td>10</td>\n",
       "      <td>0</td>\n",
       "      <td>10</td>\n",
       "      <td>0</td>\n",
       "      <td>0</td>\n",
       "    </tr>\n",
       "    <tr>\n",
       "      <th>4</th>\n",
       "      <td>soil test</td>\n",
       "      <td>0</td>\n",
       "      <td>3</td>\n",
       "      <td>0</td>\n",
       "      <td>3</td>\n",
       "      <td>0</td>\n",
       "      <td>7</td>\n",
       "    </tr>\n",
       "    <tr>\n",
       "      <th>5</th>\n",
       "      <td>Genesis</td>\n",
       "      <td>0</td>\n",
       "      <td>0</td>\n",
       "      <td>0</td>\n",
       "      <td>0</td>\n",
       "      <td>0</td>\n",
       "      <td>0</td>\n",
       "    </tr>\n",
       "  </tbody>\n",
       "</table>\n",
       "</div>"
      ],
      "text/plain": [
       "      activityName  earlyStart  earlyFinish  lateStart  lateFinish  \\\n",
       "0       Inspection          19           20         19          20   \n",
       "1           Curing          12           19         12          19   \n",
       "2  Poor foundation          10           12         10          12   \n",
       "3       Excavation           0           10          0          10   \n",
       "4        soil test           0            3          0           3   \n",
       "5          Genesis           0            0          0           0   \n",
       "\n",
       "   totalFloat  freeFloat  \n",
       "0           0          0  \n",
       "1           0          0  \n",
       "2           0          0  \n",
       "3           0          0  \n",
       "4           0          7  \n",
       "5           0          0  "
      ]
     },
     "execution_count": 73,
     "metadata": {},
     "output_type": "execute_result"
    }
   ],
   "source": [
    "def calculateSlack():\n",
    "    try:\n",
    "        with driver.session(database=NEO4J_DB) as session:\n",
    "            results = session.run(\"\"\"\n",
    "                        MATCH (activity:ACTIVITY)\n",
    "                        OPTIONAL MATCH (activity)-[:DEPENDS_ON]->(successor:ACTIVITY)\n",
    "\n",
    "                        WITH activity, COLLECT(successor) AS successors\n",
    "\n",
    "                        OPTIONAL MATCH path = (activity)<-[:DEPENDS_ON*]-(dependent:ACTIVITY)\n",
    "                        WITH activity, successors, \n",
    "                            COALESCE(MAX(LENGTH(path)), 0) AS depth, \n",
    "                            SIZE(successors) AS outgoingDependencies\n",
    "\n",
    "                        ORDER BY depth DESC, outgoingDependencies ASC \n",
    "\n",
    "                        WITH COLLECT([activity, successors]) AS activitySuccessorsList\n",
    "                        UNWIND activitySuccessorsList AS activitySuccessorsTuple\n",
    "                        WITH activitySuccessorsTuple[0] AS currentActivity, activitySuccessorsTuple\n",
    "                            WITH currentActivity, activitySuccessorsTuple, REDUCE(\n",
    "                                minSuccEarlyStart = activitySuccessorsTuple[1][0].earlyStart, \n",
    "                                succ IN activitySuccessorsTuple[1] |                    \n",
    "                                CASE \n",
    "                                    WHEN succ IS NOT NULL AND succ.earlyStart IS NOT NULL AND succ.earlyStart < minSuccEarlyStart \n",
    "                                    THEN succ.earlyStart  \n",
    "                                    ELSE minSuccEarlyStart \n",
    "                                END\n",
    "                            ) AS minSuccEarlyStart\n",
    "                        SET currentActivity += {\n",
    "                            totalFloat: currentActivity.lateFinish - currentActivity.earlyFinish,\n",
    "                            freeFloat: COALESCE(minSuccEarlyStart - currentActivity.earlyStart - currentActivity.duration, 0)\n",
    "                        }\n",
    "                        RETURN currentActivity.name AS activityName, \n",
    "                            currentActivity.earlyStart AS earlyStart, \n",
    "                            currentActivity.earlyFinish AS earlyFinish,\n",
    "                            currentActivity.lateStart AS lateStart,\n",
    "                            currentActivity.lateFinish AS lateFinish,\n",
    "                            currentActivity.totalFloat AS totalFloat,\n",
    "                            currentActivity.freeFloat AS freeFloat\n",
    "                        ORDER BY currentActivity.depth DESC\"\"\")\n",
    "            return results.data()\n",
    "    except Exception as e:\n",
    "        print(e)\n",
    "        raise e\n",
    "df = to_dataframe(calculateSlack())\n",
    "to_csv(to_dataframe(calculateSlack()), \"slack.csv\") \n",
    "df"
   ]
  },
  {
   "cell_type": "markdown",
   "metadata": {},
   "source": [
    "### "
   ]
  },
  {
   "cell_type": "markdown",
   "metadata": {},
   "source": [
    "### Finding critical path"
   ]
  },
  {
   "cell_type": "code",
   "execution_count": 69,
   "metadata": {},
   "outputs": [
    {
     "name": "stderr",
     "output_type": "stream",
     "text": [
      "/var/folders/pq/j682cyjd7cb0xq6g_rj_397w0000gn/T/ipykernel_89373/1803476278.py:3: DeprecationWarning: Using a driver after it has been closed is deprecated. Future versions of the driver will raise an error.\n",
      "  with driver.session(database=NEO4J_DB) as session:\n"
     ]
    },
    {
     "data": {
      "text/html": [
       "<div>\n",
       "<style scoped>\n",
       "    .dataframe tbody tr th:only-of-type {\n",
       "        vertical-align: middle;\n",
       "    }\n",
       "\n",
       "    .dataframe tbody tr th {\n",
       "        vertical-align: top;\n",
       "    }\n",
       "\n",
       "    .dataframe thead th {\n",
       "        text-align: right;\n",
       "    }\n",
       "</style>\n",
       "<table border=\"1\" class=\"dataframe\">\n",
       "  <thead>\n",
       "    <tr style=\"text-align: right;\">\n",
       "      <th></th>\n",
       "      <th>criticalPath</th>\n",
       "      <th>pathDuration</th>\n",
       "    </tr>\n",
       "  </thead>\n",
       "  <tbody>\n",
       "    <tr>\n",
       "      <th>0</th>\n",
       "      <td>[Genesis, Excavation, Poor foundation, Curing,...</td>\n",
       "      <td>20</td>\n",
       "    </tr>\n",
       "  </tbody>\n",
       "</table>\n",
       "</div>"
      ],
      "text/plain": [
       "                                        criticalPath  pathDuration\n",
       "0  [Genesis, Excavation, Poor foundation, Curing,...            20"
      ]
     },
     "execution_count": 69,
     "metadata": {},
     "output_type": "execute_result"
    }
   ],
   "source": [
    "def criticalPath():\n",
    "    try:\n",
    "        with driver.session(database=NEO4J_DB) as session:\n",
    "            results = session.run(\"\"\"\n",
    "                        // trace paths between critical activities\n",
    "                        OPTIONAL MATCH path = (start:ACTIVITY)-[:DEPENDS_ON*]->(end:ACTIVITY)\n",
    "                        WHERE ALL(node IN NODES(path) WHERE node.totalFloat = 0)\n",
    "\n",
    "                        //Total duration between the critical activities\n",
    "                        WITH path, \n",
    "                            REDUCE(totalDuration = 0, activity IN NODES(path) | totalDuration + activity.duration) AS pathDuration\n",
    "                        ORDER BY pathDuration DESC\n",
    "\n",
    "                        // Return the longest path and duration\n",
    "                        LIMIT 1\n",
    "                        RETURN [activity IN NODES(path) | activity.name] AS criticalPath, pathDuration\"\"\")\n",
    "            return results.data()\n",
    "    except Exception as e:\n",
    "        print(e)\n",
    "        raise e\n",
    "to_dataframe(criticalPath())"
   ]
  },
  {
   "cell_type": "markdown",
   "metadata": {},
   "source": [
    "### Plan for upcoming tasks\n"
   ]
  },
  {
   "cell_type": "code",
   "execution_count": null,
   "metadata": {},
   "outputs": [],
   "source": [
    "# 2 hops\n",
    "\"\"\"MATCH (tom:Person {name:'Tom Hanks'})--{2}(colleagues:Person)\n",
    "RETURN DISTINCT colleagues.name AS name, colleagues.born AS bornIn\n",
    "ORDER BY bornIn\n",
    "LIMIT 5\"\"\""
   ]
  },
  {
   "cell_type": "code",
   "execution_count": null,
   "metadata": {},
   "outputs": [],
   "source": [
    "from neo4j import GraphDatabase\n",
    "from pyvis.network import Network\n",
    "\n",
    "\n",
    "def fetch_network_data():\n",
    "    query = \"\"\"\n",
    "    MATCH (a:ACTIVITY)-[r:DEPENDS_ON]->(b:ACTIVITY)\n",
    "    RETURN a, b, r\n",
    "    \"\"\"\n",
    "    with driver.session() as session:\n",
    "        result = session.run(query)\n",
    "        return [\n",
    "            (record[\"a\"], record[\"b\"], record[\"r\"])\n",
    "            for record in result\n",
    "        ]\n",
    "\n",
    "# Fetch and visualize\n",
    "data = fetch_network_data()\n",
    "\n"
   ]
  },
  {
   "cell_type": "code",
   "execution_count": 71,
   "metadata": {},
   "outputs": [
    {
     "data": {
      "text/plain": [
       "[(<Node element_id='4:cde3a7fa-b1e1-4510-9a57-f1852e2d74e0:0' labels=frozenset({'ACTIVITY'}) properties={'duration': 0, 'earlyFinish': 0, 'independentFloat': 0, 'latestFinish': 0, 'latestStart': 0, 'freeFloat': 0, 'name': 'Genesis', 'totalFloat': 0, 'lateStart': 0, 'description': 'This marks the start of your project no resources are consumed', 'lateFinish': 0, 'earlyStart': 0}>,\n",
       "  <Node element_id='4:cde3a7fa-b1e1-4510-9a57-f1852e2d74e0:1' labels=frozenset({'ACTIVITY'}) properties={'duration': 10, 'earlyFinish': 10, 'independentFloat': 0, 'latestFinish': 0, 'latestStart': 0, 'freeFloat': 0, 'name': 'Excavation', 'totalFloat': 0, 'lateStart': 0, 'description': 'It is just digging staff', 'lateFinish': 10, 'earlyStart': 0}>,\n",
       "  <Relationship element_id='5:cde3a7fa-b1e1-4510-9a57-f1852e2d74e0:6917534525199220737' nodes=(<Node element_id='4:cde3a7fa-b1e1-4510-9a57-f1852e2d74e0:0' labels=frozenset({'ACTIVITY'}) properties={'duration': 0, 'earlyFinish': 0, 'independentFloat': 0, 'latestFinish': 0, 'latestStart': 0, 'freeFloat': 0, 'name': 'Genesis', 'totalFloat': 0, 'lateStart': 0, 'description': 'This marks the start of your project no resources are consumed', 'lateFinish': 0, 'earlyStart': 0}>, <Node element_id='4:cde3a7fa-b1e1-4510-9a57-f1852e2d74e0:1' labels=frozenset({'ACTIVITY'}) properties={'duration': 10, 'earlyFinish': 10, 'independentFloat': 0, 'latestFinish': 0, 'latestStart': 0, 'freeFloat': 0, 'name': 'Excavation', 'totalFloat': 0, 'lateStart': 0, 'description': 'It is just digging staff', 'lateFinish': 10, 'earlyStart': 0}>) type='DEPENDS_ON' properties={}>),\n",
       " (<Node element_id='4:cde3a7fa-b1e1-4510-9a57-f1852e2d74e0:0' labels=frozenset({'ACTIVITY'}) properties={'duration': 0, 'earlyFinish': 0, 'independentFloat': 0, 'latestFinish': 0, 'latestStart': 0, 'freeFloat': 0, 'name': 'Genesis', 'totalFloat': 0, 'lateStart': 0, 'description': 'This marks the start of your project no resources are consumed', 'lateFinish': 0, 'earlyStart': 0}>,\n",
       "  <Node element_id='4:cde3a7fa-b1e1-4510-9a57-f1852e2d74e0:2' labels=frozenset({'ACTIVITY'}) properties={'duration': 3, 'earlyFinish': 3, 'independentFloat': 0, 'latestFinish': 0, 'latestStart': 0, 'freeFloat': 7, 'name': 'soil test', 'totalFloat': 0, 'lateStart': 0, 'description': 'Confirming strength of soil', 'lateFinish': 3, 'earlyStart': 0}>,\n",
       "  <Relationship element_id='5:cde3a7fa-b1e1-4510-9a57-f1852e2d74e0:6917534525199220738' nodes=(<Node element_id='4:cde3a7fa-b1e1-4510-9a57-f1852e2d74e0:0' labels=frozenset({'ACTIVITY'}) properties={'duration': 0, 'earlyFinish': 0, 'independentFloat': 0, 'latestFinish': 0, 'latestStart': 0, 'freeFloat': 0, 'name': 'Genesis', 'totalFloat': 0, 'lateStart': 0, 'description': 'This marks the start of your project no resources are consumed', 'lateFinish': 0, 'earlyStart': 0}>, <Node element_id='4:cde3a7fa-b1e1-4510-9a57-f1852e2d74e0:2' labels=frozenset({'ACTIVITY'}) properties={'duration': 3, 'earlyFinish': 3, 'independentFloat': 0, 'latestFinish': 0, 'latestStart': 0, 'freeFloat': 7, 'name': 'soil test', 'totalFloat': 0, 'lateStart': 0, 'description': 'Confirming strength of soil', 'lateFinish': 3, 'earlyStart': 0}>) type='DEPENDS_ON' properties={}>),\n",
       " (<Node element_id='4:cde3a7fa-b1e1-4510-9a57-f1852e2d74e0:1' labels=frozenset({'ACTIVITY'}) properties={'duration': 10, 'earlyFinish': 10, 'independentFloat': 0, 'latestFinish': 0, 'latestStart': 0, 'freeFloat': 0, 'name': 'Excavation', 'totalFloat': 0, 'lateStart': 0, 'description': 'It is just digging staff', 'lateFinish': 10, 'earlyStart': 0}>,\n",
       "  <Node element_id='4:cde3a7fa-b1e1-4510-9a57-f1852e2d74e0:3' labels=frozenset({'ACTIVITY'}) properties={'duration': 2, 'earlyFinish': 12, 'independentFloat': 0, 'latestFinish': 0, 'latestStart': 0, 'freeFloat': 0, 'name': 'Poor foundation', 'totalFloat': 0, 'lateStart': 10, 'description': 'placing foundation according to design', 'lateFinish': 12, 'earlyStart': 10}>,\n",
       "  <Relationship element_id='5:cde3a7fa-b1e1-4510-9a57-f1852e2d74e0:6917534525199220739' nodes=(<Node element_id='4:cde3a7fa-b1e1-4510-9a57-f1852e2d74e0:1' labels=frozenset({'ACTIVITY'}) properties={'duration': 10, 'earlyFinish': 10, 'independentFloat': 0, 'latestFinish': 0, 'latestStart': 0, 'freeFloat': 0, 'name': 'Excavation', 'totalFloat': 0, 'lateStart': 0, 'description': 'It is just digging staff', 'lateFinish': 10, 'earlyStart': 0}>, <Node element_id='4:cde3a7fa-b1e1-4510-9a57-f1852e2d74e0:3' labels=frozenset({'ACTIVITY'}) properties={'duration': 2, 'earlyFinish': 12, 'independentFloat': 0, 'latestFinish': 0, 'latestStart': 0, 'freeFloat': 0, 'name': 'Poor foundation', 'totalFloat': 0, 'lateStart': 10, 'description': 'placing foundation according to design', 'lateFinish': 12, 'earlyStart': 10}>) type='DEPENDS_ON' properties={'duration': 0, 'type': 'finish-to-start'}>),\n",
       " (<Node element_id='4:cde3a7fa-b1e1-4510-9a57-f1852e2d74e0:2' labels=frozenset({'ACTIVITY'}) properties={'duration': 3, 'earlyFinish': 3, 'independentFloat': 0, 'latestFinish': 0, 'latestStart': 0, 'freeFloat': 7, 'name': 'soil test', 'totalFloat': 0, 'lateStart': 0, 'description': 'Confirming strength of soil', 'lateFinish': 3, 'earlyStart': 0}>,\n",
       "  <Node element_id='4:cde3a7fa-b1e1-4510-9a57-f1852e2d74e0:3' labels=frozenset({'ACTIVITY'}) properties={'duration': 2, 'earlyFinish': 12, 'independentFloat': 0, 'latestFinish': 0, 'latestStart': 0, 'freeFloat': 0, 'name': 'Poor foundation', 'totalFloat': 0, 'lateStart': 10, 'description': 'placing foundation according to design', 'lateFinish': 12, 'earlyStart': 10}>,\n",
       "  <Relationship element_id='5:cde3a7fa-b1e1-4510-9a57-f1852e2d74e0:6919786325012905987' nodes=(<Node element_id='4:cde3a7fa-b1e1-4510-9a57-f1852e2d74e0:2' labels=frozenset({'ACTIVITY'}) properties={'duration': 3, 'earlyFinish': 3, 'independentFloat': 0, 'latestFinish': 0, 'latestStart': 0, 'freeFloat': 7, 'name': 'soil test', 'totalFloat': 0, 'lateStart': 0, 'description': 'Confirming strength of soil', 'lateFinish': 3, 'earlyStart': 0}>, <Node element_id='4:cde3a7fa-b1e1-4510-9a57-f1852e2d74e0:3' labels=frozenset({'ACTIVITY'}) properties={'duration': 2, 'earlyFinish': 12, 'independentFloat': 0, 'latestFinish': 0, 'latestStart': 0, 'freeFloat': 0, 'name': 'Poor foundation', 'totalFloat': 0, 'lateStart': 10, 'description': 'placing foundation according to design', 'lateFinish': 12, 'earlyStart': 10}>) type='DEPENDS_ON' properties={'duration': 7, 'type': 'finish-to-start'}>),\n",
       " (<Node element_id='4:cde3a7fa-b1e1-4510-9a57-f1852e2d74e0:3' labels=frozenset({'ACTIVITY'}) properties={'duration': 2, 'earlyFinish': 12, 'independentFloat': 0, 'latestFinish': 0, 'latestStart': 0, 'freeFloat': 0, 'name': 'Poor foundation', 'totalFloat': 0, 'lateStart': 10, 'description': 'placing foundation according to design', 'lateFinish': 12, 'earlyStart': 10}>,\n",
       "  <Node element_id='4:cde3a7fa-b1e1-4510-9a57-f1852e2d74e0:4' labels=frozenset({'ACTIVITY'}) properties={'duration': 7, 'earlyFinish': 19, 'independentFloat': 0, 'latestFinish': 0, 'latestStart': 0, 'freeFloat': 0, 'name': 'Curing', 'totalFloat': 0, 'lateStart': 12, 'description': 'cure for 7 days', 'lateFinish': 19, 'earlyStart': 12}>,\n",
       "  <Relationship element_id='5:cde3a7fa-b1e1-4510-9a57-f1852e2d74e0:6917534525199220740' nodes=(<Node element_id='4:cde3a7fa-b1e1-4510-9a57-f1852e2d74e0:3' labels=frozenset({'ACTIVITY'}) properties={'duration': 2, 'earlyFinish': 12, 'independentFloat': 0, 'latestFinish': 0, 'latestStart': 0, 'freeFloat': 0, 'name': 'Poor foundation', 'totalFloat': 0, 'lateStart': 10, 'description': 'placing foundation according to design', 'lateFinish': 12, 'earlyStart': 10}>, <Node element_id='4:cde3a7fa-b1e1-4510-9a57-f1852e2d74e0:4' labels=frozenset({'ACTIVITY'}) properties={'duration': 7, 'earlyFinish': 19, 'independentFloat': 0, 'latestFinish': 0, 'latestStart': 0, 'freeFloat': 0, 'name': 'Curing', 'totalFloat': 0, 'lateStart': 12, 'description': 'cure for 7 days', 'lateFinish': 19, 'earlyStart': 12}>) type='DEPENDS_ON' properties={'duration': 0, 'type': 'finish-to-start'}>),\n",
       " (<Node element_id='4:cde3a7fa-b1e1-4510-9a57-f1852e2d74e0:2' labels=frozenset({'ACTIVITY'}) properties={'duration': 3, 'earlyFinish': 3, 'independentFloat': 0, 'latestFinish': 0, 'latestStart': 0, 'freeFloat': 7, 'name': 'soil test', 'totalFloat': 0, 'lateStart': 0, 'description': 'Confirming strength of soil', 'lateFinish': 3, 'earlyStart': 0}>,\n",
       "  <Node element_id='4:cde3a7fa-b1e1-4510-9a57-f1852e2d74e0:5' labels=frozenset({'ACTIVITY'}) properties={'duration': 1, 'earlyFinish': 20, 'independentFloat': 0, 'latestFinish': 0, 'latestStart': 0, 'freeFloat': 0, 'name': 'Inspection', 'totalFloat': 0, 'lateStart': 19, 'description': 'Inspect the foundation before back filling', 'lateFinish': 20, 'earlyStart': 19}>,\n",
       "  <Relationship element_id='5:cde3a7fa-b1e1-4510-9a57-f1852e2d74e0:6917534525199220741' nodes=(<Node element_id='4:cde3a7fa-b1e1-4510-9a57-f1852e2d74e0:2' labels=frozenset({'ACTIVITY'}) properties={'duration': 3, 'earlyFinish': 3, 'independentFloat': 0, 'latestFinish': 0, 'latestStart': 0, 'freeFloat': 7, 'name': 'soil test', 'totalFloat': 0, 'lateStart': 0, 'description': 'Confirming strength of soil', 'lateFinish': 3, 'earlyStart': 0}>, <Node element_id='4:cde3a7fa-b1e1-4510-9a57-f1852e2d74e0:5' labels=frozenset({'ACTIVITY'}) properties={'duration': 1, 'earlyFinish': 20, 'independentFloat': 0, 'latestFinish': 0, 'latestStart': 0, 'freeFloat': 0, 'name': 'Inspection', 'totalFloat': 0, 'lateStart': 19, 'description': 'Inspect the foundation before back filling', 'lateFinish': 20, 'earlyStart': 19}>) type='DEPENDS_ON' properties={'duration': 0, 'type': 'finish-to-start'}>),\n",
       " (<Node element_id='4:cde3a7fa-b1e1-4510-9a57-f1852e2d74e0:3' labels=frozenset({'ACTIVITY'}) properties={'duration': 2, 'earlyFinish': 12, 'independentFloat': 0, 'latestFinish': 0, 'latestStart': 0, 'freeFloat': 0, 'name': 'Poor foundation', 'totalFloat': 0, 'lateStart': 10, 'description': 'placing foundation according to design', 'lateFinish': 12, 'earlyStart': 10}>,\n",
       "  <Node element_id='4:cde3a7fa-b1e1-4510-9a57-f1852e2d74e0:5' labels=frozenset({'ACTIVITY'}) properties={'duration': 1, 'earlyFinish': 20, 'independentFloat': 0, 'latestFinish': 0, 'latestStart': 0, 'freeFloat': 0, 'name': 'Inspection', 'totalFloat': 0, 'lateStart': 19, 'description': 'Inspect the foundation before back filling', 'lateFinish': 20, 'earlyStart': 19}>,\n",
       "  <Relationship element_id='5:cde3a7fa-b1e1-4510-9a57-f1852e2d74e0:6919786325012905989' nodes=(<Node element_id='4:cde3a7fa-b1e1-4510-9a57-f1852e2d74e0:3' labels=frozenset({'ACTIVITY'}) properties={'duration': 2, 'earlyFinish': 12, 'independentFloat': 0, 'latestFinish': 0, 'latestStart': 0, 'freeFloat': 0, 'name': 'Poor foundation', 'totalFloat': 0, 'lateStart': 10, 'description': 'placing foundation according to design', 'lateFinish': 12, 'earlyStart': 10}>, <Node element_id='4:cde3a7fa-b1e1-4510-9a57-f1852e2d74e0:5' labels=frozenset({'ACTIVITY'}) properties={'duration': 1, 'earlyFinish': 20, 'independentFloat': 0, 'latestFinish': 0, 'latestStart': 0, 'freeFloat': 0, 'name': 'Inspection', 'totalFloat': 0, 'lateStart': 19, 'description': 'Inspect the foundation before back filling', 'lateFinish': 20, 'earlyStart': 19}>) type='DEPENDS_ON' properties={'duration': 0, 'type': 'finish-to-start'}>),\n",
       " (<Node element_id='4:cde3a7fa-b1e1-4510-9a57-f1852e2d74e0:4' labels=frozenset({'ACTIVITY'}) properties={'duration': 7, 'earlyFinish': 19, 'independentFloat': 0, 'latestFinish': 0, 'latestStart': 0, 'freeFloat': 0, 'name': 'Curing', 'totalFloat': 0, 'lateStart': 12, 'description': 'cure for 7 days', 'lateFinish': 19, 'earlyStart': 12}>,\n",
       "  <Node element_id='4:cde3a7fa-b1e1-4510-9a57-f1852e2d74e0:5' labels=frozenset({'ACTIVITY'}) properties={'duration': 1, 'earlyFinish': 20, 'independentFloat': 0, 'latestFinish': 0, 'latestStart': 0, 'freeFloat': 0, 'name': 'Inspection', 'totalFloat': 0, 'lateStart': 19, 'description': 'Inspect the foundation before back filling', 'lateFinish': 20, 'earlyStart': 19}>,\n",
       "  <Relationship element_id='5:cde3a7fa-b1e1-4510-9a57-f1852e2d74e0:6922038124826591237' nodes=(<Node element_id='4:cde3a7fa-b1e1-4510-9a57-f1852e2d74e0:4' labels=frozenset({'ACTIVITY'}) properties={'duration': 7, 'earlyFinish': 19, 'independentFloat': 0, 'latestFinish': 0, 'latestStart': 0, 'freeFloat': 0, 'name': 'Curing', 'totalFloat': 0, 'lateStart': 12, 'description': 'cure for 7 days', 'lateFinish': 19, 'earlyStart': 12}>, <Node element_id='4:cde3a7fa-b1e1-4510-9a57-f1852e2d74e0:5' labels=frozenset({'ACTIVITY'}) properties={'duration': 1, 'earlyFinish': 20, 'independentFloat': 0, 'latestFinish': 0, 'latestStart': 0, 'freeFloat': 0, 'name': 'Inspection', 'totalFloat': 0, 'lateStart': 19, 'description': 'Inspect the foundation before back filling', 'lateFinish': 20, 'earlyStart': 19}>) type='DEPENDS_ON' properties={'duration': 0, 'type': 'finish-to-start'}>)]"
      ]
     },
     "execution_count": 71,
     "metadata": {},
     "output_type": "execute_result"
    }
   ],
   "source": [
    "# used to plot the network digram\n",
    "data"
   ]
  }
 ],
 "metadata": {
  "kernelspec": {
   "display_name": "venv",
   "language": "python",
   "name": "python3"
  },
  "language_info": {
   "codemirror_mode": {
    "name": "ipython",
    "version": 3
   },
   "file_extension": ".py",
   "mimetype": "text/x-python",
   "name": "python",
   "nbconvert_exporter": "python",
   "pygments_lexer": "ipython3",
   "version": "3.10.16"
  }
 },
 "nbformat": 4,
 "nbformat_minor": 2
}
