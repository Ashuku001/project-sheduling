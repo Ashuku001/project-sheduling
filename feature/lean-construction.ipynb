{
 "cells": [
  {
   "cell_type": "markdown",
   "metadata": {},
   "source": [
    "# Lean Construction"
   ]
  },
  {
   "cell_type": "markdown",
   "metadata": {},
   "source": [
    "Lean construction will involve the assessment of each of the project's activities - the efficiency and <br>\n",
    "effectiveness of its various operations, the reason for retaining specific operations and manpower, <br>\n",
    "the efficiency of equipment and machinery in the operation, number of people involved in particular <br>\n",
    "operation and detailed analysis of costs associated with each activity including both productive and <br>\n",
    "non productive operations and taking appropriate steps to improve operations by eliminating unnecessary operations."
   ]
  }
 ],
 "metadata": {
  "language_info": {
   "name": "python"
  }
 },
 "nbformat": 4,
 "nbformat_minor": 2
}
