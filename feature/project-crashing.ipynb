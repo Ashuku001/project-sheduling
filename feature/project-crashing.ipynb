{
 "cells": [
  {
   "cell_type": "markdown",
   "metadata": {},
   "source": [
    "# Project Crushing"
   ]
  },
  {
   "cell_type": "markdown",
   "metadata": {},
   "source": [
    "The total overall cost will consist of direct and indirect costs. The indirect cost consists of <br>\n",
    "overheads, office expenditures, administrative expenses, cost penalty for delay in work,<br>\n",
    "etc., the indirect time varies with time. Any reduction in project time means reduction in<br>\n",
    "indirect costs.\n",
    "\n",
    "Direct costs includes cost of materials, machinery used in the project and payments<br>\n",
    "towards labour and subcontracting.\n",
    "\n",
    "It is assumed that for each activity, there is an activity duration for which the direct<br>\n",
    "cost is minimum. If activity results in more than this time, more resources and, hence,<br>\n",
    "more funds are required. For instance a point will be reached beyond which no further<br>\n",
    "reduction in time will be possible irrespective of resources spent.\n",
    "\n",
    "The time for the activity at minimum cost is called normal time and the minimum time<br>\n",
    "for the activity is called crash time. The costs associated with these times is called normal<br>\n",
    "and crash costs. A linear relationship is assumed between time and cost as shown in"
   ]
  }
 ],
 "metadata": {
  "language_info": {
   "name": "python"
  }
 },
 "nbformat": 4,
 "nbformat_minor": 2
}
