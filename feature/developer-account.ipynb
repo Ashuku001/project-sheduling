{
 "cells": [
  {
   "cell_type": "markdown",
   "metadata": {},
   "source": [
    "# Developer Account\n",
    "What data to include in developers account? Goal is what is assigned where at what rate and is there a deficit\n",
    "- Equipment on site\n",
    "- Labour on site\n",
    "- Materials on site"
   ]
  }
 ],
 "metadata": {
  "language_info": {
   "name": "python"
  }
 },
 "nbformat": 4,
 "nbformat_minor": 2
}
