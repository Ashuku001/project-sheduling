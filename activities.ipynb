{
 "cells": [
  {
   "cell_type": "code",
   "execution_count": 1,
   "metadata": {},
   "outputs": [
    {
     "name": "stdout",
     "output_type": "stream",
     "text": [
      "Connection established.\n"
     ]
    }
   ],
   "source": [
    "from neo4j import GraphDatabase\n",
    "\n",
    "# URI examples: \"neo4j://localhost\", \"neo4j+s://xxx.databases.neo4j.io\"\n",
    "URI = \"bolt://localhost:7687\"\n",
    "AUTH = (\"neo4j\", \"password\")\n",
    "\n",
    "with GraphDatabase.driver(URI, auth=AUTH, database=\"neo4j\") as driver: # explicit db allows the driver to work more efficiently\n",
    "        driver.verify_connectivity()\n",
    "        print(\"Connection established.\")"
   ]
  },
  {
   "cell_type": "code",
   "execution_count": null,
   "metadata": {},
   "outputs": [],
   "source": [
    "def formatter(records):\n",
    "    # Loop through results and do something with them\n",
    "    for record in records:\n",
    "        print(record.data())  # obtain record as dict"
   ]
  },
  {
   "cell_type": "code",
   "execution_count": null,
   "metadata": {},
   "outputs": [],
   "source": [
    "from pydantic import BaseModel\n",
    "from enum import Enum\n",
    "from typing import Optional\n",
    "\n",
    "class EventEnum(str, Enum):\n",
    "    merge = 'merge' # a number of activities terminating into it\n",
    "    burst = 'burst' # a number of activities emanating from it\n",
    "\n",
    "\n",
    "class Event(BaseModel):\n",
    "    type: EventEnum\n",
    "\n",
    "class Activity(BaseModel):\n",
    "    earlyStart: Optional[int]\n",
    "    earlyFinish: Optional[int]\n",
    "    latestStart: Optional[int]\n",
    "    latestFinish: Optional[int]\n",
    "    duration: Optional[int]\n",
    "    name: Optional[str]\n",
    "    totalFloat: Optional[int]\n",
    "    freeFloat: Optional[int]\n",
    "    independentFloat: Optional[int]\n",
    "    # TODO how does this activity consume resources and time\n",
    "\n",
    "class Predecessor(BaseModel):\n",
    "    predecessor: Activity"
   ]
  }
 ],
 "metadata": {
  "kernelspec": {
   "display_name": "venv",
   "language": "python",
   "name": "python3"
  },
  "language_info": {
   "codemirror_mode": {
    "name": "ipython",
    "version": 3
   },
   "file_extension": ".py",
   "mimetype": "text/x-python",
   "name": "python",
   "nbconvert_exporter": "python",
   "pygments_lexer": "ipython3",
   "version": "3.10.16"
  }
 },
 "nbformat": 4,
 "nbformat_minor": 2
}
