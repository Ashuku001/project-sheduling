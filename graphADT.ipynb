{
 "cells": [
  {
   "cell_type": "markdown",
   "metadata": {},
   "source": [
    "# Graph Data structures"
   ]
  },
  {
   "cell_type": "code",
   "execution_count": null,
   "metadata": {},
   "outputs": [],
   "source": [
    "# create node without calculating early start and early finish\n",
    "\"\"\"CREATE (activity:ACTIVITY {name: $name, description: $description, duration: $duration})\n",
    "                    WITH activity, $predecessors as batch\n",
    "                    UNWIND batch as dependency\n",
    "                    MATCH (predecessor:ACTIVITY)\n",
    "                    WHERE ID(predecessor) = dependency.activity.id\n",
    "                    CREATE (activity)<-[:DEPENDS_ON {type: dependency.type, duration: dependency.duration}]-(predecessor)\"\"\"\n",
    "\n",
    "# TODO: create an activity and calculate earlyStart and early finish. User will see in real time taken to finish project "
   ]
  },
  {
   "cell_type": "markdown",
   "metadata": {},
   "source": [
    "Topological ordering"
   ]
  },
  {
   "cell_type": "code",
   "execution_count": null,
   "metadata": {},
   "outputs": [],
   "source": [
    "MATCH (activity:ACTIVITY)\n",
    "OPTIONAL MATCH (activity)<-[:DEPENDS_ON]-(predecessor:ACTIVITY)\n",
    "WITH activity, COUNT(predecessor) AS incomingDependencies\n",
    "OPTIONAL MATCH path = (activity)-[:DEPENDS_ON*]->(dependent:ACTIVITY)\n",
    "WITH activity, incomingDependencies, COALESCE(MAX(LENGTH(path)), 0) AS depth\n",
    "RETURN \n",
    "    activity.name AS activityName, \n",
    "    activity.description AS description, \n",
    "    activity.duration AS duration, \n",
    "    depth, \n",
    "    incomingDependencies\n",
    "ORDER BY depth DESC, incomingDependencies ASC\n"
   ]
  },
  {
   "cell_type": "markdown",
   "metadata": {},
   "source": [
    "Early start and early finish topological ordering"
   ]
  },
  {
   "cell_type": "code",
   "execution_count": null,
   "metadata": {},
   "outputs": [],
   "source": [
    "MATCH (activity:ACTIVITY)\n",
    "OPTIONAL MATCH (activity)<-[:DEPENDS_ON]-(predecessor:ACTIVITY)\n",
    "WITH activity, COLLECT(predecessor) AS predecessors\n",
    "ORDER BY activity.depth ASC\n",
    "WITH activity,\n",
    "    REDUCE(maxFinish = 0, pred IN predecessors | \n",
    "        CASE \n",
    "            WHEN pred.earlyFinish IS NOT NULL AND pred.earlyFinish > maxFinish THEN pred.earlyFinish \n",
    "            ELSE maxFinish \n",
    "        END) AS earlyStart\n",
    "SET activity.earlyStart = COALESCE(earlyStart, 0),\n",
    "    activity.earlyFinish = COALESCE(earlyStart, 0) + activity.duration\n",
    "RETURN activity.name AS activityName, activity.earlyStart, activity.earlyFinish\n",
    "ORDER BY activity.depth ASC"
   ]
  },
  {
   "cell_type": "code",
   "execution_count": 1,
   "metadata": {},
   "outputs": [
    {
     "ename": "SyntaxError",
     "evalue": "invalid syntax (175008303.py, line 1)",
     "output_type": "error",
     "traceback": [
      "\u001b[0;36m  Cell \u001b[0;32mIn[1], line 1\u001b[0;36m\u001b[0m\n\u001b[0;31m    MATCH (activity:ACTIVITY)\u001b[0m\n\u001b[0m                   ^\u001b[0m\n\u001b[0;31mSyntaxError\u001b[0m\u001b[0;31m:\u001b[0m invalid syntax\n"
     ]
    }
   ],
   "source": [
    "\"\"\"\n",
    "MATCH (activity:ACTIVITY)\n",
    "OPTIONAL MATCH (activity)<-[:DEPENDS_ON]-(predecessor:ACTIVITY)\n",
    "WITH activity, COUNT(predecessor) AS incomingDependencies\n",
    "OPTIONAL MATCH path = (activity)-[:DEPENDS_ON*]->(dependent:ACTIVITY)\n",
    "WITH activity, incomingDependencies, COALESCE(MAX(LENGTH(path)), 0) AS depth\n",
    "RETURN \n",
    "    activity.name AS activityName, \n",
    "    activity.description AS description, \n",
    "    activity.duration AS duration, \n",
    "    depth, \n",
    "    incomingDependencies\n",
    "ORDER BY depth DESC, incomingDependencies ASC\n",
    "\n",
    "MATCH (activity:ACTIVITY)\n",
    "OPTIONAL MATCH (activity)<-[:DEPENDS_ON]-(predecessor:ACTIVITY)\n",
    "WITH activity, COLLECT(predecessor) AS predecessors\n",
    "ORDER BY activity.depth ASC\n",
    "WITH activity,\n",
    "    REDUCE(maxFinish = 0, pred IN predecessors | \n",
    "        CASE \n",
    "            WHEN pred.earlyFinish IS NOT NULL AND pred.earlyFinish > maxFinish THEN pred.earlyFinish \n",
    "            ELSE maxFinish \n",
    "        END) AS earlyStart\n",
    "SET activity.earlyStart = COALESCE(earlyStart, 0),\n",
    "    activity.earlyFinish = COALESCE(earlyStart, 0) + activity.duration\n",
    "RETURN activity.name AS activityName, activity.earlyStart, activity.earlyFinish\n",
    "ORDER BY activity.depth ASC\n",
    "\"\"\""
   ]
  },
  {
   "cell_type": "code",
   "execution_count": null,
   "metadata": {},
   "outputs": [],
   "source": [
    "\"\"\"\n",
    "OPTIONAL MATCH (activity)<-[:DEPENDS_ON]-(predecessor:ACTIVITY)    \n",
    "WITH activity, predecessor, COUNT(predecessor) AS incomingDependencies     \n",
    "\n",
    "OPTIONAL MATCH path = (activity)-[:DEPENDS_ON*]->(dependent:ACTIVITY) \n",
    "WITH activity, predecessor, incomingDependencies, COALESCE(MAX(LENGTH(path)), 0) AS depth \n",
    "ORDER BY depth ASC, incomingDependencies ASC   // activity with longest chain comes first\n",
    "WITH activity, COLLECT(predecessor) AS predecessors                 // group all predecessor nodes into a list\n",
    "WITH activity,\n",
    "    REDUCE(maxFinish = 0, pred IN predecessors |                    //  Iterate over each predecessor for forward pass take max of predecessors early finish \n",
    "        CASE \n",
    "            WHEN pred.earlyFinish IS NOT NULL AND pred.earlyFinish > maxFinish THEN pred.earlyFinish  // get max early finish of predecessors\n",
    "            ELSE maxFinish \n",
    "        END) AS earlyStart                                          // the maxfinish in the predecessors will be the early start of current node  or 0 if no predecessors acc maxFinish = 0                     \n",
    "SET activity += {earlyStart: COALESCE(earlyStart, 0),\n",
    "    earlyFinish: COALESCE(earlyStart, 0) + activity.duration} \n",
    "RETURN activity.name AS activityName, activity.earlyStart, activity.earlyFinish\n",
    "ORDER BY activity.depth ASC;\"\"\""
   ]
  },
  {
   "cell_type": "code",
   "execution_count": null,
   "metadata": {},
   "outputs": [],
   "source": [
    "\"\"\"\n",
    "// initialize earlystart and early finish of the last node\n",
    "MATCH (activity:ACTIVITY)\n",
    "WHERE NOT (activity)-[:DEPENDS_ON]->()  // Find node with no outgoing relationship\n",
    "SET activity.lateFinish = activity.earlyFinish,\n",
    "    activity.lateStart = activity.lateFinish - activity.duration;\n",
    "\n",
    "// Propagate lateStart and lateFinish values backward\n",
    "MATCH (activity:ACTIVITY)\n",
    "OPTIONAL MATCH (activity)-[:DEPENDS_ON]->(successor:ACTIVITY) // Match successors\n",
    "WITH activity, \n",
    "     COLLECT(successor) AS successors                         // Group successors for each node\n",
    "ORDER BY activity.depth DESC                                  // Process nodes in reverse order of depth\n",
    "WITH activity,\n",
    "     REDUCE(minStart = activity.lateFinish, succ IN successors | \n",
    "         CASE \n",
    "             WHEN succ.lateStart IS NOT NULL AND succ.lateStart < minStart THEN succ.lateStart\n",
    "             ELSE minStart\n",
    "         END) AS lateFinish                                 // Calculate lateFinish as min(lateStart) of successors\n",
    "SET activity.lateFinish = COALESCE(lateFinish, activity.earlyFinish),\n",
    "    activity.lateStart = activity.lateFinish - activity.duration;\n",
    "\n",
    "// Step 3: Return Results\n",
    "MATCH (activity:ACTIVITY)\n",
    "RETURN activity.name AS activityName, activity.lateStart, activity.lateFinish\n",
    "ORDER BY activity.depth DESC;\n",
    "\"\"\""
   ]
  },
  {
   "cell_type": "markdown",
   "metadata": {},
   "source": [
    "## topological order\n",
    "Only works for Directed Acyclic Graphs"
   ]
  },
  {
   "cell_type": "code",
   "execution_count": 7,
   "metadata": {},
   "outputs": [
    {
     "data": {
      "text/plain": [
       "'// Match all activities and their predecessors\\nMATCH (activity:ACTIVITY)\\nOPTIONAL MATCH (activity)<-[:DEPENDS_ON]-(predecessor:ACTIVITY)\\n\\n// Collect predecessors for each activity\\nWITH activity, COLLECT(predecessor.name) AS predecessors\\n\\n// Find the depth of each activity for topological order\\nOPTIONAL MATCH path = (activity)-[:DEPENDS_ON*]->(dependent:ACTIVITY)\\nWITH activity, predecessors, \\n     COALESCE(MAX(LENGTH(path)), 0) AS depth, \\n     SIZE(predecessors) AS incomingDependencies\\n\\n// Order activities by depth (descending) and by number of incoming dependencies (ascending)\\nORDER BY depth DESC, incomingDependencies ASC \\n\\n// Return the results with the predecessors as a list\\nRETURN \\n    activity.name AS name, \\n    depth, \\n    incomingDependencies, \\n    predecessors AS predecessorNames\\n'"
      ]
     },
     "execution_count": 7,
     "metadata": {},
     "output_type": "execute_result"
    }
   ],
   "source": [
    "\"\"\"// Match all activities and their predecessors\n",
    "MATCH (activity:ACTIVITY)\n",
    "OPTIONAL MATCH (activity)<-[:DEPENDS_ON]-(predecessor:ACTIVITY)\n",
    "\n",
    "// Collect predecessors for each activity\n",
    "WITH activity, COLLECT(predecessor.name) AS predecessors\n",
    "\n",
    "// Find the depth of each activity for topological order\n",
    "OPTIONAL MATCH path = (activity)-[:DEPENDS_ON*]->(dependent:ACTIVITY)\n",
    "WITH activity, predecessors, \n",
    "     COALESCE(MAX(LENGTH(path)), 0) AS depth, \n",
    "     SIZE(predecessors) AS incomingDependencies\n",
    "\n",
    "// Order activities by depth (descending) and by number of incoming dependencies (ascending)\n",
    "ORDER BY depth DESC, incomingDependencies ASC \n",
    "\n",
    "// Return the results with the predecessors as a list\n",
    "RETURN \n",
    "    activity.name AS name, \n",
    "    depth, \n",
    "    incomingDependencies, \n",
    "    predecessors AS predecessorNames\n",
    "\"\"\""
   ]
  },
  {
   "cell_type": "markdown",
   "metadata": {},
   "source": [
    "### Forward pass\n",
    "It does calculate the correct values but one has to run the query a couple of time for it to calculate the correct values. Reason is Neo4j is propagating stale values for earlyStart and earlyFinish to the next node."
   ]
  },
  {
   "cell_type": "code",
   "execution_count": 8,
   "metadata": {},
   "outputs": [
    {
     "data": {
      "text/plain": [
       "'// Match all activities and their predecessors\\nMATCH (activity:ACTIVITY)\\nOPTIONAL MATCH (activity)<-[:DEPENDS_ON]-(predecessor:ACTIVITY)\\n\\n// Collect predecessors for each activity\\nWITH activity, COLLECT(predecessor) AS predecessors\\n\\n// Find the depth of each activity for topological order\\nOPTIONAL MATCH path = (activity)-[:DEPENDS_ON*]->(dependent:ACTIVITY)\\nWITH activity, predecessors, \\n     COALESCE(MAX(LENGTH(path)), 0) AS depth, \\n     SIZE(predecessors) AS incomingDependencies\\n\\n// Order activities by depth (descending) and by number of incoming dependencies (ascending) topological order\\nORDER BY depth DESC, incomingDependencies ASC \\n\\n// Calculate earlyStart and earlyFinish for each activity\\nWITH COLLECT([activity, predecessors]) AS activityPredecessorsList\\nUNWIND activityPredecessorsList AS activityPredecessorsTuple\\nWITH activityPredecessorsTuple[0] AS currentActivity, \\n     REDUCE(\\n         maxFinish = 0, \\n         pred IN activityPredecessorsTuple[1] |                    \\n         CASE \\n             WHEN pred IS NOT NULL AND pred.earlyFinish IS NOT NULL AND pred.earlyFinish > maxFinish \\n             THEN pred.earlyFinish  \\n             ELSE maxFinish \\n         END\\n     ) AS earlyStart\\nSET currentActivity += {\\n    earlyStart: COALESCE(earlyStart, 0), \\n    earlyFinish: COALESCE(earlyStart, 0) + currentActivity.duration\\n}\\nRETURN currentActivity.name AS activityName, \\n       currentActivity.earlyStart AS earlyStart, \\n       currentActivity.earlyFinish AS earlyFinish\\nORDER BY currentActivity.depth ASC\\n'"
      ]
     },
     "execution_count": 8,
     "metadata": {},
     "output_type": "execute_result"
    }
   ],
   "source": [
    "\"\"\"// Match all activities and their predecessors\n",
    "MATCH (activity:ACTIVITY)\n",
    "OPTIONAL MATCH (activity)<-[:DEPENDS_ON]-(predecessor:ACTIVITY)\n",
    "\n",
    "// Collect predecessors for each activity\n",
    "WITH activity, COLLECT(predecessor) AS predecessors\n",
    "\n",
    "// Find the depth of each activity for topological order\n",
    "OPTIONAL MATCH path = (activity)-[:DEPENDS_ON*]->(dependent:ACTIVITY)\n",
    "WITH activity, predecessors, \n",
    "     COALESCE(MAX(LENGTH(path)), 0) AS depth, \n",
    "     SIZE(predecessors) AS incomingDependencies\n",
    "\n",
    "// Order activities by depth (descending) and by number of incoming dependencies (ascending) topological order\n",
    "ORDER BY depth DESC, incomingDependencies ASC \n",
    "\n",
    "// Calculate earlyStart and earlyFinish for each activity\n",
    "WITH COLLECT([activity, predecessors]) AS activityPredecessorsList\n",
    "UNWIND activityPredecessorsList AS activityPredecessorsTuple\n",
    "WITH activityPredecessorsTuple[0] AS currentActivity, \n",
    "     REDUCE(\n",
    "         maxFinish = 0, \n",
    "         pred IN activityPredecessorsTuple[1] |                    \n",
    "         CASE \n",
    "             WHEN pred IS NOT NULL AND pred.earlyFinish IS NOT NULL AND pred.earlyFinish > maxFinish \n",
    "             THEN pred.earlyFinish  \n",
    "             ELSE maxFinish \n",
    "         END\n",
    "     ) AS earlyStart\n",
    "SET currentActivity += {\n",
    "    earlyStart: COALESCE(earlyStart, 0), \n",
    "    earlyFinish: COALESCE(earlyStart, 0) + currentActivity.duration\n",
    "}\n",
    "RETURN currentActivity.name AS activityName, \n",
    "       currentActivity.earlyStart AS earlyStart, \n",
    "       currentActivity.earlyFinish AS earlyFinish\n",
    "ORDER BY currentActivity.depth ASC\n",
    "\"\"\""
   ]
  },
  {
   "cell_type": "markdown",
   "metadata": {},
   "source": [
    "### backward pass"
   ]
  },
  {
   "cell_type": "code",
   "execution_count": 9,
   "metadata": {},
   "outputs": [
    {
     "data": {
      "text/plain": [
       "'\\n// match all activities and their successors\\nMATCH (activity:ACTIVITY)\\nOPTIONAL MATCH (activity)-[:DEPENDS_ON]->(successor:ACTIVITY)\\n\\n// collect successors for each activity\\nWITH activity, COLLECT(successor) AS successors\\n\\n// find the depth of each activity for topological order\\nOPTIONAL MATCH path = (activity)<-[:DEPENDS_ON*]-(dependent:ACTIVITY)\\nWITH activity, successors, \\n    COALESCE(MAX(LENGTH(path)), 0) AS depth, \\n    SIZE(successors) AS outgoingDependencies\\n\\n// order activities by depth (descending) and by number of outgoing dependencies (ascending) topological order\\nORDER BY depth DESC, outgoingDependencies ASC \\n\\n// calculate lateStart and lateFinish for each activity\\nWITH COLLECT([activity, successors]) AS activitySuccessorsList\\nUNWIND activitySuccessorsList AS activitySuccessorsTuple\\nWITH activitySuccessorsTuple[0] AS currentActivity, activitySuccessorsTuple\\n    WITH currentActivity, activitySuccessorsTuple, REDUCE(\\n        minStart = currentActivity.earlyFinish, \\n        succ IN activitySuccessorsTuple[1] |                    \\n        CASE \\n            WHEN succ IS NOT NULL AND succ.lateStart IS NOT NULL AND succ.lateStart < minStart \\n            THEN succ.lateStart  \\n            ELSE minStart \\n        END\\n    ) AS lateFinish\\n\\n// update lateStart and lateFinish for each activity\\nSET currentActivity += {\\n    lateFinish: COALESCE(lateFinish, currentActivity.earlyFinish), \\n    lateStart: COALESCE(lateFinish, currentActivity.earlyFinish) - currentActivity.duration\\n}\\n\\n// return the results\\nRETURN currentActivity.name AS activityName, \\n    currentActivity.lateStart AS lateStart, \\n    currentActivity.lateFinish AS lateFinish\\nORDER BY currentActivity.depth DESC'"
      ]
     },
     "execution_count": 9,
     "metadata": {},
     "output_type": "execute_result"
    }
   ],
   "source": [
    "\"\"\"\n",
    "// match all activities and their successors\n",
    "MATCH (activity:ACTIVITY)\n",
    "OPTIONAL MATCH (activity)-[:DEPENDS_ON]->(successor:ACTIVITY)\n",
    "\n",
    "// collect successors for each activity\n",
    "WITH activity, COLLECT(successor) AS successors\n",
    "\n",
    "// find the depth of each activity for topological order\n",
    "OPTIONAL MATCH path = (activity)<-[:DEPENDS_ON*]-(dependent:ACTIVITY)\n",
    "WITH activity, successors, \n",
    "    COALESCE(MAX(LENGTH(path)), 0) AS depth, \n",
    "    SIZE(successors) AS outgoingDependencies\n",
    "\n",
    "// order activities by depth (descending) and by number of outgoing dependencies (ascending) topological order\n",
    "ORDER BY depth DESC, outgoingDependencies ASC \n",
    "\n",
    "// calculate lateStart and lateFinish for each activity\n",
    "WITH COLLECT([activity, successors]) AS activitySuccessorsList\n",
    "UNWIND activitySuccessorsList AS activitySuccessorsTuple\n",
    "WITH activitySuccessorsTuple[0] AS currentActivity, activitySuccessorsTuple\n",
    "    WITH currentActivity, activitySuccessorsTuple, REDUCE(\n",
    "        minStart = currentActivity.earlyFinish, \n",
    "        succ IN activitySuccessorsTuple[1] |                    \n",
    "        CASE \n",
    "            WHEN succ IS NOT NULL AND succ.lateStart IS NOT NULL AND succ.lateStart < minStart \n",
    "            THEN succ.lateStart  \n",
    "            ELSE minStart \n",
    "        END\n",
    "    ) AS lateFinish\n",
    "\n",
    "// update lateStart and lateFinish for each activity\n",
    "SET currentActivity += {\n",
    "    lateFinish: COALESCE(lateFinish, currentActivity.earlyFinish), \n",
    "    lateStart: COALESCE(lateFinish, currentActivity.earlyFinish) - currentActivity.duration\n",
    "}\n",
    "\n",
    "// return the results\n",
    "RETURN currentActivity.name AS activityName, \n",
    "    currentActivity.lateStart AS lateStart, \n",
    "    currentActivity.lateFinish AS lateFinish\n",
    "ORDER BY currentActivity.depth DESC\"\"\""
   ]
  },
  {
   "cell_type": "markdown",
   "metadata": {},
   "source": [
    "## Calculating Slack\n",
    "Free slack\n",
    "Total slack"
   ]
  },
  {
   "cell_type": "code",
   "execution_count": null,
   "metadata": {},
   "outputs": [],
   "source": [
    "\"\"\"\n",
    "MATCH (activity:ACTIVITY)\n",
    "OPTIONAL MATCH (activity)-[:DEPENDS_ON]->(successor:ACTIVITY)\n",
    "\n",
    "WITH activity, COLLECT(successor) AS successors\n",
    "\n",
    "OPTIONAL MATCH path = (activity)<-[:DEPENDS_ON*]-(dependent:ACTIVITY)\n",
    "WITH activity, successors, \n",
    "    COALESCE(MAX(LENGTH(path)), 0) AS depth, \n",
    "    SIZE(successors) AS outgoingDependencies\n",
    "\n",
    "ORDER BY depth DESC, outgoingDependencies ASC \n",
    "\n",
    "WITH COLLECT([activity, successors]) AS activitySuccessorsList\n",
    "UNWIND activitySuccessorsList AS activitySuccessorsTuple\n",
    "WITH activitySuccessorsTuple[0] AS currentActivity, activitySuccessorsTuple\n",
    "    WITH currentActivity, activitySuccessorsTuple, REDUCE(\n",
    "        minSuccEarlyStart = activitySuccessorsTuple[1][0].earlyStart, \n",
    "        succ IN activitySuccessorsTuple[1] |                    \n",
    "        CASE \n",
    "            WHEN succ IS NOT NULL AND succ.earlyStart IS NOT NULL AND succ.earlyStart < minSuccEarlyStart \n",
    "            THEN succ.earlyStart  \n",
    "            ELSE minSuccEarlyStart \n",
    "        END\n",
    "    ) AS minSuccEarlyStart\n",
    "SET currentActivity += {\n",
    "    totalFloat: currentActivity.lateFinish - currentActivity.earlyFinish,\n",
    "    freeFloat: COALESCE(minSuccEarlyStart - currentActivity.earlyStart - currentActivity.duration, 0)\n",
    "}\n",
    "RETURN currentActivity.name AS activityName, \n",
    "    currentActivity.earlyStart AS earlyStart, \n",
    "    currentActivity.earlyFinish AS earlyFinish,\n",
    "    currentActivity.lateStart AS lateStart,\n",
    "    currentActivity.lateFinish AS lateFinish,\n",
    "    currentActivity.totalFloat AS totalFloat,\n",
    "    currentActivity.freeFloat AS freeFloat\n",
    "ORDER BY currentActivity.depth DESC\"\"\""
   ]
  },
  {
   "cell_type": "markdown",
   "metadata": {},
   "source": [
    "### Critical path"
   ]
  },
  {
   "cell_type": "code",
   "execution_count": null,
   "metadata": {},
   "outputs": [],
   "source": [
    "\"\"\"\n",
    "// trace paths between critical activities\n",
    "OPTIONAL MATCH path = (start:ACTIVITY)-[:DEPENDS_ON*]->(end:ACTIVITY)\n",
    "WHERE ALL(node IN NODES(path) WHERE node.totalFloat = 0)\n",
    "\n",
    "//Total duration between the critical activities\n",
    "WITH path, \n",
    "     REDUCE(totalDuration = 0, activity IN NODES(path) | totalDuration + activity.duration) AS pathDuration\n",
    "ORDER BY pathDuration DESC\n",
    "\n",
    "// Return the longest path and duration\n",
    "LIMIT 1\n",
    "RETURN [activity IN NODES(path) | activity.name] AS criticalPath, pathDuration\n",
    "\"\"\""
   ]
  },
  {
   "cell_type": "code",
   "execution_count": null,
   "metadata": {},
   "outputs": [],
   "source": [
    "// Create activity\n",
    "CREATE (activity:ACTIVITY {name: \"Foundation Excavation\", duration: 10, start_date: \"2024-01-01\", end_date: \"2024-01-10\"})\n",
    "\n",
    "// Create allocation\n",
    "CREATE (allocation:ALLOCATION {cost: 500, quantity: 3, unit_cost: 150, transport_cost: 50, allocation_date: \"2024-01-01\", release_date: \"2024-01-10\"})\n",
    "\n",
    "// Create resources\n",
    "CREATE (labor:RESOURCE {type: \"labor\", skill: \"plumbing\", rate: 50, availability: 10})\n",
    "CREATE (equipment:RESOURCE {type: \"equipment\", name: \"Excavator\", source: \"leasing\", rental_cost: 200, transport_cost: 50})\n",
    "CREATE (material:RESOURCE {type: \"material\", name: \"Concrete\", unit_cost: 20, MOQ: 5, availability: 100})\n",
    "\n",
    "// Link activity to allocation\n",
    "CREATE (activity)-[:ALLOCATED]->(allocation)\n",
    "\n",
    "// Link allocation to resources\n",
    "CREATE (allocation)-[:USES]->(labor)\n",
    "CREATE (allocation)-[:USES]->(equipment)\n",
    "CREATE (allocation)-[:USES]->(material)\n",
    "\n",
    "// Define requirements\n",
    "CREATE (activity)-[:REQUIRES {quantity: 5}]->(material)\n",
    "CREATE (activity)-[:REQUIRES {quantity: 1}]->(equipment)\n",
    "CREATE (activity)-[:REQUIRES {quantity: 3, skill: \"plumbing\"}]->(labor)\n"
   ]
  },
  {
   "cell_type": "code",
   "execution_count": null,
   "metadata": {},
   "outputs": [],
   "source": [
    "MATCH (resource:RESOURCE)\n",
    "WHERE resource.type = \"labor\" AND resource.skill = \"plumbing\"\n",
    "RETURN resource.availability >= 5 AS isAvailable\n"
   ]
  },
  {
   "cell_type": "code",
   "execution_count": null,
   "metadata": {},
   "outputs": [],
   "source": [
    "MATCH (allocation:ALLOCATION)-[:USES]->(resource:RESOURCE)\n",
    "RETURN allocation.cost + SUM(resource.transport_cost) AS totalCost\n"
   ]
  },
  {
   "cell_type": "code",
   "execution_count": null,
   "metadata": {},
   "outputs": [],
   "source": [
    "MATCH (activity:ACTIVITY)-[:REQUIRES {quantity: required}]->(resource:RESOURCE)\n",
    "WHERE resource.availability < required\n",
    "RETURN resource.type, required - resource.availability AS deficit\n"
   ]
  },
  {
   "cell_type": "code",
   "execution_count": null,
   "metadata": {},
   "outputs": [],
   "source": [
    "MATCH (allocation:ALLOCATION)-[:USES]->(resource:RESOURCE)\n",
    "WHERE allocation.release_date <= date()\n",
    "SET resource.availability = resource.availability + allocation.quantity\n"
   ]
  },
  {
   "cell_type": "markdown",
   "metadata": {},
   "source": [
    "Create labour, equipment and material nodes. Group materials of same type"
   ]
  },
  {
   "cell_type": "code",
   "execution_count": null,
   "metadata": {},
   "outputs": [],
   "source": [
    "# Group resources\n",
    "\"\"\"MATCH (l:Labor {type: 'plumbing'})\n",
    "CREATE (r:Resource {type: 'labor'})\n",
    "CREATE (r)-[:INCLUDES]->(l);\n",
    "\n",
    "MATCH (e:Equipment {name: 'Concrete Mixer'})\n",
    "CREATE (r:Resource {type: 'equipment'})\n",
    "CREATE (r)-[:INCLUDES]->(e);\n",
    "\n",
    "MATCH (m:Material {name: 'Cement'})\n",
    "CREATE (r:Resource {type: 'material'})\n",
    "CREATE (r)-[:INCLUDES]->(m);\n",
    "\"\"\""
   ]
  },
  {
   "cell_type": "code",
   "execution_count": null,
   "metadata": {},
   "outputs": [],
   "source": [
    "# link an activity to resource\n",
    "\"\"\"CREATE (a:Activity {name: 'Foundation', startDate: '2024-01-01', endDate: '2024-01-15'});\n",
    "\n",
    "MATCH (r:Resource {type: 'labor'}), (a:Activity {name: 'Foundation'})\n",
    "CREATE (a)-[:REQUIRES]->(r);\n",
    "\n",
    "MATCH (r:Resource {type: 'equipment'}), (a:Activity {name: 'Foundation'})\n",
    "CREATE (a)-[:REQUIRES]->(r);\n",
    "\"\"\""
   ]
  },
  {
   "cell_type": "code",
   "execution_count": null,
   "metadata": {},
   "outputs": [],
   "source": [
    "# allocate resource and update the resource availability\n",
    "\"\"\"MATCH (a:Activity {name: 'Foundation'}), (r:Resource {type: 'labor'})\n",
    "CREATE (a)-[:ALLOCATED {cost: 400, duration: '8 hours'}]->(r)\n",
    "SET r.available = false;\n",
    "\n",
    "MATCH (a:Activity {name: 'Foundation'}), (r:Resource {type: 'material'})\n",
    "CREATE (a)-[:ALLOCATED {cost: 250, quantity: 50}]->(r)\n",
    "SET r.quantity = r.quantity - 50;\n",
    "\"\"\""
   ]
  },
  {
   "cell_type": "code",
   "execution_count": null,
   "metadata": {},
   "outputs": [],
   "source": [
    "# Link materials to supplier\n",
    "\"\"\"CREATE (:Supplier {name: 'Supplier A', contact: 'supplierA@example.com'});\n",
    "\n",
    "MATCH (m:Material {name: 'Cement'}), (s:Supplier {name: 'Supplier A'})\n",
    "CREATE (m)-[:SUPPLIED_BY]->(s);\n",
    "\"\"\""
   ]
  },
  {
   "cell_type": "markdown",
   "metadata": {},
   "source": [
    "### creating equipments\n",
    "TODO: equipment has to have an operator so consider if equipment cost is together with the operator or not"
   ]
  },
  {
   "cell_type": "code",
   "execution_count": 3,
   "metadata": {},
   "outputs": [
    {
     "ename": "SyntaxError",
     "evalue": "invalid syntax (112490860.py, line 1)",
     "output_type": "error",
     "traceback": [
      "\u001b[0;36m  Cell \u001b[0;32mIn[3], line 1\u001b[0;36m\u001b[0m\n\u001b[0;31m    CREATE (equipment:EQUIPMENT {name: \"Concrete mixer\", quantity: 3, description: \"For mixing and batching concrete\", source: \"leading\", cost: 4000, rate: \"per-day\", transportCost: 1000})\u001b[0m\n\u001b[0m                     ^\u001b[0m\n\u001b[0;31mSyntaxError\u001b[0m\u001b[0;31m:\u001b[0m invalid syntax\n"
     ]
    }
   ],
   "source": [
    "\"\"\"CREATE (equipment:EQUIPMENT {name: \"Concrete mixer\", quantity: 3, description: \"For mixing and batching concrete\", source: \"leading\", cost: 4000, rate: \"per-day\", transportCost: 1000})\n",
    "CREATE (equipment:EQUIPMENT {name: \"Poker vibrator\", quantity: 3, description: \"For compacting concrete\", source: \"leasing\", cost: 2500, rate: \"per-day\", transportCost: 1000})\n",
    "CREATE (equipment:EQUIPMENT {name: \"Bulldozer\", quantity: 1, description: \"For lifting waste into tipper lorries\", source: \"leasing\", cost: 12000, rate: \"per-trip\", transportCost: 0})\n",
    "CREATE (equipment:EQUIPMENT {name: \"Excavator\", quantity: 1, description: \"For digging\", source: \"leasing\", cost: 18000, rate: \"per-trip\", transportCost: 0})\n",
    "CREATE (equipment:EQUIPMENT {name: \"Tippers\", quantity: 2, description: \"Transport and dump waste\", source: \"leasing\", cost: 4000, rate: \"per-trip\", transportCost: 0})\n",
    "CREATE (equipment:EQUIPMENT {name: \"Lever Hoist\", quantity: 2, description: \"For lifting items to the top floors of building instead of a crane\", source: \"leasing\", cost: 10000, rate: \"per-day\", transportCost: 2000})\"\"\""
   ]
  },
  {
   "cell_type": "code",
   "execution_count": null,
   "metadata": {},
   "outputs": [],
   "source": []
  }
 ],
 "metadata": {
  "kernelspec": {
   "display_name": "venv",
   "language": "python",
   "name": "python3"
  },
  "language_info": {
   "codemirror_mode": {
    "name": "ipython",
    "version": 3
   },
   "file_extension": ".py",
   "mimetype": "text/x-python",
   "name": "python",
   "nbconvert_exporter": "python",
   "pygments_lexer": "ipython3",
   "version": "3.10.16"
  }
 },
 "nbformat": 4,
 "nbformat_minor": 2
}
