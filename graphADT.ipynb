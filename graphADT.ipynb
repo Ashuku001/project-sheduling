{
 "cells": [
  {
   "cell_type": "markdown",
   "metadata": {},
   "source": [
    "# Graph Data structures"
   ]
  },
  {
   "cell_type": "markdown",
   "metadata": {},
   "source": [
    "Topological ordering"
   ]
  },
  {
   "cell_type": "code",
   "execution_count": null,
   "metadata": {},
   "outputs": [],
   "source": [
    "MATCH (activity:ACTIVITY)\n",
    "OPTIONAL MATCH (activity)<-[:DEPENDS_ON]-(predecessor:ACTIVITY)\n",
    "WITH activity, COUNT(predecessor) AS incomingDependencies\n",
    "OPTIONAL MATCH path = (activity)-[:DEPENDS_ON*]->(dependent:ACTIVITY)\n",
    "WITH activity, incomingDependencies, COALESCE(MAX(LENGTH(path)), 0) AS depth\n",
    "RETURN \n",
    "    activity.name AS activityName, \n",
    "    activity.description AS description, \n",
    "    activity.duration AS duration, \n",
    "    depth, \n",
    "    incomingDependencies\n",
    "ORDER BY depth DESC, incomingDependencies ASC\n"
   ]
  },
  {
   "cell_type": "markdown",
   "metadata": {},
   "source": [
    "Early start and early finish topological ordering"
   ]
  },
  {
   "cell_type": "code",
   "execution_count": null,
   "metadata": {},
   "outputs": [],
   "source": [
    "MATCH (activity:ACTIVITY)\n",
    "OPTIONAL MATCH (activity)<-[:DEPENDS_ON]-(predecessor:ACTIVITY)\n",
    "WITH activity, COLLECT(predecessor) AS predecessors\n",
    "ORDER BY activity.depth ASC\n",
    "WITH activity,\n",
    "    REDUCE(maxFinish = 0, pred IN predecessors | \n",
    "        CASE \n",
    "            WHEN pred.earlyFinish IS NOT NULL AND pred.earlyFinish > maxFinish THEN pred.earlyFinish \n",
    "            ELSE maxFinish \n",
    "        END) AS earlyStart\n",
    "SET activity.earlyStart = COALESCE(earlyStart, 0),\n",
    "    activity.earlyFinish = COALESCE(earlyStart, 0) + activity.duration\n",
    "RETURN activity.name AS activityName, activity.earlyStart, activity.earlyFinish\n",
    "ORDER BY activity.depth ASC"
   ]
  },
  {
   "cell_type": "code",
   "execution_count": 1,
   "metadata": {},
   "outputs": [
    {
     "ename": "SyntaxError",
     "evalue": "invalid syntax (175008303.py, line 1)",
     "output_type": "error",
     "traceback": [
      "\u001b[0;36m  Cell \u001b[0;32mIn[1], line 1\u001b[0;36m\u001b[0m\n\u001b[0;31m    MATCH (activity:ACTIVITY)\u001b[0m\n\u001b[0m                   ^\u001b[0m\n\u001b[0;31mSyntaxError\u001b[0m\u001b[0;31m:\u001b[0m invalid syntax\n"
     ]
    }
   ],
   "source": [
    "\"\"\"\n",
    "MATCH (activity:ACTIVITY)\n",
    "OPTIONAL MATCH (activity)<-[:DEPENDS_ON]-(predecessor:ACTIVITY)\n",
    "WITH activity, COUNT(predecessor) AS incomingDependencies\n",
    "OPTIONAL MATCH path = (activity)-[:DEPENDS_ON*]->(dependent:ACTIVITY)\n",
    "WITH activity, incomingDependencies, COALESCE(MAX(LENGTH(path)), 0) AS depth\n",
    "RETURN \n",
    "    activity.name AS activityName, \n",
    "    activity.description AS description, \n",
    "    activity.duration AS duration, \n",
    "    depth, \n",
    "    incomingDependencies\n",
    "ORDER BY depth DESC, incomingDependencies ASC\n",
    "\n",
    "MATCH (activity:ACTIVITY)\n",
    "OPTIONAL MATCH (activity)<-[:DEPENDS_ON]-(predecessor:ACTIVITY)\n",
    "WITH activity, COLLECT(predecessor) AS predecessors\n",
    "ORDER BY activity.depth ASC\n",
    "WITH activity,\n",
    "    REDUCE(maxFinish = 0, pred IN predecessors | \n",
    "        CASE \n",
    "            WHEN pred.earlyFinish IS NOT NULL AND pred.earlyFinish > maxFinish THEN pred.earlyFinish \n",
    "            ELSE maxFinish \n",
    "        END) AS earlyStart\n",
    "SET activity.earlyStart = COALESCE(earlyStart, 0),\n",
    "    activity.earlyFinish = COALESCE(earlyStart, 0) + activity.duration\n",
    "RETURN activity.name AS activityName, activity.earlyStart, activity.earlyFinish\n",
    "ORDER BY activity.depth ASC\n",
    "\"\"\""
   ]
  },
  {
   "cell_type": "code",
   "execution_count": null,
   "metadata": {},
   "outputs": [],
   "source": [
    "\"\"\"\n",
    "OPTIONAL MATCH (activity)<-[:DEPENDS_ON]-(predecessor:ACTIVITY)    \n",
    "WITH activity, predecessor, COUNT(predecessor) AS incomingDependencies     \n",
    "\n",
    "OPTIONAL MATCH path = (activity)-[:DEPENDS_ON*]->(dependent:ACTIVITY) \n",
    "WITH activity, predecessor, incomingDependencies, COALESCE(MAX(LENGTH(path)), 0) AS depth \n",
    "ORDER BY depth ASC, incomingDependencies ASC   // activity with longest chain comes first\n",
    "WITH activity, COLLECT(predecessor) AS predecessors                 // group all predecessor nodes into a list\n",
    "WITH activity,\n",
    "    REDUCE(maxFinish = 0, pred IN predecessors |                    //  Iterate over each predecessor for forward pass take max of predecessors early finish \n",
    "        CASE \n",
    "            WHEN pred.earlyFinish IS NOT NULL AND pred.earlyFinish > maxFinish THEN pred.earlyFinish  // get max early finish of predecessors\n",
    "            ELSE maxFinish \n",
    "        END) AS earlyStart                                          // the maxfinish in the predecessors will be the early start of current node  or 0 if no predecessors acc maxFinish = 0                     \n",
    "SET activity += {earlyStart: COALESCE(earlyStart, 0),\n",
    "    earlyFinish: COALESCE(earlyStart, 0) + activity.duration} \n",
    "RETURN activity.name AS activityName, activity.earlyStart, activity.earlyFinish\n",
    "ORDER BY activity.depth ASC;\"\"\""
   ]
  },
  {
   "cell_type": "code",
   "execution_count": null,
   "metadata": {},
   "outputs": [],
   "source": [
    "\"\"\"\n",
    "// initialize earlystart and early finish of the last node\n",
    "MATCH (activity:ACTIVITY)\n",
    "WHERE NOT (activity)-[:DEPENDS_ON]->()  // Find node with no outgoing relationship\n",
    "SET activity.lateFinish = activity.earlyFinish,\n",
    "    activity.lateStart = activity.lateFinish - activity.duration;\n",
    "\n",
    "// Propagate lateStart and lateFinish values backward\n",
    "MATCH (activity:ACTIVITY)\n",
    "OPTIONAL MATCH (activity)-[:DEPENDS_ON]->(successor:ACTIVITY) // Match successors\n",
    "WITH activity, \n",
    "     COLLECT(successor) AS successors                         // Group successors for each node\n",
    "ORDER BY activity.depth DESC                                  // Process nodes in reverse order of depth\n",
    "WITH activity,\n",
    "     REDUCE(minStart = activity.lateFinish, succ IN successors | \n",
    "         CASE \n",
    "             WHEN succ.lateStart IS NOT NULL AND succ.lateStart < minStart THEN succ.lateStart\n",
    "             ELSE minStart\n",
    "         END) AS lateFinish                                 // Calculate lateFinish as min(lateStart) of successors\n",
    "SET activity.lateFinish = COALESCE(lateFinish, activity.earlyFinish),\n",
    "    activity.lateStart = activity.lateFinish - activity.duration;\n",
    "\n",
    "// Step 3: Return Results\n",
    "MATCH (activity:ACTIVITY)\n",
    "RETURN activity.name AS activityName, activity.lateStart, activity.lateFinish\n",
    "ORDER BY activity.depth DESC;\n",
    "\"\"\""
   ]
  },
  {
   "cell_type": "markdown",
   "metadata": {},
   "source": [
    "## topological order\n",
    "Only works for Directed Acyclic Graphs"
   ]
  },
  {
   "cell_type": "code",
   "execution_count": null,
   "metadata": {},
   "outputs": [],
   "source": [
    "\"\"\"// Match all activities and their predecessors\n",
    "MATCH (activity:ACTIVITY)\n",
    "OPTIONAL MATCH (activity)<-[:DEPENDS_ON]-(predecessor:ACTIVITY)\n",
    "\n",
    "// Collect predecessors for each activity\n",
    "WITH activity, COLLECT(predecessor.name) AS predecessors\n",
    "\n",
    "// Find the depth of each activity for topological order\n",
    "OPTIONAL MATCH path = (activity)-[:DEPENDS_ON*]->(dependent:ACTIVITY)\n",
    "WITH activity, predecessors, \n",
    "     COALESCE(MAX(LENGTH(path)), 0) AS depth, \n",
    "     SIZE(predecessors) AS incomingDependencies\n",
    "\n",
    "// Order activities by depth (descending) and by number of incoming dependencies (ascending)\n",
    "ORDER BY depth DESC, incomingDependencies ASC \n",
    "\n",
    "// Return the results with the predecessors as a list\n",
    "RETURN \n",
    "    activity.name AS name, \n",
    "    depth, \n",
    "    incomingDependencies, \n",
    "    predecessors AS predecessorNames\n",
    "\"\"\""
   ]
  },
  {
   "cell_type": "markdown",
   "metadata": {},
   "source": [
    "### Forward pass\n",
    "It does calculate the correct values but one has to run the query a couple of time for it to calculate the correct values. Reason is Neo4j is propagating stale values for earlyStart and earlyFinish to the next node."
   ]
  },
  {
   "cell_type": "code",
   "execution_count": null,
   "metadata": {},
   "outputs": [],
   "source": [
    "\"\"\"// Match all activities and their predecessors\n",
    "MATCH (activity:ACTIVITY)\n",
    "OPTIONAL MATCH (activity)<-[:DEPENDS_ON]-(predecessor:ACTIVITY)\n",
    "\n",
    "// Collect predecessors for each activity\n",
    "WITH activity, COLLECT(predecessor) AS predecessors\n",
    "\n",
    "// Find the depth of each activity for topological order\n",
    "OPTIONAL MATCH path = (activity)-[:DEPENDS_ON*]->(dependent:ACTIVITY)\n",
    "WITH activity, predecessors, \n",
    "     COALESCE(MAX(LENGTH(path)), 0) AS depth, \n",
    "     SIZE(predecessors) AS incomingDependencies\n",
    "\n",
    "// Order activities by depth (descending) and by number of incoming dependencies (ascending) topological order\n",
    "ORDER BY depth DESC, incomingDependencies ASC \n",
    "\n",
    "// Calculate earlyStart and earlyFinish for each activity\n",
    "WITH COLLECT([activity, predecessors]) AS activityPredecessorsList\n",
    "UNWIND activityPredecessorsList AS activityPredecessorsTuple\n",
    "WITH activityPredecessorsTuple[0] AS currentActivity, \n",
    "     REDUCE(\n",
    "         maxFinish = 0, \n",
    "         pred IN activityPredecessorsTuple[1] |                    \n",
    "         CASE \n",
    "             WHEN pred IS NOT NULL AND pred.earlyFinish IS NOT NULL AND pred.earlyFinish > maxFinish \n",
    "             THEN pred.earlyFinish  \n",
    "             ELSE maxFinish \n",
    "         END\n",
    "     ) AS earlyStart\n",
    "SET currentActivity += {\n",
    "    earlyStart: COALESCE(earlyStart, 0), \n",
    "    earlyFinish: COALESCE(earlyStart, 0) + currentActivity.duration\n",
    "}\n",
    "RETURN currentActivity.name AS activityName, \n",
    "       currentActivity.earlyStart AS earlyStart, \n",
    "       currentActivity.earlyFinish AS earlyFinish\n",
    "ORDER BY currentActivity.depth ASC\n",
    "\"\"\""
   ]
  },
  {
   "cell_type": "markdown",
   "metadata": {},
   "source": [
    "### backward pass"
   ]
  },
  {
   "cell_type": "code",
   "execution_count": null,
   "metadata": {},
   "outputs": [],
   "source": [
    "\"\"\"\n",
    "// match all activities and their successors\n",
    "MATCH (activity:ACTIVITY)\n",
    "OPTIONAL MATCH (activity)-[:DEPENDS_ON]->(successor:ACTIVITY)\n",
    "\n",
    "// collect successors for each activity\n",
    "WITH activity, COLLECT(successor) AS successors\n",
    "\n",
    "// find the depth of each activity for topological order\n",
    "OPTIONAL MATCH path = (activity)<-[:DEPENDS_ON*]-(dependent:ACTIVITY)\n",
    "WITH activity, successors, \n",
    "    COALESCE(MAX(LENGTH(path)), 0) AS depth, \n",
    "    SIZE(successors) AS outgoingDependencies\n",
    "\n",
    "// order activities by depth (descending) and by number of outgoing dependencies (ascending) topological order\n",
    "ORDER BY depth DESC, outgoingDependencies ASC \n",
    "\n",
    "// calculate lateStart and lateFinish for each activity\n",
    "WITH COLLECT([activity, successors]) AS activitySuccessorsList\n",
    "UNWIND activitySuccessorsList AS activitySuccessorsTuple\n",
    "WITH activitySuccessorsTuple[0] AS currentActivity, activitySuccessorsTuple\n",
    "    WITH currentActivity, activitySuccessorsTuple, REDUCE(\n",
    "        minStart = currentActivity.earlyFinish, \n",
    "        succ IN activitySuccessorsTuple[1] |                    \n",
    "        CASE \n",
    "            WHEN succ IS NOT NULL AND succ.lateStart IS NOT NULL AND succ.lateStart < minStart \n",
    "            THEN succ.lateStart  \n",
    "            ELSE minStart \n",
    "        END\n",
    "    ) AS lateFinish\n",
    "\n",
    "// update lateStart and lateFinish for each activity\n",
    "SET currentActivity += {\n",
    "    lateFinish: COALESCE(lateFinish, currentActivity.earlyFinish), \n",
    "    lateStart: COALESCE(lateFinish, currentActivity.earlyFinish) - currentActivity.duration\n",
    "}\n",
    "\n",
    "// return the results\n",
    "RETURN currentActivity.name AS activityName, \n",
    "    currentActivity.lateStart AS lateStart, \n",
    "    currentActivity.lateFinish AS lateFinish\n",
    "ORDER BY currentActivity.depth DESC\"\"\""
   ]
  },
  {
   "cell_type": "markdown",
   "metadata": {},
   "source": [
    "## Calculating Slack\n",
    "Free slack\n",
    "Total slack"
   ]
  },
  {
   "cell_type": "code",
   "execution_count": null,
   "metadata": {},
   "outputs": [],
   "source": [
    "\"\"\"\n",
    "MATCH (activity:ACTIVITY)\n",
    "OPTIONAL MATCH (activity)-[:DEPENDS_ON]->(successor:ACTIVITY)\n",
    "\n",
    "WITH activity, COLLECT(successor) AS successors\n",
    "\n",
    "OPTIONAL MATCH path = (activity)<-[:DEPENDS_ON*]-(dependent:ACTIVITY)\n",
    "WITH activity, successors, \n",
    "    COALESCE(MAX(LENGTH(path)), 0) AS depth, \n",
    "    SIZE(successors) AS outgoingDependencies\n",
    "\n",
    "ORDER BY depth DESC, outgoingDependencies ASC \n",
    "\n",
    "WITH COLLECT([activity, successors]) AS activitySuccessorsList\n",
    "UNWIND activitySuccessorsList AS activitySuccessorsTuple\n",
    "WITH activitySuccessorsTuple[0] AS currentActivity, activitySuccessorsTuple\n",
    "    WITH currentActivity, activitySuccessorsTuple, REDUCE(\n",
    "        minSuccEarlyStart = activitySuccessorsTuple[1][0].earlyStart, \n",
    "        succ IN activitySuccessorsTuple[1] |                    \n",
    "        CASE \n",
    "            WHEN succ IS NOT NULL AND succ.earlyStart IS NOT NULL AND succ.earlyStart < minSuccEarlyStart \n",
    "            THEN succ.earlyStart  \n",
    "            ELSE minSuccEarlyStart \n",
    "        END\n",
    "    ) AS minSuccEarlyStart\n",
    "SET currentActivity += {\n",
    "    totalFloat: currentActivity.lateFinish - currentActivity.earlyFinish,\n",
    "    freeFloat: COALESCE(minSuccEarlyStart - currentActivity.earlyStart - currentActivity.duration, 0)\n",
    "}\n",
    "RETURN currentActivity.name AS activityName, \n",
    "    currentActivity.earlyStart AS earlyStart, \n",
    "    currentActivity.earlyFinish AS earlyFinish,\n",
    "    currentActivity.lateStart AS lateStart,\n",
    "    currentActivity.lateFinish AS lateFinish,\n",
    "    currentActivity.totalFloat AS totalFloat,\n",
    "    currentActivity.freeFloat AS freeFloat\n",
    "ORDER BY currentActivity.depth DESC\"\"\""
   ]
  },
  {
   "cell_type": "markdown",
   "metadata": {},
   "source": [
    "### Critical path"
   ]
  },
  {
   "cell_type": "code",
   "execution_count": null,
   "metadata": {},
   "outputs": [],
   "source": [
    "\"\"\"\n",
    "// trace paths between critical activities\n",
    "OPTIONAL MATCH path = (start:ACTIVITY)-[:DEPENDS_ON*]->(end:ACTIVITY)\n",
    "WHERE ALL(node IN NODES(path) WHERE node.totalFloat = 0)\n",
    "\n",
    "//Total duration between the critical activities\n",
    "WITH path, \n",
    "     REDUCE(totalDuration = 0, activity IN NODES(path) | totalDuration + activity.duration) AS pathDuration\n",
    "ORDER BY pathDuration DESC\n",
    "\n",
    "// Return the longest path and duration\n",
    "LIMIT 1\n",
    "RETURN [activity IN NODES(path) | activity.name] AS criticalPath, pathDuration\n",
    "\"\"\""
   ]
  }
 ],
 "metadata": {
  "kernelspec": {
   "display_name": "venv",
   "language": "python",
   "name": "python3"
  },
  "language_info": {
   "codemirror_mode": {
    "name": "ipython",
    "version": 3
   },
   "file_extension": ".py",
   "mimetype": "text/x-python",
   "name": "python",
   "nbconvert_exporter": "python",
   "pygments_lexer": "ipython3",
   "version": "3.10.16"
  }
 },
 "nbformat": 4,
 "nbformat_minor": 2
}
