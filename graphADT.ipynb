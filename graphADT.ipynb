{
 "cells": [
  {
   "cell_type": "markdown",
   "metadata": {},
   "source": [
    "# Graph Data structures"
   ]
  },
  {
   "cell_type": "markdown",
   "metadata": {},
   "source": [
    "Topological ordering"
   ]
  },
  {
   "cell_type": "code",
   "execution_count": null,
   "metadata": {},
   "outputs": [],
   "source": [
    "MATCH (activity:ACTIVITY)\n",
    "OPTIONAL MATCH (activity)<-[:DEPENDS_ON]-(predecessor:ACTIVITY)\n",
    "WITH activity, COUNT(predecessor) AS incomingDependencies\n",
    "OPTIONAL MATCH path = (activity)-[:DEPENDS_ON*]->(dependent:ACTIVITY)\n",
    "WITH activity, incomingDependencies, COALESCE(MAX(LENGTH(path)), 0) AS depth\n",
    "RETURN \n",
    "    activity.name AS activityName, \n",
    "    activity.description AS description, \n",
    "    activity.duration AS duration, \n",
    "    depth, \n",
    "    incomingDependencies\n",
    "ORDER BY depth DESC, incomingDependencies ASC\n"
   ]
  },
  {
   "cell_type": "markdown",
   "metadata": {},
   "source": [
    "Early start and early finish topological ordering"
   ]
  },
  {
   "cell_type": "code",
   "execution_count": null,
   "metadata": {},
   "outputs": [],
   "source": [
    "MATCH (activity:ACTIVITY)\n",
    "OPTIONAL MATCH (activity)<-[:DEPENDS_ON]-(predecessor:ACTIVITY)\n",
    "WITH activity, COLLECT(predecessor) AS predecessors\n",
    "ORDER BY activity.depth ASC\n",
    "WITH activity,\n",
    "    REDUCE(maxFinish = 0, pred IN predecessors | \n",
    "        CASE \n",
    "            WHEN pred.earlyFinish IS NOT NULL AND pred.earlyFinish > maxFinish THEN pred.earlyFinish \n",
    "            ELSE maxFinish \n",
    "        END) AS earlyStart\n",
    "SET activity.earlyStart = COALESCE(earlyStart, 0),\n",
    "    activity.earlyFinish = COALESCE(earlyStart, 0) + activity.duration\n",
    "RETURN activity.name AS activityName, activity.earlyStart, activity.earlyFinish\n",
    "ORDER BY activity.depth ASC"
   ]
  },
  {
   "cell_type": "code",
   "execution_count": 1,
   "metadata": {},
   "outputs": [
    {
     "ename": "SyntaxError",
     "evalue": "invalid syntax (175008303.py, line 1)",
     "output_type": "error",
     "traceback": [
      "\u001b[0;36m  Cell \u001b[0;32mIn[1], line 1\u001b[0;36m\u001b[0m\n\u001b[0;31m    MATCH (activity:ACTIVITY)\u001b[0m\n\u001b[0m                   ^\u001b[0m\n\u001b[0;31mSyntaxError\u001b[0m\u001b[0;31m:\u001b[0m invalid syntax\n"
     ]
    }
   ],
   "source": [
    "\"\"\"\n",
    "MATCH (activity:ACTIVITY)\n",
    "OPTIONAL MATCH (activity)<-[:DEPENDS_ON]-(predecessor:ACTIVITY)\n",
    "WITH activity, COUNT(predecessor) AS incomingDependencies\n",
    "OPTIONAL MATCH path = (activity)-[:DEPENDS_ON*]->(dependent:ACTIVITY)\n",
    "WITH activity, incomingDependencies, COALESCE(MAX(LENGTH(path)), 0) AS depth\n",
    "RETURN \n",
    "    activity.name AS activityName, \n",
    "    activity.description AS description, \n",
    "    activity.duration AS duration, \n",
    "    depth, \n",
    "    incomingDependencies\n",
    "ORDER BY depth DESC, incomingDependencies ASC\n",
    "\n",
    "MATCH (activity:ACTIVITY)\n",
    "OPTIONAL MATCH (activity)<-[:DEPENDS_ON]-(predecessor:ACTIVITY)\n",
    "WITH activity, COLLECT(predecessor) AS predecessors\n",
    "ORDER BY activity.depth ASC\n",
    "WITH activity,\n",
    "    REDUCE(maxFinish = 0, pred IN predecessors | \n",
    "        CASE \n",
    "            WHEN pred.earlyFinish IS NOT NULL AND pred.earlyFinish > maxFinish THEN pred.earlyFinish \n",
    "            ELSE maxFinish \n",
    "        END) AS earlyStart\n",
    "SET activity.earlyStart = COALESCE(earlyStart, 0),\n",
    "    activity.earlyFinish = COALESCE(earlyStart, 0) + activity.duration\n",
    "RETURN activity.name AS activityName, activity.earlyStart, activity.earlyFinish\n",
    "ORDER BY activity.depth ASC\n",
    "\"\"\""
   ]
  },
  {
   "cell_type": "code",
   "execution_count": null,
   "metadata": {},
   "outputs": [],
   "source": []
  }
 ],
 "metadata": {
  "kernelspec": {
   "display_name": "venv",
   "language": "python",
   "name": "python3"
  },
  "language_info": {
   "codemirror_mode": {
    "name": "ipython",
    "version": 3
   },
   "file_extension": ".py",
   "mimetype": "text/x-python",
   "name": "python",
   "nbconvert_exporter": "python",
   "pygments_lexer": "ipython3",
   "version": "3.10.16"
  }
 },
 "nbformat": 4,
 "nbformat_minor": 2
}
