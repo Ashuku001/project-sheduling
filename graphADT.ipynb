{
 "cells": [
  {
   "cell_type": "markdown",
   "metadata": {},
   "source": [
    "# Graph Data structures"
   ]
  },
  {
   "cell_type": "markdown",
   "metadata": {},
   "source": [
    "Topological ordering"
   ]
  },
  {
   "cell_type": "code",
   "execution_count": null,
   "metadata": {},
   "outputs": [],
   "source": [
    "MATCH (activity:ACTIVITY)\n",
    "OPTIONAL MATCH (activity)<-[:DEPENDS_ON]-(predecessor:ACTIVITY)\n",
    "WITH activity, COUNT(predecessor) AS incomingDependencies\n",
    "OPTIONAL MATCH path = (activity)-[:DEPENDS_ON*]->(dependent:ACTIVITY)\n",
    "WITH activity, incomingDependencies, COALESCE(MAX(LENGTH(path)), 0) AS depth\n",
    "RETURN \n",
    "    activity.name AS activityName, \n",
    "    activity.description AS description, \n",
    "    activity.duration AS duration, \n",
    "    depth, \n",
    "    incomingDependencies\n",
    "ORDER BY depth DESC, incomingDependencies ASC\n"
   ]
  },
  {
   "cell_type": "markdown",
   "metadata": {},
   "source": [
    "Early start and early finish topological ordering"
   ]
  },
  {
   "cell_type": "code",
   "execution_count": null,
   "metadata": {},
   "outputs": [],
   "source": [
    "MATCH (activity:ACTIVITY)\n",
    "OPTIONAL MATCH (activity)<-[:DEPENDS_ON]-(predecessor:ACTIVITY)\n",
    "WITH activity, COLLECT(predecessor) AS predecessors\n",
    "ORDER BY activity.depth ASC\n",
    "WITH activity,\n",
    "    REDUCE(maxFinish = 0, pred IN predecessors | \n",
    "        CASE \n",
    "            WHEN pred.earlyFinish IS NOT NULL AND pred.earlyFinish > maxFinish THEN pred.earlyFinish \n",
    "            ELSE maxFinish \n",
    "        END) AS earlyStart\n",
    "SET activity.earlyStart = COALESCE(earlyStart, 0),\n",
    "    activity.earlyFinish = COALESCE(earlyStart, 0) + activity.duration\n",
    "RETURN activity.name AS activityName, activity.earlyStart, activity.earlyFinish\n",
    "ORDER BY activity.depth ASC"
   ]
  },
  {
   "cell_type": "code",
   "execution_count": 1,
   "metadata": {},
   "outputs": [
    {
     "ename": "SyntaxError",
     "evalue": "invalid syntax (175008303.py, line 1)",
     "output_type": "error",
     "traceback": [
      "\u001b[0;36m  Cell \u001b[0;32mIn[1], line 1\u001b[0;36m\u001b[0m\n\u001b[0;31m    MATCH (activity:ACTIVITY)\u001b[0m\n\u001b[0m                   ^\u001b[0m\n\u001b[0;31mSyntaxError\u001b[0m\u001b[0;31m:\u001b[0m invalid syntax\n"
     ]
    }
   ],
   "source": [
    "\"\"\"\n",
    "MATCH (activity:ACTIVITY)\n",
    "OPTIONAL MATCH (activity)<-[:DEPENDS_ON]-(predecessor:ACTIVITY)\n",
    "WITH activity, COUNT(predecessor) AS incomingDependencies\n",
    "OPTIONAL MATCH path = (activity)-[:DEPENDS_ON*]->(dependent:ACTIVITY)\n",
    "WITH activity, incomingDependencies, COALESCE(MAX(LENGTH(path)), 0) AS depth\n",
    "RETURN \n",
    "    activity.name AS activityName, \n",
    "    activity.description AS description, \n",
    "    activity.duration AS duration, \n",
    "    depth, \n",
    "    incomingDependencies\n",
    "ORDER BY depth DESC, incomingDependencies ASC\n",
    "\n",
    "MATCH (activity:ACTIVITY)\n",
    "OPTIONAL MATCH (activity)<-[:DEPENDS_ON]-(predecessor:ACTIVITY)\n",
    "WITH activity, COLLECT(predecessor) AS predecessors\n",
    "ORDER BY activity.depth ASC\n",
    "WITH activity,\n",
    "    REDUCE(maxFinish = 0, pred IN predecessors | \n",
    "        CASE \n",
    "            WHEN pred.earlyFinish IS NOT NULL AND pred.earlyFinish > maxFinish THEN pred.earlyFinish \n",
    "            ELSE maxFinish \n",
    "        END) AS earlyStart\n",
    "SET activity.earlyStart = COALESCE(earlyStart, 0),\n",
    "    activity.earlyFinish = COALESCE(earlyStart, 0) + activity.duration\n",
    "RETURN activity.name AS activityName, activity.earlyStart, activity.earlyFinish\n",
    "ORDER BY activity.depth ASC\n",
    "\"\"\""
   ]
  },
  {
   "cell_type": "code",
   "execution_count": null,
   "metadata": {},
   "outputs": [],
   "source": [
    "\"\"\"\n",
    "OPTIONAL MATCH (activity)<-[:DEPENDS_ON]-(predecessor:ACTIVITY)    \n",
    "WITH activity, predecessor, COUNT(predecessor) AS incomingDependencies     \n",
    "\n",
    "OPTIONAL MATCH path = (activity)-[:DEPENDS_ON*]->(dependent:ACTIVITY) \n",
    "WITH activity, predecessor, incomingDependencies, COALESCE(MAX(LENGTH(path)), 0) AS depth \n",
    "ORDER BY depth ASC, incomingDependencies ASC   // activity with longest chain comes first\n",
    "WITH activity, COLLECT(predecessor) AS predecessors                 // group all predecessor nodes into a list\n",
    "WITH activity,\n",
    "    REDUCE(maxFinish = 0, pred IN predecessors |                    //  Iterate over each predecessor for forward pass take max of predecessors early finish \n",
    "        CASE \n",
    "            WHEN pred.earlyFinish IS NOT NULL AND pred.earlyFinish > maxFinish THEN pred.earlyFinish  // get max early finish of predecessors\n",
    "            ELSE maxFinish \n",
    "        END) AS earlyStart                                          // the maxfinish in the predecessors will be the early start of current node  or 0 if no predecessors acc maxFinish = 0                     \n",
    "SET activity += {earlyStart: COALESCE(earlyStart, 0),\n",
    "    earlyFinish: COALESCE(earlyStart, 0) + activity.duration} \n",
    "RETURN activity.name AS activityName, activity.earlyStart, activity.earlyFinish\n",
    "ORDER BY activity.depth ASC;\"\"\""
   ]
  },
  {
   "cell_type": "code",
   "execution_count": null,
   "metadata": {},
   "outputs": [],
   "source": [
    "\"\"\"\n",
    "// initialize earlystart and early finish of the last node\n",
    "MATCH (activity:ACTIVITY)\n",
    "WHERE NOT (activity)-[:DEPENDS_ON]->()  // Find node with no outgoing relationship\n",
    "SET activity.latestFinish = activity.earlyFinish,\n",
    "    activity.latestStart = activity.latestFinish - activity.duration;\n",
    "\n",
    "// Propagate latestStart and latestFinish values backward\n",
    "MATCH (activity:ACTIVITY)\n",
    "OPTIONAL MATCH (activity)-[:DEPENDS_ON]->(successor:ACTIVITY) // Match successors\n",
    "WITH activity, \n",
    "     COLLECT(successor) AS successors                         // Group successors for each node\n",
    "ORDER BY activity.depth DESC                                  // Process nodes in reverse order of depth\n",
    "WITH activity,\n",
    "     REDUCE(minStart = activity.latestFinish, succ IN successors | \n",
    "         CASE \n",
    "             WHEN succ.latestStart IS NOT NULL AND succ.latestStart < minStart THEN succ.latestStart\n",
    "             ELSE minStart\n",
    "         END) AS latestFinish                                 // Calculate latestFinish as min(latestStart) of successors\n",
    "SET activity.latestFinish = COALESCE(latestFinish, activity.earlyFinish),\n",
    "    activity.latestStart = activity.latestFinish - activity.duration;\n",
    "\n",
    "// Step 3: Return Results\n",
    "MATCH (activity:ACTIVITY)\n",
    "RETURN activity.name AS activityName, activity.latestStart, activity.latestFinish\n",
    "ORDER BY activity.depth DESC;\n",
    "\"\"\""
   ]
  },
  {
   "cell_type": "markdown",
   "metadata": {},
   "source": [
    "topological order"
   ]
  },
  {
   "cell_type": "code",
   "execution_count": null,
   "metadata": {},
   "outputs": [],
   "source": [
    "\"\"\"// for each activity match all its predecessors\n",
    "MATCH (activity:ACTIVITY)\n",
    "OPTIONAL MATCH (activity)<-[:DEPENDS_ON]-(predecessor:ACTIVITY)\n",
    "WITH activity, COLLECT(predecessor) as predecessors\n",
    "\n",
    "// for each activity find its depth for topological order\n",
    "OPTIONAL MATCH path = (activity)-[:DEPENDS_ON*]->(dependent:ACTIVITY)\n",
    "WITH activity, COALESCE(MAX(LENGTH(path)), 0) AS depth, SIZE(predecessors) AS incomingDependencies\n",
    "ORDER BY depth DESC, incomingDependencies ASC\n",
    "\n",
    "// return results\n",
    "RETURN activity.name as name, depth, incomingDependencies\"\"\""
   ]
  }
 ],
 "metadata": {
  "kernelspec": {
   "display_name": "venv",
   "language": "python",
   "name": "python3"
  },
  "language_info": {
   "codemirror_mode": {
    "name": "ipython",
    "version": 3
   },
   "file_extension": ".py",
   "mimetype": "text/x-python",
   "name": "python",
   "nbconvert_exporter": "python",
   "pygments_lexer": "ipython3",
   "version": "3.10.16"
  }
 },
 "nbformat": 4,
 "nbformat_minor": 2
}
